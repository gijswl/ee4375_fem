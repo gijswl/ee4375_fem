{
 "cells": [
  {
   "cell_type": "code",
   "execution_count": 4,
   "id": "dramatic-hamilton",
   "metadata": {},
   "outputs": [],
   "source": [
    "using LinearAlgebra\n",
    "using SparseArrays\n",
    "\n",
    "using IterativeSolvers\n",
    "using Preconditioners\n",
    "\n",
    "using BenchmarkTools\n",
    "\n",
    "using Plots\n",
    "using LaTeXStrings"
   ]
  },
  {
   "cell_type": "code",
   "execution_count": null,
   "id": "satellite-cheat",
   "metadata": {},
   "outputs": [],
   "source": [
    "N = 0;\n",
    "A = 0;\n",
    "f = 0;\n",
    "p = 0;\n",
    "\n",
    "N_ = [10000];\n",
    "t  = zeros(length(N_), 6);\n",
    "for i = 1:length(N_)\n",
    "    N = N_[i];\n",
    "    \n",
    "    ## Setup\n",
    "    Np1 = N+1; Nm1 = N-1; Np2 = Np1*Np1; Nm2 = Nm1*Nm1; Nbnd = 4*N; h = 1/N; h2=h*h; \n",
    "\n",
    "    #..construct the 2D mesh (X) starting from the 1D mesh (x)  \n",
    "    #..observe that we make in the 2D mesh the x coordinate increase from left to right and \n",
    "    #..the y coordinate increase from top to bottom (as expected)\n",
    "    x = Vector(0:h:1); \n",
    "    y = Vector(0:h:1); \n",
    "    X = repeat(reshape(x, 1, :), length(y), 1);\n",
    "    Y = repeat(y, 1, length(x));\n",
    "\n",
    "    #..construct the mesh indicator matrix IG \n",
    "    #..this indicator matrix will allow to distinguish interior and boundary nodes \n",
    "    #..in this indicator matrix the boundary nodes are easy to identify \n",
    "    #..for interior nodes IG(i,j) = 0 and for the boundary nodes IG(i,j) = 1\n",
    "    #..next construct the indicator vector IGvec by reshaping the indicator matrix IG  \n",
    "    IG = ones(Np1,Np1); \n",
    "    IG[2:end-1,2:end-1] = zeros(Nm1,Nm1); \n",
    "    IGvec = sparse(reshape(IG,Np2,1));\n",
    "\n",
    "    #..construct array with linear indices allowing to define interior and boundary nodes \n",
    "    #..interior: index array with all indices of the interior nodes \n",
    "    #..boundary: index array with indices of all the boundary nodes \n",
    "    L = LinearIndices(IGvec); \n",
    "    interior_cartesian = findall(x->x==0,IGvec);  interior = L[interior_cartesian]; \n",
    "    boundary_cartesian = findall(x->x>0,IGvec); boundary = L[boundary_cartesian]; \n",
    "    \n",
    "    sourceterm(x,y) = - 2*x*(x-1) - 2*y*(y-1); \n",
    "    #..Evaluate fsource on each node of the grid (Xh)\n",
    "    #..Observe the use of the dot syntax to evaluate fsource in all mesh nodes in X \n",
    "    F = sourceterm.(X,Y); \n",
    "    #..Reshape the F 2D array into an f vector \n",
    "    f = reshape(F,Np2);   \n",
    "    \n",
    "    e = ones(Np1);            #..same as in 1D.. \n",
    "    e_bnd = ones(Nbnd); #..used to handle the boundary nodes \n",
    "    \n",
    "    A1    = sparse(Tridiagonal(-e[2:end], 2*e, -e[2:end]) / h2); \n",
    "    I_int = Diagonal(e); \n",
    "    I_bnd = Diagonal(e_bnd); \n",
    "    \n",
    "    A     = kron(A1,I_int) + kron(I_int,A1);\n",
    "    \n",
    "    # Boundary conditions\n",
    "    A[boundary,boundary] = I_bnd;\n",
    "    A[boundary,interior] = zeros(Nbnd, Nm2); A[interior, boundary] = zeros(Nm2, Nbnd);\n",
    "    f[boundary] = zeros(Nbnd); \n",
    "    \n",
    "    ## Benchmark\n",
    "    #bm = @benchmark A \\ f\n",
    "    #t[i, 1] = mean(bm).time;\n",
    "    \n",
    "    #p = DiagonalPreconditioner(A);\n",
    "    #bm = @benchmark cg(A, f, Pl=p, log=true)\n",
    "    #t[i, 2] = mean(bm).time;\n",
    "    \n",
    "    #p = AMGPreconditioner{RugeStuben}(A);\n",
    "    #bm = @benchmark cg(A, f, Pl=p, log=true)\n",
    "    #t[i, 3] = mean(bm).time;\n",
    "    \n",
    "    #p = AMGPreconditioner{SmoothedAggregation}(A);\n",
    "    #bm = @benchmark cg(A, f, Pl=p, log=true)\n",
    "    #t[i, 4] = mean(bm).time;\n",
    "    \n",
    "    #bm = @benchmark minres(A, f, log = true)\n",
    "    #t[i, 5] = mean(bm).time;\n",
    "    \n",
    "    p  = CholeskyPreconditioner(A, 2);\n",
    "    bm = @benchmark cg(A, f, Pl=p, log=true)\n",
    "    t[i, 6] = mean(bm).time;\n",
    "end\n",
    "\n",
    "t"
   ]
  },
  {
   "cell_type": "markdown",
   "id": "sufficient-leave",
   "metadata": {},
   "source": [
    "## Results"
   ]
  },
  {
   "cell_type": "code",
   "execution_count": 23,
   "id": "discrete-restriction",
   "metadata": {},
   "outputs": [],
   "source": [
    "# Saved computation times [ns] as a function of N\n",
    "N_ = [8, 16, 32, 64, 128];\n",
    "t = [2.84771e5 38257.8 5.30779e6 7.20529e5 17114.0 14259.0;\n",
    "     1.0926e6 4.10917e5 4.04907e7 5.5482e6 53432.6 82712.5;\n",
    "     3.84079e6 3.38527e6 1.49527e8 8.27664e7 3.52783e5 7.29705e5;\n",
    "     1.60575e7 1.70994e7 8.7514e9 1.23818e9 4.15758e6 6.15263e6;\n",
    "     5.86411e7 2.2956e8 4.22862e10 2.91611e10 1.30279e8 8.15051e7];\n",
    "\n",
    "p1 = plot(N_, t * 1e-6, yaxis = :log, shape = [:circle :rect :utriangle :utriangle :diamond :rect], xlabel = L\"N\", ylabel = \"Time [ms]\", legend = :bottomright, label = [\"Backslash\" \"DiagonalPreconditioner\" \"RugeStuben\" \"SmoothedAggregation\" \"MINRES\" \"CholeskyPreconditioner\"])\n",
    "#savefig(p1, \"preconditioner_results1.png\")"
   ]
  },
  {
   "cell_type": "code",
   "execution_count": null,
   "id": "unlikely-province",
   "metadata": {},
   "outputs": [],
   "source": []
  },
  {
   "cell_type": "markdown",
   "id": "mysterious-popularity",
   "metadata": {},
   "source": [
    "# Troubleshooting\n",
    "The Cholesky preconditioner needs the $A$ matrix to be symmetric and positive definite. The former is not the case because of interior nodes that are coupled to one or more boundary nodes."
   ]
  },
  {
   "cell_type": "code",
   "execution_count": 1,
   "id": "lined-frederick",
   "metadata": {},
   "outputs": [
    {
     "data": {
      "text/plain": [
       "5×5 Matrix{Int64}:\n",
       "  1   0   0   0   0\n",
       " -1   2  -1   0   0\n",
       "  0  -1   2  -1   0\n",
       "  0   0  -1   2  -1\n",
       "  0   0   0   0   1"
      ]
     },
     "execution_count": 1,
     "metadata": {},
     "output_type": "execute_result"
    }
   ],
   "source": [
    "A = [1 0 0 0 0; -1 2 -1 0 0; 0 -1 2 -1 0; 0 0 -1 2 -1; 0 0 0 0 1]"
   ]
  },
  {
   "cell_type": "code",
   "execution_count": 4,
   "id": "alternate-invalid",
   "metadata": {},
   "outputs": [
    {
     "data": {
      "text/plain": [
       "false"
      ]
     },
     "execution_count": 4,
     "metadata": {},
     "output_type": "execute_result"
    }
   ],
   "source": [
    "isposdef(A)"
   ]
  },
  {
   "cell_type": "markdown",
   "id": "reflected-society",
   "metadata": {},
   "source": [
    "This can be resolved easily by modifying the matrix as shown below.\n",
    "\n",
    "_This only works for boundary nodes with Dirichlet condition?_"
   ]
  },
  {
   "cell_type": "code",
   "execution_count": 5,
   "id": "domestic-repeat",
   "metadata": {},
   "outputs": [
    {
     "data": {
      "text/plain": [
       "5×5 Matrix{Int64}:\n",
       " 1   0   0   0  0\n",
       " 0   2  -1   0  0\n",
       " 0  -1   2  -1  0\n",
       " 0   0  -1   2  0\n",
       " 0   0   0   0  1"
      ]
     },
     "execution_count": 5,
     "metadata": {},
     "output_type": "execute_result"
    }
   ],
   "source": [
    "A = [1 0 0 0 0; 0 2 -1 0 0; 0 -1 2 -1 0; 0 0 -1 2 0; 0 0 0 0 1]"
   ]
  },
  {
   "cell_type": "code",
   "execution_count": 6,
   "id": "supported-strand",
   "metadata": {},
   "outputs": [
    {
     "data": {
      "text/plain": [
       "true"
      ]
     },
     "execution_count": 6,
     "metadata": {},
     "output_type": "execute_result"
    }
   ],
   "source": [
    "isposdef(A)"
   ]
  }
 ],
 "metadata": {
  "kernelspec": {
   "display_name": "Julia 1.7.1",
   "language": "julia",
   "name": "julia-1.7"
  },
  "language_info": {
   "file_extension": ".jl",
   "mimetype": "application/julia",
   "name": "julia",
   "version": "1.7.1"
  }
 },
 "nbformat": 4,
 "nbformat_minor": 5
}
