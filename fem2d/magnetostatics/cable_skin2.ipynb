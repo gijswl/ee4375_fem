{
 "cells": [
  {
   "cell_type": "markdown",
   "id": "generic-adult",
   "metadata": {},
   "source": [
    "# Skin Effect in a High-Voltage Cable\n",
    "In this notebook, a section of a high-voltage cable is simulated (taken from the COMSOL project of EE4625 - High Voltage Cable Systems). The simulation is magnetostatics including a term for induced eddy currents. \n",
    "\n",
    "## Setup"
   ]
  },
  {
   "cell_type": "markdown",
   "id": "suitable-section",
   "metadata": {},
   "source": [
    "## Theory - Eddy Currents\n",
    "To include eddy currents, the differential equations for magnetostatics must be extended with an additional term. Initially we write\n",
    "$$ \\nabla \\times (\\nu \\nabla \\times \\mathbf{A}) = \\mathbf{J} $$\n",
    "Assuming that there is only current in the $z$ direction, and that $\\mathbf{J}$ is now a combination of conduction current and induced current, we find\n",
    "$$ -\\nabla \\cdot (\\nu \\nabla A_z) = J_z + \\sigma E_z $$\n",
    "The electric field is defined as\n",
    "$$ \\mathbf{E} = -\\nabla\\phi - \\frac{\\partial \\mathbf{A}}{\\partial t} $$\n",
    "We will now make two assumptions: first, the electrical potential is zero; second, the quantities are time-harmonic. The differential equation then becomes\n",
    "$$ \\nabla \\cdot (\\nu \\nabla A_z) - j \\sigma\\omega A_z = -J_z $$\n",
    "\n",
    "## Theory - Variational Form\n",
    "This differential equation can be written in the variational form as follows\n",
    "$$ \\int_\\Omega \\nu \\nabla A_z \\cdot \\nabla v d\\Omega + j\\omega \\int_\\Omega \\sigma A_z \\cdot v d\\Omega = \\int_\\Omega J_z \\cdot v d\\Omega + \\oint_{\\Gamma_N} \\nu \\frac{\\partial A_z}{\\partial \\mathbf{n}} \\cdot v d\\Gamma \\qquad v \\in V_0 $$\n",
    "We will only use Dirichlet boundary conditions, and a symmetry condition for this problem, so the boundary integral over $\\Gamma_N$ becomes zero.\n",
    "$$ \\int_\\Omega \\nu \\nabla A_z \\cdot \\nabla v d\\Omega + j\\omega \\int_\\Omega \\sigma A_z \\cdot v d\\Omega = \\int_\\Omega J_z \\cdot v d\\Omega \\qquad v \\in V_0 $$\n",
    "\n",
    "## Theory - Field-Circuit Coupling\n",
    "If this formulation is now solved, the following phenomenon is observed. When the frequency is increased, the eddy current term will _reduce_ the total current. If the integral of the total current $J = J_z - j\\sigma\\omega A_z$ is taken, this will tend to zero as the frequency increases. This obviously cannot be true, as the total current through the cable must stay the same. Instead, the voltage across it will change.\n",
    "\n",
    "To resolve this, an additional equation is added to the system to ensure that the current is determined by the external circuit. For example, in COMSOL, this is done using a current-driven \"coil\", with the following equation.\n",
    "$$ I_{coil} = \\iint_{\\text{coil}} \\mathbf{J} \\cdot \\mathbf{e}_{\\text{coil}} d\\Omega $$\n",
    "where $\\mathbf{e}_{\\text{coil}}$ is the unit vector in the direction of the coil (i.e., out of the screen).\n",
    "\n",
    "Using the previously defined total current density (which is conduction current plus the eddy current term),\n",
    "$$ I_{coil} = \\iint_{\\text{coil}} (J_z - j\\sigma\\omega A_z) d\\Omega $$\n",
    "Here, $J_z$ is the source term, we assume this to be of the form $J_z = \\frac{I_c}{A}$, where $I_c$ is an artifical variable (which will be added to the vector of unknowns) denoting the source current, and $A$ is the cross-section of the coil. The equation then becomes\n",
    "$$ I_{coil} = I_c - j\\sigma\\omega \\iint_{\\text{coil}} A_z d\\Omega $$\n",
    "The integral can be expressed in terms of the mesh elements by\n",
    "$$ I_{coil} \\approx I_c -j\\sigma\\omega \\sum_{k = 1}^{N_{el}} \\operatorname{area}(e_k) \\cdot \\frac{1}{3} \\left[ A_{k,1} + A_{k,2} + A_{k,3} \\right] $$\n",
    "where $A_{k,i}$ is the magnetic potential $A_z$ in local node $i$ of element $k$.\n",
    "\n",
    "## Theory - Linear System Modification\n",
    "The linear system is then modified in the following way:\n",
    "$$ A \\mathbf{c} = \\mathbf{f} \\rightarrow \\tilde{A} \\tilde{c} = \\tilde{f}$$\n",
    "where the matrices are as follows.\n",
    "$$\\tilde{A} = \\begin{bmatrix}\n",
    "    A   & \\mathbf{a}_1 \\\\\n",
    "    \\mathbf{a}_2 & a_3 \\\\\n",
    "\\end{bmatrix} \\qquad \\tilde{c} = \\begin{bmatrix} \n",
    "    \\mathbf{c} \\\\ I_c\n",
    "\\end{bmatrix} \\qquad \\tilde{f} = \\begin{bmatrix}\n",
    "    \\mathbf{f} \\\\ I_{coil}\n",
    "\\end{bmatrix} $$\n",
    "The coefficients $\\mathbf{a}_1$, $\\mathbf{a}_2$, $a_3$ are determined from the field-circuit equation given above. The source term $\\mathbf{f}$ is made zero to reflect that the current density is now determined by the unknown $I_c$.\n",
    "\\begin{align*}\n",
    "    \\mathbf{a}_1 & = \\\\\n",
    "    \\mathbf{a}_2 & = \\\\\n",
    "    a_3 & = \\\\\n",
    "\\end{align*}\n",
    "\n",
    "## Theory - AC Resistance\n",
    "It is now of interest to calculate the AC resistance of the cable. This can be done by integrating the current density\n",
    "$$ R_{AC} = \\frac{1}{I_{coil}^2} \\iint_{\\text{coil}} \\frac{|J|^2}{\\sigma} d\\Omega $$"
   ]
  },
  {
   "cell_type": "markdown",
   "id": "embedded-rabbit",
   "metadata": {},
   "source": [
    "# Include Packages"
   ]
  },
  {
   "cell_type": "code",
   "execution_count": 1,
   "id": "passing-commissioner",
   "metadata": {},
   "outputs": [],
   "source": [
    "using LinearAlgebra;\n",
    "using Plots;\n",
    "\n",
    "using gmsh;\n",
    "\n",
    "using WriteVTK;"
   ]
  },
  {
   "cell_type": "markdown",
   "id": "decreased-grave",
   "metadata": {},
   "source": [
    "# Geometry"
   ]
  },
  {
   "cell_type": "code",
   "execution_count": 2,
   "id": "democratic-wichita",
   "metadata": {},
   "outputs": [],
   "source": [
    "ri = 19.1e-3;   # Cable inner radius\n",
    "ro = 37.5e-3;   # Cable outer radius\n",
    "\n",
    "lc1 = 2e-3;      # Mesh density at outside of cable\n",
    "lc2 = 0.1e-3;   # Mesh density at the conductor edge"
   ]
  },
  {
   "cell_type": "markdown",
   "id": "smoking-reserve",
   "metadata": {},
   "source": [
    "# Define Geometry in gmsh"
   ]
  },
  {
   "cell_type": "code",
   "execution_count": null,
   "id": "independent-davis",
   "metadata": {},
   "outputs": [],
   "source": [
    "gmsh.finalize()\n",
    "gmsh.initialize()\n",
    "\n",
    "gmsh.option.setNumber(\"General.Terminal\", 1)\n",
    "gmsh.model.add(\"cable_skin\")\n",
    "\n",
    "# Points\n",
    "gmsh.model.geo.addPoint(0, 0, 0, lc1, 1);\n",
    "gmsh.model.geo.addPoint(ri, 0, 0, lc2, 2);\n",
    "gmsh.model.geo.addPoint(ro, 0, 0, lc1, 3);\n",
    "gmsh.model.geo.addPoint(0, ri, 0, lc2, 4);\n",
    "gmsh.model.geo.addPoint(0, ro, 0, lc1, 5);\n",
    "\n",
    "# Lines\n",
    "gmsh.model.geo.addLine(1, 2, 1);\n",
    "gmsh.model.geo.addLine(2, 3, 2);\n",
    "gmsh.model.geo.addLine(1, 4, 3);\n",
    "gmsh.model.geo.addLine(4, 5, 4);\n",
    "gmsh.model.geo.addCircleArc(2, 1, 4, 5);\n",
    "gmsh.model.geo.addCircleArc(3, 1, 5, 6);\n",
    "\n",
    "# Surfaces\n",
    "gmsh.model.geo.addCurveLoop([1, 5, -3], 1)\n",
    "gmsh.model.geo.addCurveLoop([2, 6, -4, -5], 2)\n",
    "\n",
    "gmsh.model.geo.addPlaneSurface([1], 1)\n",
    "gmsh.model.geo.addPlaneSurface([2], 2)\n",
    "\n",
    "# Physics\n",
    "#  Dirichlet boundary on outside of cable\n",
    "gmsh.model.addPhysicalGroup(0, [3, 5], 1)\n",
    "gmsh.model.setPhysicalName(0, 1, \"D1p\")\n",
    "gmsh.model.addPhysicalGroup(1, [6], 1)\n",
    "gmsh.model.setPhysicalName(1, 1, \"D1\")\n",
    "\n",
    "#  Neumann boundary on two insides\n",
    "gmsh.model.addPhysicalGroup(0, [1, 2, 4], 2)\n",
    "gmsh.model.setPhysicalName(0, 2, \"N1p\")\n",
    "gmsh.model.addPhysicalGroup(1, [1, 2, 3, 4], 2)\n",
    "gmsh.model.setPhysicalName(1, 2, \"N1\")\n",
    "\n",
    "#  Material groups\n",
    "gmsh.model.addPhysicalGroup(2, [1], 1)\n",
    "gmsh.model.setPhysicalName(2, 1, \"conductor\")\n",
    "gmsh.model.addPhysicalGroup(2, [2], 2)\n",
    "gmsh.model.setPhysicalName(2, 2, \"insulator\")\n",
    "\n",
    "# Generate mesh\n",
    "gmsh.model.geo.synchronize()\n",
    "gmsh.model.mesh.generate(2)\n",
    "\n",
    "gmsh.write(\"cable_skin.msh\")"
   ]
  },
  {
   "cell_type": "markdown",
   "id": "decent-firewall",
   "metadata": {},
   "source": [
    "# Load Geometry"
   ]
  },
  {
   "cell_type": "code",
   "execution_count": 3,
   "id": "defensive-equity",
   "metadata": {},
   "outputs": [],
   "source": [
    "gmsh.initialize()\n",
    "gmsh.option.setNumber(\"General.Terminal\", 1)"
   ]
  },
  {
   "cell_type": "code",
   "execution_count": 4,
   "id": "prime-connectivity",
   "metadata": {},
   "outputs": [
    {
     "data": {
      "text/plain": [
       "get_mesh_data (generic function with 1 method)"
      ]
     },
     "execution_count": 4,
     "metadata": {},
     "output_type": "execute_result"
    }
   ],
   "source": [
    "# Structure for saving mesh data and passing it between functions\n",
    "struct mesh_data\n",
    "    nnodes                 # Number of nodes\n",
    "    xnode                  # x-coordinates of nodes\n",
    "    ynode                  # y-coordinates of nodes\n",
    "    \n",
    "    nelements              # Number of elements\n",
    "    element_connectivity   # Array of elements connectivity\n",
    "    e_group                # Material group of each element\n",
    "end\n",
    "\n",
    "# Load mesh data from gmsh: nodes and elements\n",
    "function get_mesh_data()\n",
    "    #..2/11 Get and sort the mesh nodes\n",
    "    #..Observe that although the mesh is two-dimensional,\n",
    "    #..the z-coordinate that is equal to zero is stored as well.\n",
    "    #..Observe that the coordinates are stored contiguously for computational\n",
    "    #..efficiency\n",
    "    node_ids, node_coord, _ = gmsh.model.mesh.getNodes()\n",
    "    nnodes = length(node_ids)\n",
    "    #..sort the node coordinates by ID, such that Node one sits at row 1\n",
    "    tosort = [node_ids node_coord[1:3:end] node_coord[2:3:end]];\n",
    "    sorted = sortslices(tosort , dims = 1);\n",
    "    node_ids = sorted[:,1]\n",
    "    xnode = sorted[:,2]\n",
    "    ynode = sorted[:,3]\n",
    "    \n",
    "    #..4/12 Get the mesh elements\n",
    "    #..observe that we get all the two-dimensional triangular elements from the mesh\n",
    "    element_types, element_ids, element_connectivity = gmsh.model.mesh.getElements(2)\n",
    "    nelements = length(element_ids[1])\n",
    "\n",
    "    #..5/12 Create groups of elements for the subdomains\n",
    "    #..for loop that creates a vector describing which physical group an element belongs to\n",
    "    ngroup1 = gmsh.model.mesh.getNodesForPhysicalGroup(2, 1)\n",
    "    ngroup2 = gmsh.model.mesh.getNodesForPhysicalGroup(2, 2)\n",
    "    e_group = zeros(1,nelements)\n",
    "    for element_id in 1:nelements\n",
    "        node1_id = element_connectivity[1][3*(element_id-1)+1]\n",
    "        node2_id = element_connectivity[1][3*(element_id-1)+2]\n",
    "        node3_id = element_connectivity[1][3*(element_id-1)+3]\n",
    "        G1 = sum(node1_id.== ngroup1[1])+sum(node2_id.== ngroup1[1])+sum(node3_id.== ngroup1[1]) # Conductor\n",
    "        G2 = sum(node1_id.== ngroup2[1])+sum(node2_id.== ngroup2[1])+sum(node3_id.== ngroup2[1]) # Insulator\n",
    "        if G1 == 3\n",
    "            e_group[element_id] = 1;\n",
    "        elseif G2 == 3\n",
    "            e_group[element_id] = 2;\n",
    "        end\n",
    "    end\n",
    "    \n",
    "    return mesh_data(nnodes, xnode, ynode, nelements, element_connectivity, e_group)\n",
    "end"
   ]
  },
  {
   "cell_type": "code",
   "execution_count": 5,
   "id": "revised-fortune",
   "metadata": {},
   "outputs": [
    {
     "name": "stdout",
     "output_type": "stream",
     "text": [
      "Info    : Reading 'cable_skin.msh'...\n",
      "Info    : 13 entities\n",
      "Info    : 7673 nodes\n",
      "Info    : 15349 elements\n",
      "Info    : Done reading 'cable_skin.msh'\n"
     ]
    }
   ],
   "source": [
    "gmsh.open(\"cable_skin.msh\")\n",
    "mshdata = get_mesh_data();"
   ]
  },
  {
   "cell_type": "markdown",
   "id": "arctic-focus",
   "metadata": {},
   "source": [
    "# Define material & source functions"
   ]
  },
  {
   "cell_type": "code",
   "execution_count": 43,
   "id": "decent-connection",
   "metadata": {},
   "outputs": [],
   "source": [
    "I = 1000;              # Current in the cable [A]\n",
    "\n",
    "mu0 = 4*pi*1e-7;       # Permeability of vacuum\n",
    "omega = 2*pi*50;       # Frequency of the time-harmonic current\n",
    "\n",
    "sigma_cond = 3.69e7;   # Conductivity of the aluminium conductor"
   ]
  },
  {
   "cell_type": "code",
   "execution_count": 44,
   "id": "distributed-spouse",
   "metadata": {},
   "outputs": [],
   "source": [
    "#..6/12 Define the source function and the reluctivity function\n",
    "Jsource = I / (pi * ri*ri);\n",
    "sourcefunction(group_id) = Jsource * (group_id == 1)\n",
    "sourceperelement = map(sourcefunction, mshdata.e_group);\n",
    "\n",
    "reluctivityfunction(group_id) = 1/ mu0;\n",
    "reluctivityperelement = map(reluctivityfunction, mshdata.e_group);\n",
    "\n",
    "conductivityfunction(group_id) = sigma_cond * (group_id == 1)\n",
    "conductivityperelement = map(conductivityfunction, mshdata.e_group);"
   ]
  },
  {
   "cell_type": "markdown",
   "id": "sixth-ordinance",
   "metadata": {},
   "source": [
    "# FEM Solution"
   ]
  },
  {
   "cell_type": "code",
   "execution_count": 45,
   "id": "yellow-consistency",
   "metadata": {},
   "outputs": [],
   "source": [
    "#..7/12 initialize global matrix A and global vector f\n",
    "#..observe that for simplicity we use dense matrix here\n",
    "N = mshdata.nnodes + 1;\n",
    "A = zeros(Complex{Float64}, N, N)\n",
    "f = zeros(Complex{Float64}, N, 1)\n",
    "\n",
    "element_connectivity = mshdata.element_connectivity;\n",
    "xnode = mshdata.xnode;\n",
    "ynode = mshdata.ynode;\n",
    "\n",
    "#..8/12 Perform a loop over the elements\n",
    "for element_id in 1:mshdata.nelements\n",
    "    #....retrieve global numbering of the local nodes of the current element\n",
    "    node1_id = element_connectivity[1][3*(element_id-1)+1]\n",
    "    node2_id = element_connectivity[1][3*(element_id-1)+2]\n",
    "    node3_id = element_connectivity[1][3*(element_id-1)+3]\n",
    "\n",
    "    #....retrieve the x and y coordinates of the local nodes of the current element\n",
    "    xnode1 = xnode[node1_id]; xnode2 = xnode[node2_id]; xnode3 = xnode[node3_id];\n",
    "    ynode1 = ynode[node1_id]; ynode2 = ynode[node2_id]; ynode3 = ynode[node3_id];\n",
    "\n",
    "    #....compute surface area of the current element\n",
    "    x12 = xnode2 - xnode1; x13 = xnode3-xnode1;\n",
    "    y12 = ynode2 - ynode1; y13 = ynode3-ynode1;\n",
    "    area_id = x12*y13 - x13*y12; area_id = abs(area_id)/2\n",
    "\n",
    "    #....compute local vector contribution floc of the current element\n",
    "    #floc = area_id/3*sourceperelement[element_id]*[1; 1; 1]\n",
    "\n",
    "    #....compute local matrix contribution Aloc of the current element\n",
    "    Emat = [[xnode1;xnode2;xnode3] [ynode1;ynode2;ynode3] [1;1;1]] \\ UniformScaling(1.);\n",
    "    Emat[3,:] .= 0;\n",
    "    Bloc = area_id*reluctivityperelement[element_id]*(transpose(Emat)*Emat);\n",
    "    Cloc = 1im * area_id / 3 * conductivityperelement[element_id] * omega * Diagonal(ones(3));\n",
    "\n",
    "    #....add local contribution to f and A\n",
    "    idx = element_connectivity[1][3 * (element_id - 1) .+ (1:3)];\n",
    "    #f[I]   += floc;\n",
    "    A[idx,idx] += (Bloc + Cloc);\n",
    "    \n",
    "    # Modify A and f with circuit equation\n",
    "    f[N] = I / 4;\n",
    "    if(mshdata.e_group[element_id] == 1)\n",
    "        A[idx,end] += -4/(pi*ri*ri) * area_id/3 * [1;1;1];\n",
    "        A[end,idx] += -1im * omega * conductivityperelement[element_id] * area_id/3 * [1;1;1];\n",
    "    end\n",
    "end\n",
    "A[end,end] = 1;\n",
    "\n",
    "#..9/12 Handle the boundary conditions\n",
    "#..retrieve boundary nodes by loop over corner point and boundary edges\n",
    "node_ids1, node_coord, _ = gmsh.model.mesh.getNodes(0,3)\n",
    "node_ids2, node_coord, _ = gmsh.model.mesh.getNodes(0,5)\n",
    "node_ids3, node_coord, _ = gmsh.model.mesh.getNodes(1,6)\n",
    "bnd_node_ids = union(node_ids1,node_ids2,node_ids3)\n",
    "A[bnd_node_ids,:] .= 0;\n",
    "A[bnd_node_ids,bnd_node_ids] = Diagonal(ones(size(bnd_node_ids)))\n",
    "f[bnd_node_ids] .= 0;\n",
    "\n",
    "#..10/12 Compute the numerical solution\n",
    "u = A \\ f;"
   ]
  },
  {
   "cell_type": "markdown",
   "id": "rational-chemical",
   "metadata": {},
   "source": [
    "# Post-processing"
   ]
  },
  {
   "cell_type": "code",
   "execution_count": 46,
   "id": "bottom-moisture",
   "metadata": {},
   "outputs": [],
   "source": [
    "xel = zeros(mshdata.nelements);\n",
    "yel = zeros(mshdata.nelements);\n",
    "Jel = zeros(Complex{Float64}, mshdata.nelements);\n",
    "\n",
    "Ic  = 0;\n",
    "Rac = 0;\n",
    "for element_id in 1:mshdata.nelements\n",
    "    #....retrieve global numbering of the local nodes of the current element\n",
    "    node1_id = element_connectivity[1][3*(element_id-1)+1]\n",
    "    node2_id = element_connectivity[1][3*(element_id-1)+2]\n",
    "    node3_id = element_connectivity[1][3*(element_id-1)+3]\n",
    "\n",
    "    #....retrieve the x and y coordinates of the local nodes of the current element\n",
    "    xnode1 = xnode[node1_id]; xnode2 = xnode[node2_id]; xnode3 = xnode[node3_id];\n",
    "    ynode1 = ynode[node1_id]; ynode2 = ynode[node2_id]; ynode3 = ynode[node3_id];\n",
    "    \n",
    "    #....compute surface area of the current element\n",
    "    x12 = xnode2 - xnode1; x13 = xnode3-xnode1;\n",
    "    y12 = ynode2 - ynode1; y13 = ynode3-ynode1;\n",
    "    area_id = x12*y13 - x13*y12; area_id = abs(area_id)/2\n",
    "    \n",
    "    xel[element_id] = (xnode1 + xnode2 + xnode3) / 3;\n",
    "    yel[element_id] = (ynode1 + ynode2 + ynode3) / 3;\n",
    "    if(mshdata.e_group[element_id] == 1)\n",
    "        Jel[element_id] = 4*u[end] / (pi * ri*ri) - 1im * omega * conductivityperelement[element_id] * 1/3 * sum(u[[node1_id, node2_id, node3_id]]);\n",
    "        Ic  = Ic + Jel[element_id] * area_id * 4;\n",
    "        Rac = Rac + norm(Jel[element_id])^2 / conductivityperelement[element_id] * area_id;\n",
    "    end\n",
    "end\n",
    "\n",
    "Rac = real(4 * Rac / Ic^2);"
   ]
  },
  {
   "cell_type": "code",
   "execution_count": 47,
   "id": "conceptual-increase",
   "metadata": {},
   "outputs": [
    {
     "data": {
      "text/plain": [
       "999.9948625218425"
      ]
     },
     "execution_count": 47,
     "metadata": {},
     "output_type": "execute_result"
    }
   ],
   "source": [
    "norm(Ic)"
   ]
  },
  {
   "cell_type": "code",
   "execution_count": 48,
   "id": "facial-circus",
   "metadata": {},
   "outputs": [
    {
     "data": {
      "text/plain": [
       "2.6756438807431834e-5"
      ]
     },
     "execution_count": 48,
     "metadata": {},
     "output_type": "execute_result"
    }
   ],
   "source": [
    "Rac"
   ]
  },
  {
   "cell_type": "markdown",
   "id": "guilty-publisher",
   "metadata": {},
   "source": [
    "# Write to VTK"
   ]
  },
  {
   "cell_type": "code",
   "execution_count": 27,
   "id": "loaded-perception",
   "metadata": {},
   "outputs": [],
   "source": [
    "# Define nodes (points) and elements (cells)\n",
    "points = [mshdata.xnode mshdata.ynode]';\n",
    "cells = [MeshCell(VTKCellTypes.VTK_TRIANGLE, mshdata.element_connectivity[1][3*(i-1).+(1:3)]) for i = 1:mshdata.nelements];\n",
    "\n",
    "# Create VTK file structure using nodes and elements\n",
    "vtkfile = vtk_grid(\"cable_skin2.vtu\", points, cells);\n",
    "\n",
    "# Store data in the VTK file\n",
    "vtkfile[\"A\", VTKPointData()] = norm.(u[1:end-1]);\n",
    "vtkfile[\"J\", VTKCellData()]  = norm.(Jel);\n",
    "\n",
    "# Save the file\n",
    "outfiles = vtk_save(vtkfile);"
   ]
  }
 ],
 "metadata": {
  "kernelspec": {
   "display_name": "Julia 1.7.1",
   "language": "julia",
   "name": "julia-1.7"
  },
  "language_info": {
   "file_extension": ".jl",
   "mimetype": "application/julia",
   "name": "julia",
   "version": "1.7.1"
  }
 },
 "nbformat": 4,
 "nbformat_minor": 5
}
