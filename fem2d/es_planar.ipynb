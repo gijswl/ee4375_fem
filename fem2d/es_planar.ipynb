{
 "cells": [
  {
   "cell_type": "code",
   "execution_count": 2,
   "id": "swedish-element",
   "metadata": {},
   "outputs": [],
   "source": [
    "using LinearAlgebra\n",
    "\n",
    "using GR\n",
    "using Plots\n",
    "using LaTeXStrings\n",
    "\n",
    "using gmsh"
   ]
  },
  {
   "cell_type": "markdown",
   "id": "informational-wayne",
   "metadata": {},
   "source": [
    "# Generate Mesh"
   ]
  },
  {
   "cell_type": "code",
   "execution_count": 22,
   "id": "raising-appearance",
   "metadata": {},
   "outputs": [
    {
     "name": "stdout",
     "output_type": "stream",
     "text": [
      "Info    : Meshing 1D...\n",
      "Info    : [  0%] Meshing curve 1 (Line)\n",
      "Info    : [ 20%] Meshing curve 2 (Line)\n",
      "Info    : [ 30%] Meshing curve 3 (Line)\n",
      "Info    : [ 50%] Meshing curve 4 (Line)\n",
      "Info    : [ 60%] Meshing curve 5 (Line)\n",
      "Info    : [ 80%] Meshing curve 6 (Line)\n",
      "Info    : [ 90%] Meshing curve 7 (Line)\n",
      "Info    : Done meshing 1D (Wall 0.0129671s, CPU 0.015625s)\n",
      "Info    : Meshing 2D...\n",
      "Info    : [  0%] Meshing surface 1 (Plane, Frontal-Delaunay)\n",
      "Info    : [ 50%] Meshing surface 2 (Plane, Frontal-Delaunay)\n",
      "Info    : Done meshing 2D (Wall 0.0852869s, CPU 0.078125s)\n",
      "Info    : 1389 nodes 2882 elements\n",
      "Info    : Writing 'es_planar.msh'...\n",
      "Info    : Done writing 'es_planar.msh'\n"
     ]
    },
    {
     "name": "stderr",
     "output_type": "stream",
     "text": [
      "Warning : Unknown entity of dimension 2 and tag 1 in physical group 1\n",
      "Warning : Unknown entity of dimension 2 and tag 2 in physical group 2\n",
      "Warning : Unknown entity of dimension 1 and tag 1 in physical group 1\n",
      "Warning : Unknown entity of dimension 0 and tag 1 in physical group 1\n",
      "Warning : Unknown entity of dimension 0 and tag 2 in physical group 1\n",
      "Warning : Unknown entity of dimension 1 and tag 6 in physical group 2\n",
      "Warning : Unknown entity of dimension 0 and tag 3 in physical group 2\n",
      "Warning : Unknown entity of dimension 0 and tag 4 in physical group 2\n",
      "Warning : Unknown entity of dimension 1 and tag 2 in physical group 3\n",
      "Warning : Unknown entity of dimension 1 and tag 4 in physical group 3\n",
      "Warning : Unknown entity of dimension 1 and tag 5 in physical group 3\n",
      "Warning : Unknown entity of dimension 1 and tag 7 in physical group 3\n"
     ]
    }
   ],
   "source": [
    "gmsh.finalize()\n",
    "gmsh.initialize()\n",
    "gmsh.option.setNumber(\"General.Terminal\", 1)\n",
    "gmsh.model.add(\"t1\")\n",
    "\n",
    "lc = 1e-1\n",
    "lc2 = 0.1e-1\n",
    "\n",
    "gmsh.model.geo.addPoint(0, 0, 0, lc, 1)\n",
    "gmsh.model.geo.addPoint(1., 0,  0, lc, 2)\n",
    "gmsh.model.geo.addPoint(1., 1., 0, lc, 3)\n",
    "gmsh.model.geo.addPoint(0, 1., 0, lc, 4)\n",
    "gmsh.model.geo.addPoint(0, 0.5, 0, lc2, 5)\n",
    "gmsh.model.geo.addPoint(1, 0.5, 0, lc2, 6)\n",
    "\n",
    "gmsh.model.geo.addLine(1, 2, 1)\n",
    "gmsh.model.geo.addLine(2, 6, 2)\n",
    "gmsh.model.geo.addLine(6, 5, 3)\n",
    "gmsh.model.geo.addLine(5, 1, 4)\n",
    "gmsh.model.geo.addLine(6, 3, 5)\n",
    "gmsh.model.geo.addLine(3, 4, 6)\n",
    "gmsh.model.geo.addLine(4, 5, 7)\n",
    "\n",
    "gmsh.model.geo.addCurveLoop([1,2,3,4], 1)\n",
    "gmsh.model.geo.addCurveLoop([-3,5,6,7], 2)\n",
    "\n",
    "gmsh.model.geo.addPlaneSurface([1], 1)\n",
    "gmsh.model.geo.addPlaneSurface([2], 2)\n",
    "\n",
    "# Domains\n",
    "gmsh.model.addPhysicalGroup(2, [1], 1)\n",
    "gmsh.model.addPhysicalGroup(2, [2], 2)\n",
    "\n",
    "# Boundaries\n",
    "gmsh.model.addPhysicalGroup(1, [1], 1)\n",
    "gmsh.model.setPhysicalName(1, 1, \"D1\")\n",
    "gmsh.model.addPhysicalGroup(0, [1, 2], 1)\n",
    "gmsh.model.setPhysicalName(0, 1, \"D1p\")\n",
    "\n",
    "gmsh.model.addPhysicalGroup(1, [6], 2)\n",
    "gmsh.model.setPhysicalName(1, 2, \"D2\")\n",
    "gmsh.model.addPhysicalGroup(0, [3, 4], 2)\n",
    "gmsh.model.setPhysicalName(0, 2, \"D2p\")\n",
    "\n",
    "gmsh.model.addPhysicalGroup(1, [2, 4, 5, 7], 3)\n",
    "gmsh.model.setPhysicalName(1, 3, \"N1\")\n",
    "\n",
    "gmsh.model.geo.synchronize()\n",
    "gmsh.model.mesh.generate(2)\n",
    "\n",
    "gmsh.write(\"es_planar.msh\")"
   ]
  },
  {
   "cell_type": "code",
   "execution_count": 23,
   "id": "infinite-middle",
   "metadata": {
    "scrolled": false
   },
   "outputs": [
    {
     "name": "stdout",
     "output_type": "stream",
     "text": [
      "-------------------------------------------------------\n",
      "Version       : 4.9.4\n",
      "License       : GNU General Public License\n",
      "Build OS      : Windows64-sdk\n",
      "Build date    : 20220203\n",
      "Build host    : gmsh.info\n",
      "Build options : 64Bit ALGLIB[contrib] ANN[contrib] Bamg Blas[petsc] Blossom Cgns DIntegration DomHex Eigen[contrib] Fltk Gmm[contrib] Hxt Jpeg Kbipack Lapack[petsc] MathEx[contrib] Med Mesh Metis[contrib] Mmg Mpeg Netgen NoSocklenT ONELAB ONELABMetamodel OpenCASCADE OpenCASCADE-CAF OpenGL OpenMP OptHom PETSc Parser Plugins Png Post QuadMeshingTools QuadTri Solver TetGen/BR Voro++[contrib] WinslowUntangler Zlib\n",
      "FLTK version  : 1.4.0\n",
      "PETSc version : 3.15.0 (real arithmtic)\n",
      "OCC version   : 7.6.0\n",
      "MED version   : 4.1.0\n",
      "Packaged by   : nt authority system\n",
      "Web site      : https://gmsh.info\n",
      "Issue tracker : https://gitlab.onelab.info/gmsh/gmsh/issues\n",
      "-------------------------------------------------------\n"
     ]
    }
   ],
   "source": [
    "gmsh.fltk.run();"
   ]
  },
  {
   "cell_type": "code",
   "execution_count": 4,
   "id": "signed-colombia",
   "metadata": {},
   "outputs": [],
   "source": [
    "#..2/11 Get and sort the mesh nodes\n",
    "#..Observe that although the mesh is two-dimensional,\n",
    "#..the z-coordinate that is equal to zero is stored as well.\n",
    "#..Observe that the coordinates are stored contiguously for computational\n",
    "#..efficiency\n",
    "node_ids, node_coord, _ = gmsh.model.mesh.getNodes()\n",
    "nnodes = length(node_ids)\n",
    "#..sort the node coordinates by ID, such that Node one sits at row 1\n",
    "tosort = [node_ids node_coord[1:3:end] node_coord[2:3:end]];\n",
    "sorted = sortslices(tosort , dims = 1);\n",
    "node_ids = sorted[:,1];\n",
    "xnode = sorted[:,2];\n",
    "ynode = sorted[:,3];\n",
    "\n",
    "#trisurf(xnode, ynode, ones(length(xnode)))"
   ]
  },
  {
   "cell_type": "markdown",
   "id": "atomic-cleaner",
   "metadata": {},
   "source": [
    "# 2D FEM"
   ]
  },
  {
   "cell_type": "code",
   "execution_count": 6,
   "id": "supposed-wrapping",
   "metadata": {},
   "outputs": [
    {
     "data": {
      "text/plain": [
       "bnd_neumann (generic function with 1 method)"
      ]
     },
     "execution_count": 6,
     "metadata": {},
     "output_type": "execute_result"
    }
   ],
   "source": [
    "function bnd_dirichlet(A, f, n, e, u)\n",
    "    nids_n = gmsh.model.mesh.getNodes.(0, n);\n",
    "    nids_e = gmsh.model.mesh.getNodes.(1, e);\n",
    "    \n",
    "    nids = [nids_n[i][1][1] for i = 1:length(nids_n)];\n",
    "    for i = 1:length(nids_e)\n",
    "        nids = vcat(nids, nids_e[i][1])\n",
    "    end\n",
    "    \n",
    "    A[nids,:]    .= 0;\n",
    "    A[nids,nids]  = Diagonal(ones(size(nids)))\n",
    "    f[nids]      .= u;\n",
    "    \n",
    "    return A, f;\n",
    "end\n",
    "\n",
    "function bnd_neumann(A, f, n, e, up)\n",
    "    nids_n = gmsh.model.mesh.getNodes.(0, n);\n",
    "    nids_e = gmsh.model.mesh.getNodes.(1, e);\n",
    "    \n",
    "    nids = [nids_n[i][1][1] for i = 1:length(nids_n)];\n",
    "    for i = 1:length(nids_e)\n",
    "        nids = vcat(nids, nids_e[i][1])\n",
    "    end\n",
    "    \n",
    "    f[nids] .+= up;\n",
    "    \n",
    "    return A, f;\n",
    "end"
   ]
  },
  {
   "cell_type": "code",
   "execution_count": 24,
   "id": "vocal-technique",
   "metadata": {},
   "outputs": [],
   "source": [
    "#..4/11 Get the mesh elements\n",
    "#..observe that we get all the two-dimensional triangular elements from the mesh\n",
    "element_types, element_ids, element_connectivity = gmsh.model.mesh.getElements(2)\n",
    "nelements = length(element_ids[1])\n",
    "\n",
    "#..5/11 Define the source function and apply the source function to the local coordinates\n",
    "sourcefunction(x,y) = 0;\n",
    "cfun(x,y) = 3 * (y < 0.5) + 1 * (y >= 0.5);\n",
    "fvalues = map(sourcefunction, xnode, ynode)\n",
    "\n",
    "#..6/11 initialize global matrix A and global vector f\n",
    "#..observe that for simplicity we use dense matrix here\n",
    "A = zeros(nnodes,nnodes)\n",
    "f = zeros(nnodes,1)\n",
    "\n",
    "#..7/11 Perform a loop over the elements\n",
    "for element_id in 1:nelements\n",
    "    #....retrieve global numbering of the local nodes of the current element\n",
    "    node1_id = element_connectivity[1][3*(element_id-1)+1]\n",
    "    node2_id = element_connectivity[1][3*(element_id-1)+2]\n",
    "    node3_id = element_connectivity[1][3*(element_id-1)+3]\n",
    "\n",
    "    #....retrieve the x and y coordinates of the local nodes of the current element\n",
    "    xnode1 = xnode[node1_id]; xnode2 = xnode[node2_id]; xnode3 = xnode[node3_id];\n",
    "    ynode1 = ynode[node1_id]; ynode2 = ynode[node2_id]; ynode3 = ynode[node3_id];\n",
    "\n",
    "    #....compute surface area of the current element\n",
    "    x12 = xnode2 - xnode1; x13 = xnode3-xnode1;\n",
    "    y12 = ynode2 - ynode1; y13 = ynode3-ynode1;\n",
    "    area_id = x12*y13 - x13*y12; area_id = abs(area_id)/2\n",
    "\n",
    "    #....compute local vector contribution floc of the current element\n",
    "    floc = area_id / 3 * [fvalues[node1_id]; fvalues[node2_id]; fvalues[node3_id]]\n",
    "\n",
    "    #....compute local matrix contribution Aloc of the current element\n",
    "    Emat = [[xnode1;xnode2;xnode3] [ynode1;ynode2;ynode3] [1;1;1]] \\ UniformScaling(1.);\n",
    "    Emat[3,:] .= 0;\n",
    "    Aloc = area_id * (transpose(Emat) * Emat);\n",
    "    Aloc = Aloc * 1/3 * (cfun(xnode1, ynode1) + cfun(xnode2, ynode2) + cfun(xnode3, ynode3))\n",
    "    \n",
    "    #....add local contribution to f and A\n",
    "    I      = element_connectivity[1][3 * (element_id - 1) .+ (1:3)];\n",
    "    f[I]   += floc;\n",
    "    A[I,I] += Aloc;\n",
    "end\n",
    "\n",
    "#..8/11 Handle the boundary conditions\n",
    "#..retrieve boundary nodes by loop over corner point and boundary edges\n",
    "A, f = bnd_dirichlet(A, f, [1, 2], [1], 0);\n",
    "A, f = bnd_dirichlet(A, f, [3, 4], [6], 1);\n",
    "A, f = bnd_neumann(A, f, [5, 6], [2, 4, 5, 7], 0);\n",
    "\n",
    "#..9/11 Compute the numerical solution\n",
    "u = A \\ f;\n",
    "\n",
    "#..10/11 Plot the numerical solution\n",
    "#tricont(xnode,ynode,u)\n",
    "#trisurf(xnode,ynode,u)"
   ]
  },
  {
   "cell_type": "code",
   "execution_count": 25,
   "id": "mental-printer",
   "metadata": {},
   "outputs": [],
   "source": [
    "E = zeros(nelements);\n",
    "for element_id in 1:nelements\n",
    "    #....retrieve global numbering of the local nodes of the current element\n",
    "    node1_id = element_connectivity[1][3*(element_id-1)+1]\n",
    "    node2_id = element_connectivity[1][3*(element_id-1)+2]\n",
    "    node3_id = element_connectivity[1][3*(element_id-1)+3]\n",
    "\n",
    "    #....retrieve the x and y coordinates of the local nodes of the current element\n",
    "    xnode1 = xnode[node1_id]; xnode2 = xnode[node2_id]; xnode3 = xnode[node3_id];\n",
    "    ynode1 = ynode[node1_id]; ynode2 = ynode[node2_id]; ynode3 = ynode[node3_id];\n",
    "\n",
    "    #....compute local matrix contribution Aloc of the current element\n",
    "    Emat = [[xnode1;xnode2;xnode3] [ynode1;ynode2;ynode3] [1;1;1]] \\ UniformScaling(1.);\n",
    "    Emat[3,:] .= 0;\n",
    "    \n",
    "    c1 = u[node1_id];\n",
    "    c2 = u[node2_id];\n",
    "    c3 = u[node3_id];\n",
    "    \n",
    "    Ex = c1 * Emat[1,1] + c2 * Emat[1, 2] + c3 * Emat[1, 3];\n",
    "    Ey = c1 * Emat[2,1] + c2 * Emat[2, 2] + c3 * Emat[2, 3];\n",
    "    E[element_id] = sqrt(Ex^2 + Ey^2);\n",
    "end"
   ]
  },
  {
   "cell_type": "code",
   "execution_count": null,
   "id": "aboriginal-prime",
   "metadata": {},
   "outputs": [],
   "source": []
  },
  {
   "cell_type": "code",
   "execution_count": 26,
   "id": "earned-queens",
   "metadata": {},
   "outputs": [],
   "source": [
    "using WriteVTK"
   ]
  },
  {
   "cell_type": "code",
   "execution_count": 27,
   "id": "abroad-ideal",
   "metadata": {},
   "outputs": [],
   "source": [
    "cells = [MeshCell(VTKCellTypes.VTK_TRIANGLE, element_connectivity[1][3*(i-1).+(1:3)]) for i = 1:nelements];\n",
    "points = [xnode ynode]';"
   ]
  },
  {
   "cell_type": "code",
   "execution_count": 28,
   "id": "similar-shift",
   "metadata": {},
   "outputs": [],
   "source": [
    "vtkfile = vtk_grid(\"es_planar.vtu\", points, cells);\n",
    "vtkfile[\"V\", VTKPointData()] = u';\n",
    "vtkfile[\"E\", VTKCellData()] = E;\n",
    "outfiles = vtk_save(vtkfile);"
   ]
  },
  {
   "cell_type": "code",
   "execution_count": null,
   "id": "fatty-hartford",
   "metadata": {},
   "outputs": [],
   "source": []
  },
  {
   "cell_type": "code",
   "execution_count": null,
   "id": "vertical-departure",
   "metadata": {},
   "outputs": [],
   "source": []
  },
  {
   "cell_type": "code",
   "execution_count": 3,
   "id": "designing-moral",
   "metadata": {},
   "outputs": [],
   "source": [
    "using Gridap\n",
    "using GridapGmsh"
   ]
  },
  {
   "cell_type": "code",
   "execution_count": 26,
   "id": "entertaining-yesterday",
   "metadata": {},
   "outputs": [
    {
     "name": "stdout",
     "output_type": "stream",
     "text": [
      "Info    : Reading 'es_planar.msh'...\n",
      "Info    : 15 entities\n",
      "Info    : 1389 nodes\n",
      "Info    : 2780 elements\n",
      "Info    : Done reading 'es_planar.msh'\n"
     ]
    }
   ],
   "source": [
    "# Build geometry using CartesianDiscreteModel\n",
    "model = GmshDiscreteModel(\"es_planar.msh\")\n",
    "\n",
    "# Create a reference finite element space to use for the construction of test space V0\n",
    "#  The FE space is Lagrangian and of order 1\n",
    "order = 1\n",
    "reffe = ReferenceFE(lagrangian, Float64, order);\n",
    "# The test space is created from the reference FE with\n",
    "#  conformity = H1: shape functions are continuous\n",
    "#  D1 and D2 being the boundary points with Dirichlet condition applied\n",
    "V0 = TestFESpace(model, reffe; conformity = :H1, dirichlet_tags = [\"D1\", \"D1p\", \"D2\", \"D2p\"]);\n",
    "\n",
    "# Trial space is constructed from the test space\n",
    "#  the [0, 1] indicates the values of the Dirichlet condition at D1 and D2\n",
    "Ug = TrialFESpace(V0, [0, 0, 1, 1]);\n",
    "\n",
    "# Triangulation of the domain\n",
    "#  degree must be at least 2 times the order of the reference space\n",
    "degree = 2 * order;\n",
    "Ω = Triangulation(model);\n",
    "dΩ = Measure(Ω, degree);"
   ]
  },
  {
   "cell_type": "code",
   "execution_count": 27,
   "id": "tired-protocol",
   "metadata": {},
   "outputs": [],
   "source": [
    "# Define source function and variable diffusion coefficient\n",
    "fsource(x) = 0;\n",
    "cfun(x) = 3 * (x[2] < 0.5) + 1 * (x[2] >= 0.5);\n",
    "\n",
    "# Construct weak form\n",
    "lhs(u,v) = ∫( cfun * ∇(v) ⋅ ∇(u) )dΩ;\n",
    "rhs(v)   = ∫( v * fsource  )dΩ; #+ ∫( cfun * ∇(u) * v)dΓ;\n",
    "\n",
    "# Construct FE operator with LHS, RHS, and test and trial spaces\n",
    "op = AffineFEOperator(lhs, rhs, Ug, V0);\n",
    "\n",
    "# Solve the linear FE system with LU solver\n",
    "ls = LUSolver()\n",
    "solver = LinearFESolver(ls)\n",
    "\n",
    "uh = solve(solver, op);"
   ]
  },
  {
   "cell_type": "code",
   "execution_count": 57,
   "id": "shaped-figure",
   "metadata": {},
   "outputs": [
    {
     "data": {
      "image/svg+xml": [
       "<?xml version=\"1.0\" encoding=\"utf-8\"?>\n",
       "<svg xmlns=\"http://www.w3.org/2000/svg\" xmlns:xlink=\"http://www.w3.org/1999/xlink\" width=\"600\" height=\"400\" viewBox=\"0 0 2400 1600\">\n",
       "<defs>\n",
       "  <clipPath id=\"clip810\">\n",
       "    <rect x=\"0\" y=\"0\" width=\"2400\" height=\"1600\"/>\n",
       "  </clipPath>\n",
       "</defs>\n",
       "<path clip-path=\"url(#clip810)\" d=\"\n",
       "M0 1600 L2400 1600 L2400 0 L0 0  Z\n",
       "  \" fill=\"#ffffff\" fill-rule=\"evenodd\" fill-opacity=\"1\"/>\n",
       "<defs>\n",
       "  <clipPath id=\"clip811\">\n",
       "    <rect x=\"480\" y=\"0\" width=\"1681\" height=\"1600\"/>\n",
       "  </clipPath>\n",
       "</defs>\n",
       "<path clip-path=\"url(#clip810)\" d=\"\n",
       "M156.112 1486.45 L2352.76 1486.45 L2352.76 47.2441 L156.112 47.2441  Z\n",
       "  \" fill=\"#ffffff\" fill-rule=\"evenodd\" fill-opacity=\"1\"/>\n",
       "<defs>\n",
       "  <clipPath id=\"clip812\">\n",
       "    <rect x=\"156\" y=\"47\" width=\"2198\" height=\"1440\"/>\n",
       "  </clipPath>\n",
       "</defs>\n",
       "<polyline clip-path=\"url(#clip812)\" style=\"stroke:#000000; stroke-linecap:butt; stroke-linejoin:round; stroke-width:2; stroke-opacity:0.1; fill:none\" points=\"\n",
       "  218.281,1486.45 218.281,47.2441 \n",
       "  \"/>\n",
       "<polyline clip-path=\"url(#clip812)\" style=\"stroke:#000000; stroke-linecap:butt; stroke-linejoin:round; stroke-width:2; stroke-opacity:0.1; fill:none\" points=\"\n",
       "  736.358,1486.45 736.358,47.2441 \n",
       "  \"/>\n",
       "<polyline clip-path=\"url(#clip812)\" style=\"stroke:#000000; stroke-linecap:butt; stroke-linejoin:round; stroke-width:2; stroke-opacity:0.1; fill:none\" points=\"\n",
       "  1254.43,1486.45 1254.43,47.2441 \n",
       "  \"/>\n",
       "<polyline clip-path=\"url(#clip812)\" style=\"stroke:#000000; stroke-linecap:butt; stroke-linejoin:round; stroke-width:2; stroke-opacity:0.1; fill:none\" points=\"\n",
       "  1772.51,1486.45 1772.51,47.2441 \n",
       "  \"/>\n",
       "<polyline clip-path=\"url(#clip812)\" style=\"stroke:#000000; stroke-linecap:butt; stroke-linejoin:round; stroke-width:2; stroke-opacity:0.1; fill:none\" points=\"\n",
       "  2290.59,1486.45 2290.59,47.2441 \n",
       "  \"/>\n",
       "<polyline clip-path=\"url(#clip810)\" style=\"stroke:#000000; stroke-linecap:butt; stroke-linejoin:round; stroke-width:4; stroke-opacity:1; fill:none\" points=\"\n",
       "  156.112,1486.45 2352.76,1486.45 \n",
       "  \"/>\n",
       "<polyline clip-path=\"url(#clip810)\" style=\"stroke:#000000; stroke-linecap:butt; stroke-linejoin:round; stroke-width:4; stroke-opacity:1; fill:none\" points=\"\n",
       "  218.281,1486.45 218.281,1467.55 \n",
       "  \"/>\n",
       "<polyline clip-path=\"url(#clip810)\" style=\"stroke:#000000; stroke-linecap:butt; stroke-linejoin:round; stroke-width:4; stroke-opacity:1; fill:none\" points=\"\n",
       "  736.358,1486.45 736.358,1467.55 \n",
       "  \"/>\n",
       "<polyline clip-path=\"url(#clip810)\" style=\"stroke:#000000; stroke-linecap:butt; stroke-linejoin:round; stroke-width:4; stroke-opacity:1; fill:none\" points=\"\n",
       "  1254.43,1486.45 1254.43,1467.55 \n",
       "  \"/>\n",
       "<polyline clip-path=\"url(#clip810)\" style=\"stroke:#000000; stroke-linecap:butt; stroke-linejoin:round; stroke-width:4; stroke-opacity:1; fill:none\" points=\"\n",
       "  1772.51,1486.45 1772.51,1467.55 \n",
       "  \"/>\n",
       "<polyline clip-path=\"url(#clip810)\" style=\"stroke:#000000; stroke-linecap:butt; stroke-linejoin:round; stroke-width:4; stroke-opacity:1; fill:none\" points=\"\n",
       "  2290.59,1486.45 2290.59,1467.55 \n",
       "  \"/>\n",
       "<path clip-path=\"url(#clip810)\" d=\"M180.585 1517.37 Q176.974 1517.37 175.145 1520.93 Q173.339 1524.47 173.339 1531.6 Q173.339 1538.71 175.145 1542.27 Q176.974 1545.82 180.585 1545.82 Q184.219 1545.82 186.025 1542.27 Q187.853 1538.71 187.853 1531.6 Q187.853 1524.47 186.025 1520.93 Q184.219 1517.37 180.585 1517.37 M180.585 1513.66 Q186.395 1513.66 189.45 1518.27 Q192.529 1522.85 192.529 1531.6 Q192.529 1540.33 189.45 1544.94 Q186.395 1549.52 180.585 1549.52 Q174.775 1549.52 171.696 1544.94 Q168.64 1540.33 168.64 1531.6 Q168.64 1522.85 171.696 1518.27 Q174.775 1513.66 180.585 1513.66 Z\" fill=\"#000000\" fill-rule=\"evenodd\" fill-opacity=\"1\" /><path clip-path=\"url(#clip810)\" d=\"M200.747 1542.97 L205.631 1542.97 L205.631 1548.85 L200.747 1548.85 L200.747 1542.97 Z\" fill=\"#000000\" fill-rule=\"evenodd\" fill-opacity=\"1\" /><path clip-path=\"url(#clip810)\" d=\"M225.816 1517.37 Q222.205 1517.37 220.376 1520.93 Q218.571 1524.47 218.571 1531.6 Q218.571 1538.71 220.376 1542.27 Q222.205 1545.82 225.816 1545.82 Q229.45 1545.82 231.256 1542.27 Q233.084 1538.71 233.084 1531.6 Q233.084 1524.47 231.256 1520.93 Q229.45 1517.37 225.816 1517.37 M225.816 1513.66 Q231.626 1513.66 234.682 1518.27 Q237.76 1522.85 237.76 1531.6 Q237.76 1540.33 234.682 1544.94 Q231.626 1549.52 225.816 1549.52 Q220.006 1549.52 216.927 1544.94 Q213.872 1540.33 213.872 1531.6 Q213.872 1522.85 216.927 1518.27 Q220.006 1513.66 225.816 1513.66 Z\" fill=\"#000000\" fill-rule=\"evenodd\" fill-opacity=\"1\" /><path clip-path=\"url(#clip810)\" d=\"M255.978 1517.37 Q252.367 1517.37 250.538 1520.93 Q248.733 1524.47 248.733 1531.6 Q248.733 1538.71 250.538 1542.27 Q252.367 1545.82 255.978 1545.82 Q259.612 1545.82 261.418 1542.27 Q263.246 1538.71 263.246 1531.6 Q263.246 1524.47 261.418 1520.93 Q259.612 1517.37 255.978 1517.37 M255.978 1513.66 Q261.788 1513.66 264.844 1518.27 Q267.922 1522.85 267.922 1531.6 Q267.922 1540.33 264.844 1544.94 Q261.788 1549.52 255.978 1549.52 Q250.168 1549.52 247.089 1544.94 Q244.033 1540.33 244.033 1531.6 Q244.033 1522.85 247.089 1518.27 Q250.168 1513.66 255.978 1513.66 Z\" fill=\"#000000\" fill-rule=\"evenodd\" fill-opacity=\"1\" /><path clip-path=\"url(#clip810)\" d=\"M699.159 1517.37 Q695.548 1517.37 693.719 1520.93 Q691.913 1524.47 691.913 1531.6 Q691.913 1538.71 693.719 1542.27 Q695.548 1545.82 699.159 1545.82 Q702.793 1545.82 704.599 1542.27 Q706.427 1538.71 706.427 1531.6 Q706.427 1524.47 704.599 1520.93 Q702.793 1517.37 699.159 1517.37 M699.159 1513.66 Q704.969 1513.66 708.024 1518.27 Q711.103 1522.85 711.103 1531.6 Q711.103 1540.33 708.024 1544.94 Q704.969 1549.52 699.159 1549.52 Q693.349 1549.52 690.27 1544.94 Q687.214 1540.33 687.214 1531.6 Q687.214 1522.85 690.27 1518.27 Q693.349 1513.66 699.159 1513.66 Z\" fill=\"#000000\" fill-rule=\"evenodd\" fill-opacity=\"1\" /><path clip-path=\"url(#clip810)\" d=\"M719.321 1542.97 L724.205 1542.97 L724.205 1548.85 L719.321 1548.85 L719.321 1542.97 Z\" fill=\"#000000\" fill-rule=\"evenodd\" fill-opacity=\"1\" /><path clip-path=\"url(#clip810)\" d=\"M738.418 1544.91 L754.737 1544.91 L754.737 1548.85 L732.793 1548.85 L732.793 1544.91 Q735.455 1542.16 740.038 1537.53 Q744.645 1532.88 745.825 1531.53 Q748.071 1529.01 748.95 1527.27 Q749.853 1525.51 749.853 1523.82 Q749.853 1521.07 747.909 1519.33 Q745.987 1517.6 742.885 1517.6 Q740.686 1517.6 738.233 1518.36 Q735.802 1519.13 733.024 1520.68 L733.024 1515.95 Q735.848 1514.82 738.302 1514.24 Q740.756 1513.66 742.793 1513.66 Q748.163 1513.66 751.358 1516.35 Q754.552 1519.03 754.552 1523.52 Q754.552 1525.65 753.742 1527.57 Q752.955 1529.47 750.848 1532.07 Q750.27 1532.74 747.168 1535.95 Q744.066 1539.15 738.418 1544.91 Z\" fill=\"#000000\" fill-rule=\"evenodd\" fill-opacity=\"1\" /><path clip-path=\"url(#clip810)\" d=\"M764.598 1514.29 L782.955 1514.29 L782.955 1518.22 L768.881 1518.22 L768.881 1526.7 Q769.899 1526.35 770.918 1526.19 Q771.936 1526 772.955 1526 Q778.742 1526 782.121 1529.17 Q785.501 1532.34 785.501 1537.76 Q785.501 1543.34 782.029 1546.44 Q778.557 1549.52 772.237 1549.52 Q770.061 1549.52 767.793 1549.15 Q765.547 1548.78 763.14 1548.04 L763.14 1543.34 Q765.223 1544.47 767.445 1545.03 Q769.668 1545.58 772.144 1545.58 Q776.149 1545.58 778.487 1543.48 Q780.825 1541.37 780.825 1537.76 Q780.825 1534.15 778.487 1532.04 Q776.149 1529.94 772.144 1529.94 Q770.27 1529.94 768.395 1530.35 Q766.543 1530.77 764.598 1531.65 L764.598 1514.29 Z\" fill=\"#000000\" fill-rule=\"evenodd\" fill-opacity=\"1\" /><path clip-path=\"url(#clip810)\" d=\"M1216.74 1517.37 Q1213.13 1517.37 1211.3 1520.93 Q1209.49 1524.47 1209.49 1531.6 Q1209.49 1538.71 1211.3 1542.27 Q1213.13 1545.82 1216.74 1545.82 Q1220.37 1545.82 1222.18 1542.27 Q1224.01 1538.71 1224.01 1531.6 Q1224.01 1524.47 1222.18 1520.93 Q1220.37 1517.37 1216.74 1517.37 M1216.74 1513.66 Q1222.55 1513.66 1225.6 1518.27 Q1228.68 1522.85 1228.68 1531.6 Q1228.68 1540.33 1225.6 1544.94 Q1222.55 1549.52 1216.74 1549.52 Q1210.93 1549.52 1207.85 1544.94 Q1204.79 1540.33 1204.79 1531.6 Q1204.79 1522.85 1207.85 1518.27 Q1210.93 1513.66 1216.74 1513.66 Z\" fill=\"#000000\" fill-rule=\"evenodd\" fill-opacity=\"1\" /><path clip-path=\"url(#clip810)\" d=\"M1236.9 1542.97 L1241.78 1542.97 L1241.78 1548.85 L1236.9 1548.85 L1236.9 1542.97 Z\" fill=\"#000000\" fill-rule=\"evenodd\" fill-opacity=\"1\" /><path clip-path=\"url(#clip810)\" d=\"M1252.02 1514.29 L1270.37 1514.29 L1270.37 1518.22 L1256.3 1518.22 L1256.3 1526.7 Q1257.32 1526.35 1258.33 1526.19 Q1259.35 1526 1260.37 1526 Q1266.16 1526 1269.54 1529.17 Q1272.92 1532.34 1272.92 1537.76 Q1272.92 1543.34 1269.45 1546.44 Q1265.97 1549.52 1259.65 1549.52 Q1257.48 1549.52 1255.21 1549.15 Q1252.96 1548.78 1250.56 1548.04 L1250.56 1543.34 Q1252.64 1544.47 1254.86 1545.03 Q1257.08 1545.58 1259.56 1545.58 Q1263.57 1545.58 1265.9 1543.48 Q1268.24 1541.37 1268.24 1537.76 Q1268.24 1534.15 1265.9 1532.04 Q1263.57 1529.94 1259.56 1529.94 Q1257.69 1529.94 1255.81 1530.35 Q1253.96 1530.77 1252.02 1531.65 L1252.02 1514.29 Z\" fill=\"#000000\" fill-rule=\"evenodd\" fill-opacity=\"1\" /><path clip-path=\"url(#clip810)\" d=\"M1292.13 1517.37 Q1288.52 1517.37 1286.69 1520.93 Q1284.89 1524.47 1284.89 1531.6 Q1284.89 1538.71 1286.69 1542.27 Q1288.52 1545.82 1292.13 1545.82 Q1295.76 1545.82 1297.57 1542.27 Q1299.4 1538.71 1299.4 1531.6 Q1299.4 1524.47 1297.57 1520.93 Q1295.76 1517.37 1292.13 1517.37 M1292.13 1513.66 Q1297.94 1513.66 1301 1518.27 Q1304.07 1522.85 1304.07 1531.6 Q1304.07 1540.33 1301 1544.94 Q1297.94 1549.52 1292.13 1549.52 Q1286.32 1549.52 1283.24 1544.94 Q1280.19 1540.33 1280.19 1531.6 Q1280.19 1522.85 1283.24 1518.27 Q1286.32 1513.66 1292.13 1513.66 Z\" fill=\"#000000\" fill-rule=\"evenodd\" fill-opacity=\"1\" /><path clip-path=\"url(#clip810)\" d=\"M1735.31 1517.37 Q1731.7 1517.37 1729.87 1520.93 Q1728.07 1524.47 1728.07 1531.6 Q1728.07 1538.71 1729.87 1542.27 Q1731.7 1545.82 1735.31 1545.82 Q1738.95 1545.82 1740.75 1542.27 Q1742.58 1538.71 1742.58 1531.6 Q1742.58 1524.47 1740.75 1520.93 Q1738.95 1517.37 1735.31 1517.37 M1735.31 1513.66 Q1741.12 1513.66 1744.18 1518.27 Q1747.26 1522.85 1747.26 1531.6 Q1747.26 1540.33 1744.18 1544.94 Q1741.12 1549.52 1735.31 1549.52 Q1729.5 1549.52 1726.42 1544.94 Q1723.37 1540.33 1723.37 1531.6 Q1723.37 1522.85 1726.42 1518.27 Q1729.5 1513.66 1735.31 1513.66 Z\" fill=\"#000000\" fill-rule=\"evenodd\" fill-opacity=\"1\" /><path clip-path=\"url(#clip810)\" d=\"M1755.47 1542.97 L1760.36 1542.97 L1760.36 1548.85 L1755.47 1548.85 L1755.47 1542.97 Z\" fill=\"#000000\" fill-rule=\"evenodd\" fill-opacity=\"1\" /><path clip-path=\"url(#clip810)\" d=\"M1769.36 1514.29 L1791.58 1514.29 L1791.58 1516.28 L1779.04 1548.85 L1774.15 1548.85 L1785.96 1518.22 L1769.36 1518.22 L1769.36 1514.29 Z\" fill=\"#000000\" fill-rule=\"evenodd\" fill-opacity=\"1\" /><path clip-path=\"url(#clip810)\" d=\"M1800.75 1514.29 L1819.11 1514.29 L1819.11 1518.22 L1805.03 1518.22 L1805.03 1526.7 Q1806.05 1526.35 1807.07 1526.19 Q1808.09 1526 1809.11 1526 Q1814.89 1526 1818.27 1529.17 Q1821.65 1532.34 1821.65 1537.76 Q1821.65 1543.34 1818.18 1546.44 Q1814.71 1549.52 1808.39 1549.52 Q1806.21 1549.52 1803.95 1549.15 Q1801.7 1548.78 1799.29 1548.04 L1799.29 1543.34 Q1801.38 1544.47 1803.6 1545.03 Q1805.82 1545.58 1808.3 1545.58 Q1812.3 1545.58 1814.64 1543.48 Q1816.98 1541.37 1816.98 1537.76 Q1816.98 1534.15 1814.64 1532.04 Q1812.3 1529.94 1808.3 1529.94 Q1806.42 1529.94 1804.55 1530.35 Q1802.7 1530.77 1800.75 1531.65 L1800.75 1514.29 Z\" fill=\"#000000\" fill-rule=\"evenodd\" fill-opacity=\"1\" /><path clip-path=\"url(#clip810)\" d=\"M2242.66 1544.91 L2250.3 1544.91 L2250.3 1518.55 L2241.99 1520.21 L2241.99 1515.95 L2250.25 1514.29 L2254.93 1514.29 L2254.93 1544.91 L2262.57 1544.91 L2262.57 1548.85 L2242.66 1548.85 L2242.66 1544.91 Z\" fill=\"#000000\" fill-rule=\"evenodd\" fill-opacity=\"1\" /><path clip-path=\"url(#clip810)\" d=\"M2272.01 1542.97 L2276.89 1542.97 L2276.89 1548.85 L2272.01 1548.85 L2272.01 1542.97 Z\" fill=\"#000000\" fill-rule=\"evenodd\" fill-opacity=\"1\" /><path clip-path=\"url(#clip810)\" d=\"M2297.08 1517.37 Q2293.47 1517.37 2291.64 1520.93 Q2289.83 1524.47 2289.83 1531.6 Q2289.83 1538.71 2291.64 1542.27 Q2293.47 1545.82 2297.08 1545.82 Q2300.71 1545.82 2302.52 1542.27 Q2304.35 1538.71 2304.35 1531.6 Q2304.35 1524.47 2302.52 1520.93 Q2300.71 1517.37 2297.08 1517.37 M2297.08 1513.66 Q2302.89 1513.66 2305.95 1518.27 Q2309.02 1522.85 2309.02 1531.6 Q2309.02 1540.33 2305.95 1544.94 Q2302.89 1549.52 2297.08 1549.52 Q2291.27 1549.52 2288.19 1544.94 Q2285.14 1540.33 2285.14 1531.6 Q2285.14 1522.85 2288.19 1518.27 Q2291.27 1513.66 2297.08 1513.66 Z\" fill=\"#000000\" fill-rule=\"evenodd\" fill-opacity=\"1\" /><path clip-path=\"url(#clip810)\" d=\"M2327.24 1517.37 Q2323.63 1517.37 2321.8 1520.93 Q2320 1524.47 2320 1531.6 Q2320 1538.71 2321.8 1542.27 Q2323.63 1545.82 2327.24 1545.82 Q2330.88 1545.82 2332.68 1542.27 Q2334.51 1538.71 2334.51 1531.6 Q2334.51 1524.47 2332.68 1520.93 Q2330.88 1517.37 2327.24 1517.37 M2327.24 1513.66 Q2333.05 1513.66 2336.11 1518.27 Q2339.19 1522.85 2339.19 1531.6 Q2339.19 1540.33 2336.11 1544.94 Q2333.05 1549.52 2327.24 1549.52 Q2321.43 1549.52 2318.35 1544.94 Q2315.3 1540.33 2315.3 1531.6 Q2315.3 1522.85 2318.35 1518.27 Q2321.43 1513.66 2327.24 1513.66 Z\" fill=\"#000000\" fill-rule=\"evenodd\" fill-opacity=\"1\" /><polyline clip-path=\"url(#clip812)\" style=\"stroke:#000000; stroke-linecap:butt; stroke-linejoin:round; stroke-width:2; stroke-opacity:0.1; fill:none\" points=\"\n",
       "  156.112,1445.72 2352.76,1445.72 \n",
       "  \"/>\n",
       "<polyline clip-path=\"url(#clip812)\" style=\"stroke:#000000; stroke-linecap:butt; stroke-linejoin:round; stroke-width:2; stroke-opacity:0.1; fill:none\" points=\"\n",
       "  156.112,993.136 2352.76,993.136 \n",
       "  \"/>\n",
       "<polyline clip-path=\"url(#clip812)\" style=\"stroke:#000000; stroke-linecap:butt; stroke-linejoin:round; stroke-width:2; stroke-opacity:0.1; fill:none\" points=\"\n",
       "  156.112,540.556 2352.76,540.556 \n",
       "  \"/>\n",
       "<polyline clip-path=\"url(#clip812)\" style=\"stroke:#000000; stroke-linecap:butt; stroke-linejoin:round; stroke-width:2; stroke-opacity:0.1; fill:none\" points=\"\n",
       "  156.112,87.9763 2352.76,87.9763 \n",
       "  \"/>\n",
       "<polyline clip-path=\"url(#clip810)\" style=\"stroke:#000000; stroke-linecap:butt; stroke-linejoin:round; stroke-width:4; stroke-opacity:1; fill:none\" points=\"\n",
       "  156.112,1486.45 156.112,47.2441 \n",
       "  \"/>\n",
       "<polyline clip-path=\"url(#clip810)\" style=\"stroke:#000000; stroke-linecap:butt; stroke-linejoin:round; stroke-width:4; stroke-opacity:1; fill:none\" points=\"\n",
       "  156.112,1445.72 175.01,1445.72 \n",
       "  \"/>\n",
       "<polyline clip-path=\"url(#clip810)\" style=\"stroke:#000000; stroke-linecap:butt; stroke-linejoin:round; stroke-width:4; stroke-opacity:1; fill:none\" points=\"\n",
       "  156.112,993.136 175.01,993.136 \n",
       "  \"/>\n",
       "<polyline clip-path=\"url(#clip810)\" style=\"stroke:#000000; stroke-linecap:butt; stroke-linejoin:round; stroke-width:4; stroke-opacity:1; fill:none\" points=\"\n",
       "  156.112,540.556 175.01,540.556 \n",
       "  \"/>\n",
       "<polyline clip-path=\"url(#clip810)\" style=\"stroke:#000000; stroke-linecap:butt; stroke-linejoin:round; stroke-width:4; stroke-opacity:1; fill:none\" points=\"\n",
       "  156.112,87.9763 175.01,87.9763 \n",
       "  \"/>\n",
       "<path clip-path=\"url(#clip810)\" d=\"M62.9365 1431.51 Q59.3254 1431.51 57.4967 1435.08 Q55.6912 1438.62 55.6912 1445.75 Q55.6912 1452.86 57.4967 1456.42 Q59.3254 1459.96 62.9365 1459.96 Q66.5707 1459.96 68.3763 1456.42 Q70.205 1452.86 70.205 1445.75 Q70.205 1438.62 68.3763 1435.08 Q66.5707 1431.51 62.9365 1431.51 M62.9365 1427.81 Q68.7467 1427.81 71.8022 1432.42 Q74.8809 1437 74.8809 1445.75 Q74.8809 1454.48 71.8022 1459.08 Q68.7467 1463.67 62.9365 1463.67 Q57.1264 1463.67 54.0477 1459.08 Q50.9921 1454.48 50.9921 1445.75 Q50.9921 1437 54.0477 1432.42 Q57.1264 1427.81 62.9365 1427.81 Z\" fill=\"#000000\" fill-rule=\"evenodd\" fill-opacity=\"1\" /><path clip-path=\"url(#clip810)\" d=\"M83.0984 1457.12 L87.9827 1457.12 L87.9827 1463 L83.0984 1463 L83.0984 1457.12 Z\" fill=\"#000000\" fill-rule=\"evenodd\" fill-opacity=\"1\" /><path clip-path=\"url(#clip810)\" d=\"M108.168 1431.51 Q104.557 1431.51 102.728 1435.08 Q100.922 1438.62 100.922 1445.75 Q100.922 1452.86 102.728 1456.42 Q104.557 1459.96 108.168 1459.96 Q111.802 1459.96 113.608 1456.42 Q115.436 1452.86 115.436 1445.75 Q115.436 1438.62 113.608 1435.08 Q111.802 1431.51 108.168 1431.51 M108.168 1427.81 Q113.978 1427.81 117.033 1432.42 Q120.112 1437 120.112 1445.75 Q120.112 1454.48 117.033 1459.08 Q113.978 1463.67 108.168 1463.67 Q102.358 1463.67 99.2789 1459.08 Q96.2234 1454.48 96.2234 1445.75 Q96.2234 1437 99.2789 1432.42 Q102.358 1427.81 108.168 1427.81 Z\" fill=\"#000000\" fill-rule=\"evenodd\" fill-opacity=\"1\" /><path clip-path=\"url(#clip810)\" d=\"M63.9319 978.935 Q60.3208 978.935 58.4921 982.499 Q56.6865 986.041 56.6865 993.171 Q56.6865 1000.28 58.4921 1003.84 Q60.3208 1007.38 63.9319 1007.38 Q67.5661 1007.38 69.3717 1003.84 Q71.2004 1000.28 71.2004 993.171 Q71.2004 986.041 69.3717 982.499 Q67.5661 978.935 63.9319 978.935 M63.9319 975.231 Q69.742 975.231 72.7976 979.837 Q75.8763 984.421 75.8763 993.171 Q75.8763 1001.9 72.7976 1006.5 Q69.742 1011.09 63.9319 1011.09 Q58.1217 1011.09 55.043 1006.5 Q51.9875 1001.9 51.9875 993.171 Q51.9875 984.421 55.043 979.837 Q58.1217 975.231 63.9319 975.231 Z\" fill=\"#000000\" fill-rule=\"evenodd\" fill-opacity=\"1\" /><path clip-path=\"url(#clip810)\" d=\"M84.0938 1004.54 L88.978 1004.54 L88.978 1010.42 L84.0938 1010.42 L84.0938 1004.54 Z\" fill=\"#000000\" fill-rule=\"evenodd\" fill-opacity=\"1\" /><path clip-path=\"url(#clip810)\" d=\"M99.2095 975.856 L117.566 975.856 L117.566 979.791 L103.492 979.791 L103.492 988.263 Q104.51 987.916 105.529 987.754 Q106.547 987.569 107.566 987.569 Q113.353 987.569 116.733 990.74 Q120.112 993.911 120.112 999.328 Q120.112 1004.91 116.64 1008.01 Q113.168 1011.09 106.848 1011.09 Q104.672 1011.09 102.404 1010.72 Q100.159 1010.35 97.7511 1009.61 L97.7511 1004.91 Q99.8345 1006.04 102.057 1006.6 Q104.279 1007.15 106.756 1007.15 Q110.76 1007.15 113.098 1005.05 Q115.436 1002.94 115.436 999.328 Q115.436 995.717 113.098 993.61 Q110.76 991.504 106.756 991.504 Q104.881 991.504 103.006 991.921 Q101.154 992.337 99.2095 993.217 L99.2095 975.856 Z\" fill=\"#000000\" fill-rule=\"evenodd\" fill-opacity=\"1\" /><path clip-path=\"url(#clip810)\" d=\"M53.7467 553.901 L61.3856 553.901 L61.3856 527.535 L53.0754 529.202 L53.0754 524.943 L61.3393 523.276 L66.0152 523.276 L66.0152 553.901 L73.654 553.901 L73.654 557.836 L53.7467 557.836 L53.7467 553.901 Z\" fill=\"#000000\" fill-rule=\"evenodd\" fill-opacity=\"1\" /><path clip-path=\"url(#clip810)\" d=\"M83.0984 551.956 L87.9827 551.956 L87.9827 557.836 L83.0984 557.836 L83.0984 551.956 Z\" fill=\"#000000\" fill-rule=\"evenodd\" fill-opacity=\"1\" /><path clip-path=\"url(#clip810)\" d=\"M108.168 526.355 Q104.557 526.355 102.728 529.92 Q100.922 533.461 100.922 540.591 Q100.922 547.697 102.728 551.262 Q104.557 554.804 108.168 554.804 Q111.802 554.804 113.608 551.262 Q115.436 547.697 115.436 540.591 Q115.436 533.461 113.608 529.92 Q111.802 526.355 108.168 526.355 M108.168 522.651 Q113.978 522.651 117.033 527.258 Q120.112 531.841 120.112 540.591 Q120.112 549.318 117.033 553.924 Q113.978 558.507 108.168 558.507 Q102.358 558.507 99.2789 553.924 Q96.2234 549.318 96.2234 540.591 Q96.2234 531.841 99.2789 527.258 Q102.358 522.651 108.168 522.651 Z\" fill=\"#000000\" fill-rule=\"evenodd\" fill-opacity=\"1\" /><path clip-path=\"url(#clip810)\" d=\"M54.7421 101.321 L62.381 101.321 L62.381 74.9555 L54.0708 76.6222 L54.0708 72.3629 L62.3347 70.6963 L67.0106 70.6963 L67.0106 101.321 L74.6494 101.321 L74.6494 105.256 L54.7421 105.256 L54.7421 101.321 Z\" fill=\"#000000\" fill-rule=\"evenodd\" fill-opacity=\"1\" /><path clip-path=\"url(#clip810)\" d=\"M84.0938 99.3767 L88.978 99.3767 L88.978 105.256 L84.0938 105.256 L84.0938 99.3767 Z\" fill=\"#000000\" fill-rule=\"evenodd\" fill-opacity=\"1\" /><path clip-path=\"url(#clip810)\" d=\"M99.2095 70.6963 L117.566 70.6963 L117.566 74.6314 L103.492 74.6314 L103.492 83.1036 Q104.51 82.7564 105.529 82.5944 Q106.547 82.4092 107.566 82.4092 Q113.353 82.4092 116.733 85.5805 Q120.112 88.7517 120.112 94.1684 Q120.112 99.747 116.64 102.849 Q113.168 105.928 106.848 105.928 Q104.672 105.928 102.404 105.557 Q100.159 105.187 97.7511 104.446 L97.7511 99.747 Q99.8345 100.881 102.057 101.437 Q104.279 101.992 106.756 101.992 Q110.76 101.992 113.098 99.8859 Q115.436 97.7795 115.436 94.1684 Q115.436 90.5573 113.098 88.4508 Q110.76 86.3443 106.756 86.3443 Q104.881 86.3443 103.006 86.761 Q101.154 87.1777 99.2095 88.0573 L99.2095 70.6963 Z\" fill=\"#000000\" fill-rule=\"evenodd\" fill-opacity=\"1\" /><polyline clip-path=\"url(#clip812)\" style=\"stroke:#009af9; stroke-linecap:butt; stroke-linejoin:round; stroke-width:4; stroke-opacity:1; fill:none\" points=\"\n",
       "  218.281,1445.72 239.004,1441.19 259.727,1436.66 280.45,1432.14 301.174,1427.61 321.897,1423.09 342.62,1418.56 363.343,1414.04 384.066,1409.51 404.789,1404.98 \n",
       "  425.512,1400.46 446.235,1395.93 466.958,1391.41 487.681,1386.88 508.404,1382.35 529.127,1377.83 549.85,1373.3 570.573,1368.78 591.296,1364.25 612.019,1359.73 \n",
       "  632.742,1355.2 653.465,1350.67 674.188,1346.15 694.912,1341.62 715.635,1337.1 736.358,1332.57 757.081,1328.04 777.804,1323.52 798.527,1318.99 819.25,1314.47 \n",
       "  839.973,1309.94 860.696,1305.42 881.419,1300.89 902.142,1296.36 922.865,1291.84 943.588,1287.31 964.311,1282.79 985.034,1278.26 1005.76,1273.74 1026.48,1269.21 \n",
       "  1047.2,1264.68 1067.93,1260.16 1088.65,1255.63 1109.37,1251.11 1130.1,1246.58 1150.82,1242.05 1171.54,1237.53 1192.26,1233 1212.99,1228.48 1233.71,1223.95 \n",
       "  1254.43,1219.43 1275.16,1205.85 1295.88,1192.27 1316.6,1178.69 1337.33,1165.12 1358.05,1151.54 1378.77,1137.96 1399.5,1124.38 1420.22,1110.81 1440.94,1097.23 \n",
       "  1461.66,1083.65 1482.39,1070.07 1503.11,1056.5 1523.83,1042.92 1544.56,1029.34 1565.28,1015.76 1586,1002.19 1606.73,988.61 1627.45,975.033 1648.17,961.455 \n",
       "  1668.9,947.878 1689.62,934.301 1710.34,920.723 1731.06,907.146 1751.79,893.568 1772.51,879.991 1793.23,866.414 1813.96,852.836 1834.68,839.259 1855.4,825.681 \n",
       "  1876.13,812.104 1896.85,798.527 1917.57,784.949 1938.29,771.372 1959.02,757.794 1979.74,744.217 2000.46,730.64 2021.19,717.062 2041.91,703.485 2062.63,689.907 \n",
       "  2083.36,676.33 2104.08,662.753 2124.8,649.175 2145.53,635.598 2166.25,622.02 2186.97,608.443 2207.69,594.866 2228.42,581.288 2249.14,567.711 2269.86,554.133 \n",
       "  2290.59,540.556 \n",
       "  \"/>\n",
       "<polyline clip-path=\"url(#clip812)\" style=\"stroke:#e26f46; stroke-linecap:butt; stroke-linejoin:round; stroke-width:4; stroke-opacity:1; fill:none\" points=\"\n",
       "  218.281,993.136 239.004,993.136 259.727,993.136 280.45,993.136 301.174,993.136 321.897,993.136 342.62,993.136 363.343,993.136 384.066,993.136 404.789,993.136 \n",
       "  425.512,993.136 446.235,993.136 466.958,993.136 487.681,993.136 508.404,993.136 529.127,993.136 549.85,993.136 570.573,993.136 591.296,993.136 612.019,993.136 \n",
       "  632.742,993.136 653.465,993.136 674.188,993.136 694.912,993.136 715.635,993.136 736.358,993.136 757.081,993.136 777.804,993.136 798.527,993.136 819.25,993.136 \n",
       "  839.973,993.136 860.696,993.136 881.419,993.136 902.142,993.136 922.865,993.136 943.588,993.136 964.311,993.136 985.034,993.136 1005.76,993.136 1026.48,993.136 \n",
       "  1047.2,993.136 1067.93,993.136 1088.65,993.136 1109.37,993.136 1130.1,993.136 1150.82,993.136 1171.54,993.136 1192.26,993.136 1212.99,993.136 1233.71,993.136 \n",
       "  1254.43,993.136 1275.16,87.9763 1295.88,87.9763 1316.6,87.9763 1337.33,87.9763 1358.05,87.9763 1378.77,87.9763 1399.5,87.9763 1420.22,87.9763 1440.94,87.9763 \n",
       "  1461.66,87.9763 1482.39,87.9763 1503.11,87.9763 1523.83,87.9763 1544.56,87.9763 1565.28,87.9763 1586,87.9763 1606.73,87.9763 1627.45,87.9763 1648.17,87.9763 \n",
       "  1668.9,87.9763 1689.62,87.9763 1710.34,87.9763 1731.06,87.9763 1751.79,87.9763 1772.51,87.9763 1793.23,87.9763 1813.96,87.9763 1834.68,87.9763 1855.4,87.9763 \n",
       "  1876.13,87.9763 1896.85,87.9763 1917.57,87.9763 1938.29,87.9763 1959.02,87.9763 1979.74,87.9763 2000.46,87.9763 2021.19,87.9763 2041.91,87.9763 2062.63,87.9763 \n",
       "  2083.36,87.9763 2104.08,87.9763 2124.8,87.9763 2145.53,87.9763 2166.25,87.9763 2186.97,87.9763 2207.69,87.9763 2228.42,87.9763 2249.14,87.9763 2269.86,87.9763 \n",
       "  2290.59,87.9763 \n",
       "  \"/>\n",
       "<path clip-path=\"url(#clip810)\" d=\"\n",
       "M1983.03 250.738 L2279.53 250.738 L2279.53 95.2176 L1983.03 95.2176  Z\n",
       "  \" fill=\"#ffffff\" fill-rule=\"evenodd\" fill-opacity=\"1\"/>\n",
       "<polyline clip-path=\"url(#clip810)\" style=\"stroke:#000000; stroke-linecap:butt; stroke-linejoin:round; stroke-width:4; stroke-opacity:1; fill:none\" points=\"\n",
       "  1983.03,250.738 2279.53,250.738 2279.53,95.2176 1983.03,95.2176 1983.03,250.738 \n",
       "  \"/>\n",
       "<polyline clip-path=\"url(#clip810)\" style=\"stroke:#009af9; stroke-linecap:butt; stroke-linejoin:round; stroke-width:4; stroke-opacity:1; fill:none\" points=\"\n",
       "  2007.44,147.058 2153.88,147.058 \n",
       "  \"/>\n",
       "<path clip-path=\"url(#clip810)\" d=\"M2192.13 166.745 Q2190.33 171.375 2188.61 172.787 Q2186.9 174.199 2184.03 174.199 L2180.63 174.199 L2180.63 170.634 L2183.13 170.634 Q2184.89 170.634 2185.86 169.8 Q2186.83 168.967 2188.01 165.865 L2188.78 163.921 L2178.29 138.412 L2182.8 138.412 L2190.91 158.689 L2199.01 138.412 L2203.52 138.412 L2192.13 166.745 Z\" fill=\"#000000\" fill-rule=\"evenodd\" fill-opacity=\"1\" /><path clip-path=\"url(#clip810)\" d=\"M2210.81 160.402 L2218.45 160.402 L2218.45 134.037 L2210.14 135.703 L2210.14 131.444 L2218.41 129.778 L2223.08 129.778 L2223.08 160.402 L2230.72 160.402 L2230.72 164.338 L2210.81 164.338 L2210.81 160.402 Z\" fill=\"#000000\" fill-rule=\"evenodd\" fill-opacity=\"1\" /><polyline clip-path=\"url(#clip810)\" style=\"stroke:#e26f46; stroke-linecap:butt; stroke-linejoin:round; stroke-width:4; stroke-opacity:1; fill:none\" points=\"\n",
       "  2007.44,198.898 2153.88,198.898 \n",
       "  \"/>\n",
       "<path clip-path=\"url(#clip810)\" d=\"M2192.13 218.585 Q2190.33 223.215 2188.61 224.627 Q2186.9 226.039 2184.03 226.039 L2180.63 226.039 L2180.63 222.474 L2183.13 222.474 Q2184.89 222.474 2185.86 221.64 Q2186.83 220.807 2188.01 217.705 L2188.78 215.761 L2178.29 190.252 L2182.8 190.252 L2190.91 210.529 L2199.01 190.252 L2203.52 190.252 L2192.13 218.585 Z\" fill=\"#000000\" fill-rule=\"evenodd\" fill-opacity=\"1\" /><path clip-path=\"url(#clip810)\" d=\"M2214.03 212.242 L2230.35 212.242 L2230.35 216.178 L2208.41 216.178 L2208.41 212.242 Q2211.07 209.488 2215.65 204.858 Q2220.26 200.205 2221.44 198.863 Q2223.68 196.34 2224.56 194.604 Q2225.47 192.844 2225.47 191.155 Q2225.47 188.4 2223.52 186.664 Q2221.6 184.928 2218.5 184.928 Q2216.3 184.928 2213.85 185.692 Q2211.41 186.455 2208.64 188.006 L2208.64 183.284 Q2211.46 182.15 2213.91 181.571 Q2216.37 180.993 2218.41 180.993 Q2223.78 180.993 2226.97 183.678 Q2230.16 186.363 2230.16 190.854 Q2230.16 192.983 2229.35 194.905 Q2228.57 196.803 2226.46 199.395 Q2225.88 200.067 2222.78 203.284 Q2219.68 206.479 2214.03 212.242 Z\" fill=\"#000000\" fill-rule=\"evenodd\" fill-opacity=\"1\" /></svg>\n"
      ]
     },
     "execution_count": 57,
     "metadata": {},
     "output_type": "execute_result"
    }
   ],
   "source": [
    "# Evaluate solution on line\n",
    "y = Vector(0:0.01:1)\n",
    "coord = [Point(0, y[i]) for i in 1:length(y)];\n",
    "u_line = uh(coord);\n",
    "E_line = Eh(coord);\n",
    "\n",
    "E_line = [sqrt(E[1]^2 + E[2]^2)  for E in E_line];\n",
    "\n",
    "Plots.plot(y, u_line)\n",
    "Plots.plot!(y, E_line)"
   ]
  },
  {
   "cell_type": "code",
   "execution_count": 58,
   "id": "silent-secretariat",
   "metadata": {},
   "outputs": [
    {
     "data": {
      "text/plain": [
       "([\"es_planar_Gridap.vtu\"],)"
      ]
     },
     "execution_count": 58,
     "metadata": {},
     "output_type": "execute_result"
    }
   ],
   "source": [
    "writevtk(Ω, \"es_planar_Gridap\", cellfields=[\"uh\" => uh, \"Eh\" => Eh])"
   ]
  },
  {
   "cell_type": "code",
   "execution_count": null,
   "id": "innovative-venue",
   "metadata": {},
   "outputs": [],
   "source": []
  }
 ],
 "metadata": {
  "kernelspec": {
   "display_name": "Julia 1.7.1",
   "language": "julia",
   "name": "julia-1.7"
  },
  "language_info": {
   "file_extension": ".jl",
   "mimetype": "application/julia",
   "name": "julia",
   "version": "1.7.1"
  }
 },
 "nbformat": 4,
 "nbformat_minor": 5
}
