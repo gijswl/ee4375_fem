{
 "cells": [
  {
   "cell_type": "markdown",
   "id": "bearing-serial",
   "metadata": {},
   "source": [
    "# Field Enhancement in Spherical Cavity\n",
    "Axisymmetric electrostatics on a parallel-plate structure with a dielectric medium. There is a small spherical gas-filled cavity in the dielectric. This causes field enhancement inside the cavity, and is a configuration that occurs often in high-voltage technology.\n",
    "\n",
    "## Configuration\n",
    "The configuration consists of a parallel-plate structure with width $W$ and height $H$, with a spherical cavity of radius $r$ and dielectric constant $\\epsilon_c$ in the middle. This is modelled by making the configuration axisymmetric through the center of the cavity. A voltage of $U_0$ is applied between the electrodes to produce a background field $E_0 = \\frac{U_0}{H}$.\n",
    "![Configuration spherical cavity](figures/setup_cav_spherical.svg)\n",
    "\n",
    "## Theory\n",
    "Now, we want to simulate electrostatics in cylindrical coordinates including a variable relative permittivity. The Laplace equation is written\n",
    "\\begin{align*}\n",
    "    \\nabla \\cdot \\left[ \\epsilon(r,z) \\nabla V \\right] & = \\frac{1}{r} \\frac{\\partial}{\\partial r} \\left[r \\epsilon(r,z) \\frac{\\partial V}{\\partial r} \\right] + \\frac{\\partial}{\\partial z} \\left[ \\epsilon(r,z) \\frac{\\partial V}{\\partial z} \\right] \\\\\n",
    "     & = \\epsilon(x, y) \\nabla^2 V + \\frac{\\epsilon(x, y)}{x} \\frac{\\partial V}{\\partial x} + \\nabla\\epsilon \\cdot \\nabla V = 0\n",
    "\\end{align*}\n",
    "The weak form of this differential equation is\n",
    "$$ \\int_\\Omega \\epsilon \\nabla u \\cdot \\nabla v d\\Omega - \\int_\\Omega \\frac{\\epsilon}{x} \\nabla u \\cdot \\hat{\\mathbf{e}}_x \\cdot v d\\Omega = 0$$\n",
    "_TODO: What happens to the term $\\nabla \\epsilon \\cdot \\nabla V$? It does not appear to be necessary, results match expectations, and I haven't figured out how to put it into Gridap.._\n",
    "\n",
    "## Analytical Solution\n",
    "The field inside the cavity is given by\n",
    "$$ E_{cav} = \\frac{3 \\epsilon_r}{\\epsilon_c + 2 \\epsilon_r} E_0 $$\n",
    "And outside the cavity (along the $z$-axis)\n",
    "$$ E_d = \\frac{3 \\epsilon_c}{\\epsilon_c + 2 \\epsilon_r} E_0 $$"
   ]
  },
  {
   "cell_type": "code",
   "execution_count": 5,
   "id": "limiting-makeup",
   "metadata": {},
   "outputs": [],
   "source": [
    "using LinearAlgebra\n",
    "\n",
    "using Plots\n",
    "using LaTeXStrings\n",
    "\n",
    "using gmsh\n",
    "\n",
    "using Gridap\n",
    "using Gridap.Fields\n",
    "using Gridap.Geometry\n",
    "using GridapGmsh"
   ]
  },
  {
   "cell_type": "markdown",
   "id": "ahead-debate",
   "metadata": {},
   "source": [
    "# Create Geometry"
   ]
  },
  {
   "cell_type": "code",
   "execution_count": 1,
   "id": "first-implement",
   "metadata": {},
   "outputs": [],
   "source": [
    "W = 0.1;     # Width of the simulation domain [m]\n",
    "H = 0.1;     # Height of the simulation domain [m]\n",
    "\n",
    "r = 0.5e-3;  # Radius of sphere [m]\n",
    "\n",
    "E0 = 1e5;    # Background field [V/m]\n",
    "U0 = E0 * H; # Required voltage to create background field [V]\n",
    "\n",
    "eps_r = 3.0; # Dielectric constant of the medium\n",
    "eps_c = 1.0; # Dielectric constant of the cavity"
   ]
  },
  {
   "cell_type": "code",
   "execution_count": 3,
   "id": "chubby-wings",
   "metadata": {},
   "outputs": [
    {
     "name": "stdout",
     "output_type": "stream",
     "text": [
      "Info    : Meshing 1D...\n",
      "Info    : [  0%] Meshing curve 1 (Line)\n",
      "Info    : [ 20%] Meshing curve 2 (Line)\n",
      "Info    : [ 30%] Meshing curve 3 (Line)\n",
      "Info    : [ 40%] Meshing curve 4 (Line)\n",
      "Info    : [ 50%] Meshing curve 5 (Line)\n",
      "Info    : [ 70%] Meshing curve 6 (Line)\n",
      "Info    : [ 80%] Meshing curve 7 (Line)\n",
      "Info    : [ 90%] Meshing curve 8 (Circle)\n",
      "Info    : Done meshing 1D (Wall 0.0171578s, CPU 0.015625s)\n",
      "Info    : Meshing 2D...\n",
      "Info    : [  0%] Meshing surface 1 (Plane, Frontal-Delaunay)\n",
      "Info    : [ 50%] Meshing surface 2 (Plane, Frontal-Delaunay)\n",
      "Info    : Done meshing 2D (Wall 0.105981s, CPU 0.109375s)\n",
      "Info    : 2177 nodes 4517 elements\n",
      "Info    : Writing 'fieldenh_sphere.msh'...\n",
      "Info    : Done writing 'fieldenh_sphere.msh'\n"
     ]
    },
    {
     "name": "stderr",
     "output_type": "stream",
     "text": [
      "Warning : Unknown entity of dimension 2 and tag 1 in physical group 1\n",
      "Warning : Unknown entity of dimension 2 and tag 2 in physical group 2\n",
      "Warning : Unknown entity of dimension 1 and tag 1 in physical group 1\n",
      "Warning : Unknown entity of dimension 0 and tag 1 in physical group 1\n",
      "Warning : Unknown entity of dimension 0 and tag 2 in physical group 1\n",
      "Warning : Unknown entity of dimension 1 and tag 3 in physical group 2\n",
      "Warning : Unknown entity of dimension 0 and tag 3 in physical group 2\n",
      "Warning : Unknown entity of dimension 0 and tag 4 in physical group 2\n",
      "Warning : Unknown entity of dimension 1 and tag 2 in physical group 3\n",
      "Warning : Unknown entity of dimension 1 and tag 4 in physical group 3\n",
      "Warning : Unknown entity of dimension 1 and tag 5 in physical group 3\n",
      "Warning : Unknown entity of dimension 1 and tag 6 in physical group 3\n",
      "Warning : Unknown entity of dimension 1 and tag 7 in physical group 3\n"
     ]
    }
   ],
   "source": [
    "gmsh.finalize()\n",
    "gmsh.initialize()\n",
    "gmsh.option.setNumber(\"General.Terminal\", 1)\n",
    "gmsh.model.add(\"fieldenh_sphere\")\n",
    "\n",
    "c1 = W / 10;\n",
    "c2 = r / 100;\n",
    "c3 = r / 10;\n",
    "\n",
    "# Points\n",
    "gmsh.model.geo.addPoint(0, -H/2, 0, c1, 1)\n",
    "gmsh.model.geo.addPoint(W, -H/2, 0, c1, 2)\n",
    "gmsh.model.geo.addPoint(W, H/2, 0, c1, 3)\n",
    "gmsh.model.geo.addPoint(0, H/2, 0, c1, 4)\n",
    "\n",
    "gmsh.model.geo.addPoint(0, r/2, 0, c2, 5)\n",
    "gmsh.model.geo.addPoint(0, 0, 0, c3, 6)\n",
    "gmsh.model.geo.addPoint(0, -r/2, 0, c2, 7)\n",
    "\n",
    "# Lines\n",
    "gmsh.model.geo.addLine(1, 2, 1)\n",
    "gmsh.model.geo.addLine(2, 3, 2)\n",
    "gmsh.model.geo.addLine(3, 4, 3)\n",
    "gmsh.model.geo.addLine(4, 5, 4)\n",
    "gmsh.model.geo.addLine(5, 6, 5)\n",
    "gmsh.model.geo.addLine(6, 7, 6)\n",
    "gmsh.model.geo.addLine(7, 1, 7)\n",
    "\n",
    "gmsh.model.geo.addCircleArc(7, 6, 5, 8)\n",
    "\n",
    "# Surfaces\n",
    "gmsh.model.geo.addCurveLoop([1, 2, 3, 4, -8, 7], 1)\n",
    "gmsh.model.geo.addCurveLoop([5, 6, 8], 2)\n",
    "\n",
    "gmsh.model.geo.addPlaneSurface([1], 1)\n",
    "gmsh.model.geo.addPlaneSurface([2], 2)\n",
    "\n",
    "# Physics\n",
    "gmsh.model.addPhysicalGroup(2, [1], 1)\n",
    "gmsh.model.setPhysicalName(2, 1, \"Dielectric\")\n",
    "gmsh.model.addPhysicalGroup(2, [2], 2)\n",
    "gmsh.model.setPhysicalName(2, 2, \"Cavity\")\n",
    "\n",
    "gmsh.model.addPhysicalGroup(1, [1], 1)\n",
    "gmsh.model.setPhysicalName(1, 1, \"D1\")\n",
    "gmsh.model.addPhysicalGroup(0, [1, 2], 1)\n",
    "gmsh.model.setPhysicalName(0, 1, \"D1p\")\n",
    "\n",
    "gmsh.model.addPhysicalGroup(1, [3], 2)\n",
    "gmsh.model.setPhysicalName(1, 2, \"D2\")\n",
    "gmsh.model.addPhysicalGroup(0, [3, 4], 2)\n",
    "gmsh.model.setPhysicalName(0, 2, \"D2p\")\n",
    "\n",
    "gmsh.model.addPhysicalGroup(1, [2, 4, 5, 6, 7], 3)\n",
    "gmsh.model.setPhysicalName(1, 3, \"N1\")\n",
    "\n",
    "# Generate mesh and save\n",
    "gmsh.model.geo.synchronize()\n",
    "gmsh.model.mesh.generate(2)\n",
    "\n",
    "gmsh.write(\"fieldenh_sphere.msh\")"
   ]
  },
  {
   "cell_type": "code",
   "execution_count": 4,
   "id": "partial-austria",
   "metadata": {},
   "outputs": [
    {
     "name": "stdout",
     "output_type": "stream",
     "text": [
      "-------------------------------------------------------\n",
      "Version       : 4.9.4\n",
      "License       : GNU General Public License\n",
      "Build OS      : Windows64-sdk\n",
      "Build date    : 20220203\n",
      "Build host    : gmsh.info\n",
      "Build options : 64Bit ALGLIB[contrib] ANN[contrib] Bamg Blas[petsc] Blossom Cgns DIntegration DomHex Eigen[contrib] Fltk Gmm[contrib] Hxt Jpeg Kbipack Lapack[petsc] MathEx[contrib] Med Mesh Metis[contrib] Mmg Mpeg Netgen NoSocklenT ONELAB ONELABMetamodel OpenCASCADE OpenCASCADE-CAF OpenGL OpenMP OptHom PETSc Parser Plugins Png Post QuadMeshingTools QuadTri Solver TetGen/BR Voro++[contrib] WinslowUntangler Zlib\n",
      "FLTK version  : 1.4.0\n",
      "PETSc version : 3.15.0 (real arithmtic)\n",
      "OCC version   : 7.6.0\n",
      "MED version   : 4.1.0\n",
      "Packaged by   : nt authority system\n",
      "Web site      : https://gmsh.info\n",
      "Issue tracker : https://gitlab.onelab.info/gmsh/gmsh/issues\n",
      "-------------------------------------------------------\n"
     ]
    }
   ],
   "source": [
    "gmsh.fltk.run()"
   ]
  },
  {
   "cell_type": "markdown",
   "id": "raised-pickup",
   "metadata": {},
   "source": [
    "# Gridap"
   ]
  },
  {
   "cell_type": "code",
   "execution_count": 31,
   "id": "characteristic-surgeon",
   "metadata": {},
   "outputs": [
    {
     "name": "stdout",
     "output_type": "stream",
     "text": [
      "Info    : Reading 'fieldenh_sphere.msh'...\n",
      "Info    : 17 entities\n",
      "Info    : 2177 nodes\n",
      "Info    : 4356 elements\n",
      "Info    : Done reading 'fieldenh_sphere.msh'\n"
     ]
    }
   ],
   "source": [
    "# Load geometry from gmsh\n",
    "model = GmshDiscreteModel(\"fieldenh_sphere.msh\")\n",
    "\n",
    "# Create a reference finite element space to use for the construction of test space V0\n",
    "#  The FE space is Lagrangian\n",
    "order = 2\n",
    "reffe = ReferenceFE(lagrangian, Float64, order);\n",
    "# The test space is created from the reference FE with\n",
    "#  conformity = H1: shape functions are continuous\n",
    "#  D1 and D2 being the boundary points with Dirichlet condition applied\n",
    "V0 = TestFESpace(model, reffe; conformity = :H1, dirichlet_tags = [\"D1\", \"D1p\", \"D2\", \"D2p\"]);\n",
    "\n",
    "# Trial space is constructed from the test space\n",
    "#  the [0, 1] indicates the values of the Dirichlet condition at D1 and D2\n",
    "Ug = TrialFESpace(V0, [0, 0, U0, U0]);\n",
    "\n",
    "# Triangulation of the domain\n",
    "#  degree must be at least 2 times the order of the reference space\n",
    "degree = 2 * order;\n",
    "Ω = Triangulation(model);\n",
    "dΩ = Measure(Ω, degree);"
   ]
  },
  {
   "cell_type": "code",
   "execution_count": 50,
   "id": "broadband-government",
   "metadata": {
    "scrolled": false
   },
   "outputs": [],
   "source": [
    "labels = get_face_labeling(model)\n",
    "dimension = num_cell_dims(model)\n",
    "tags = get_face_tag(labels, dimension)\n",
    "\n",
    "const tag_cavity = get_tag_from_name(labels, \"Cavity\")\n",
    "const tag_diel = get_tag_from_name(labels, \"Dielectric\")\n",
    "\n",
    "function eps(tag)\n",
    "    if tag == tag_diel\n",
    "        return eps_r;\n",
    "    elseif tag == tag_cavity\n",
    "        return eps_c;\n",
    "    else\n",
    "        return 1.0;\n",
    "    end\n",
    "end\n",
    "\n",
    "τ = CellField(tags, Ω)\n",
    "\n",
    "# Construct weak form\n",
    "fun(x) = 1 / x[1];\n",
    "lhs(u,v) = ∫( (eps∘τ) * ∇(v) ⋅ ∇(u) )dΩ - ∫( (eps∘τ) * fun * ∇(u) ⋅ VectorValue(1, 0) ⋅ v )dΩ\n",
    "rhs(v)   = 0;\n",
    "\n",
    "# Construct FE operator with LHS, RHS, and test and trial spaces\n",
    "op = AffineFEOperator(lhs, rhs, Ug, V0);\n",
    "\n",
    "# Solve the linear FE system with LU solver\n",
    "ls = LUSolver()\n",
    "solver = LinearFESolver(ls)\n",
    "\n",
    "uh = solve(solver, op);\n",
    "E = ∇(uh);"
   ]
  },
  {
   "cell_type": "markdown",
   "id": "killing-ladder",
   "metadata": {},
   "source": [
    "# Plot Field"
   ]
  },
  {
   "cell_type": "markdown",
   "id": "dominant-xerox",
   "metadata": {},
   "source": [
    "## Along $z$ axis\n",
    "Along the $z$ axis we observe the effect of the normal boundary condition $\\epsilon_1 E_{1n} = \\epsilon_2 E_{2n}$."
   ]
  },
  {
   "cell_type": "code",
   "execution_count": 56,
   "id": "municipal-pulse",
   "metadata": {},
   "outputs": [],
   "source": [
    "y = Vector(-2.5*r:1e-5:2.5*r)\n",
    "coord = [Point(0, y[i]) for i in 1:length(y)];\n",
    "Eline = E(coord);\n",
    "Eline = [sqrt(E[1]^2 + E[2]^2)  for E in Eline];"
   ]
  },
  {
   "cell_type": "code",
   "execution_count": 57,
   "id": "filled-vulnerability",
   "metadata": {},
   "outputs": [
    {
     "data": {
      "image/svg+xml": [
       "<?xml version=\"1.0\" encoding=\"utf-8\"?>\n",
       "<svg xmlns=\"http://www.w3.org/2000/svg\" xmlns:xlink=\"http://www.w3.org/1999/xlink\" width=\"600\" height=\"400\" viewBox=\"0 0 2400 1600\">\n",
       "<defs>\n",
       "  <clipPath id=\"clip910\">\n",
       "    <rect x=\"0\" y=\"0\" width=\"2400\" height=\"1600\"/>\n",
       "  </clipPath>\n",
       "</defs>\n",
       "<path clip-path=\"url(#clip910)\" d=\"\n",
       "M0 1600 L2400 1600 L2400 0 L0 0  Z\n",
       "  \" fill=\"#ffffff\" fill-rule=\"evenodd\" fill-opacity=\"1\"/>\n",
       "<defs>\n",
       "  <clipPath id=\"clip911\">\n",
       "    <rect x=\"480\" y=\"0\" width=\"1681\" height=\"1600\"/>\n",
       "  </clipPath>\n",
       "</defs>\n",
       "<defs>\n",
       "  <clipPath id=\"clip912\">\n",
       "    <rect x=\"219\" y=\"47\" width=\"2134\" height=\"1377\"/>\n",
       "  </clipPath>\n",
       "</defs>\n",
       "<path clip-path=\"url(#clip910)\" d=\"\n",
       "M219.866 1423.18 L2352.76 1423.18 L2352.76 47.2441 L219.866 47.2441  Z\n",
       "  \" fill=\"#ffffff\" fill-rule=\"evenodd\" fill-opacity=\"1\"/>\n",
       "<polyline clip-path=\"url(#clip912)\" style=\"stroke:#000000; stroke-linecap:butt; stroke-linejoin:round; stroke-width:2; stroke-opacity:0.1; fill:none\" points=\"\n",
       "  481.447,1423.18 481.447,47.2441 \n",
       "  \"/>\n",
       "<polyline clip-path=\"url(#clip912)\" style=\"stroke:#000000; stroke-linecap:butt; stroke-linejoin:round; stroke-width:2; stroke-opacity:0.1; fill:none\" points=\"\n",
       "  883.879,1423.18 883.879,47.2441 \n",
       "  \"/>\n",
       "<polyline clip-path=\"url(#clip912)\" style=\"stroke:#000000; stroke-linecap:butt; stroke-linejoin:round; stroke-width:2; stroke-opacity:0.1; fill:none\" points=\"\n",
       "  1286.31,1423.18 1286.31,47.2441 \n",
       "  \"/>\n",
       "<polyline clip-path=\"url(#clip912)\" style=\"stroke:#000000; stroke-linecap:butt; stroke-linejoin:round; stroke-width:2; stroke-opacity:0.1; fill:none\" points=\"\n",
       "  1688.74,1423.18 1688.74,47.2441 \n",
       "  \"/>\n",
       "<polyline clip-path=\"url(#clip912)\" style=\"stroke:#000000; stroke-linecap:butt; stroke-linejoin:round; stroke-width:2; stroke-opacity:0.1; fill:none\" points=\"\n",
       "  2091.18,1423.18 2091.18,47.2441 \n",
       "  \"/>\n",
       "<polyline clip-path=\"url(#clip910)\" style=\"stroke:#000000; stroke-linecap:butt; stroke-linejoin:round; stroke-width:4; stroke-opacity:1; fill:none\" points=\"\n",
       "  219.866,1423.18 2352.76,1423.18 \n",
       "  \"/>\n",
       "<polyline clip-path=\"url(#clip910)\" style=\"stroke:#000000; stroke-linecap:butt; stroke-linejoin:round; stroke-width:4; stroke-opacity:1; fill:none\" points=\"\n",
       "  481.447,1423.18 481.447,1404.28 \n",
       "  \"/>\n",
       "<polyline clip-path=\"url(#clip910)\" style=\"stroke:#000000; stroke-linecap:butt; stroke-linejoin:round; stroke-width:4; stroke-opacity:1; fill:none\" points=\"\n",
       "  883.879,1423.18 883.879,1404.28 \n",
       "  \"/>\n",
       "<polyline clip-path=\"url(#clip910)\" style=\"stroke:#000000; stroke-linecap:butt; stroke-linejoin:round; stroke-width:4; stroke-opacity:1; fill:none\" points=\"\n",
       "  1286.31,1423.18 1286.31,1404.28 \n",
       "  \"/>\n",
       "<polyline clip-path=\"url(#clip910)\" style=\"stroke:#000000; stroke-linecap:butt; stroke-linejoin:round; stroke-width:4; stroke-opacity:1; fill:none\" points=\"\n",
       "  1688.74,1423.18 1688.74,1404.28 \n",
       "  \"/>\n",
       "<polyline clip-path=\"url(#clip910)\" style=\"stroke:#000000; stroke-linecap:butt; stroke-linejoin:round; stroke-width:4; stroke-opacity:1; fill:none\" points=\"\n",
       "  2091.18,1423.18 2091.18,1404.28 \n",
       "  \"/>\n",
       "<path clip-path=\"url(#clip910)\" d=\"M427.975 1468.75 L457.651 1468.75 L457.651 1472.69 L427.975 1472.69 L427.975 1468.75 Z\" fill=\"#000000\" fill-rule=\"evenodd\" fill-opacity=\"1\" /><path clip-path=\"url(#clip910)\" d=\"M468.554 1481.64 L476.192 1481.64 L476.192 1455.28 L467.882 1456.95 L467.882 1452.69 L476.146 1451.02 L480.822 1451.02 L480.822 1481.64 L488.461 1481.64 L488.461 1485.58 L468.554 1485.58 L468.554 1481.64 Z\" fill=\"#000000\" fill-rule=\"evenodd\" fill-opacity=\"1\" /><path clip-path=\"url(#clip910)\" d=\"M497.905 1479.7 L502.79 1479.7 L502.79 1485.58 L497.905 1485.58 L497.905 1479.7 Z\" fill=\"#000000\" fill-rule=\"evenodd\" fill-opacity=\"1\" /><path clip-path=\"url(#clip910)\" d=\"M522.975 1454.1 Q519.364 1454.1 517.535 1457.66 Q515.729 1461.2 515.729 1468.33 Q515.729 1475.44 517.535 1479.01 Q519.364 1482.55 522.975 1482.55 Q526.609 1482.55 528.414 1479.01 Q530.243 1475.44 530.243 1468.33 Q530.243 1461.2 528.414 1457.66 Q526.609 1454.1 522.975 1454.1 M522.975 1450.39 Q528.785 1450.39 531.84 1455 Q534.919 1459.58 534.919 1468.33 Q534.919 1477.06 531.84 1481.67 Q528.785 1486.25 522.975 1486.25 Q517.164 1486.25 514.086 1481.67 Q511.03 1477.06 511.03 1468.33 Q511.03 1459.58 514.086 1455 Q517.164 1450.39 522.975 1450.39 Z\" fill=\"#000000\" fill-rule=\"evenodd\" fill-opacity=\"1\" /><path clip-path=\"url(#clip910)\" d=\"M830.905 1468.75 L860.581 1468.75 L860.581 1472.69 L830.905 1472.69 L830.905 1468.75 Z\" fill=\"#000000\" fill-rule=\"evenodd\" fill-opacity=\"1\" /><path clip-path=\"url(#clip910)\" d=\"M880.673 1454.1 Q877.062 1454.1 875.233 1457.66 Q873.428 1461.2 873.428 1468.33 Q873.428 1475.44 875.233 1479.01 Q877.062 1482.55 880.673 1482.55 Q884.307 1482.55 886.113 1479.01 Q887.942 1475.44 887.942 1468.33 Q887.942 1461.2 886.113 1457.66 Q884.307 1454.1 880.673 1454.1 M880.673 1450.39 Q886.483 1450.39 889.539 1455 Q892.617 1459.58 892.617 1468.33 Q892.617 1477.06 889.539 1481.67 Q886.483 1486.25 880.673 1486.25 Q874.863 1486.25 871.784 1481.67 Q868.729 1477.06 868.729 1468.33 Q868.729 1459.58 871.784 1455 Q874.863 1450.39 880.673 1450.39 Z\" fill=\"#000000\" fill-rule=\"evenodd\" fill-opacity=\"1\" /><path clip-path=\"url(#clip910)\" d=\"M900.835 1479.7 L905.719 1479.7 L905.719 1485.58 L900.835 1485.58 L900.835 1479.7 Z\" fill=\"#000000\" fill-rule=\"evenodd\" fill-opacity=\"1\" /><path clip-path=\"url(#clip910)\" d=\"M915.951 1451.02 L934.307 1451.02 L934.307 1454.96 L920.233 1454.96 L920.233 1463.43 Q921.252 1463.08 922.27 1462.92 Q923.289 1462.73 924.307 1462.73 Q930.094 1462.73 933.474 1465.9 Q936.853 1469.08 936.853 1474.49 Q936.853 1480.07 933.381 1483.17 Q929.909 1486.25 923.59 1486.25 Q921.414 1486.25 919.145 1485.88 Q916.9 1485.51 914.492 1484.77 L914.492 1480.07 Q916.576 1481.2 918.798 1481.76 Q921.02 1482.32 923.497 1482.32 Q927.502 1482.32 929.839 1480.21 Q932.177 1478.1 932.177 1474.49 Q932.177 1470.88 929.839 1468.77 Q927.502 1466.67 923.497 1466.67 Q921.622 1466.67 919.747 1467.08 Q917.895 1467.5 915.951 1468.38 L915.951 1451.02 Z\" fill=\"#000000\" fill-rule=\"evenodd\" fill-opacity=\"1\" /><path clip-path=\"url(#clip910)\" d=\"M1263.7 1454.1 Q1260.08 1454.1 1258.26 1457.66 Q1256.45 1461.2 1256.45 1468.33 Q1256.45 1475.44 1258.26 1479.01 Q1260.08 1482.55 1263.7 1482.55 Q1267.33 1482.55 1269.14 1479.01 Q1270.96 1475.44 1270.96 1468.33 Q1270.96 1461.2 1269.14 1457.66 Q1267.33 1454.1 1263.7 1454.1 M1263.7 1450.39 Q1269.51 1450.39 1272.56 1455 Q1275.64 1459.58 1275.64 1468.33 Q1275.64 1477.06 1272.56 1481.67 Q1269.51 1486.25 1263.7 1486.25 Q1257.89 1486.25 1254.81 1481.67 Q1251.75 1477.06 1251.75 1468.33 Q1251.75 1459.58 1254.81 1455 Q1257.89 1450.39 1263.7 1450.39 Z\" fill=\"#000000\" fill-rule=\"evenodd\" fill-opacity=\"1\" /><path clip-path=\"url(#clip910)\" d=\"M1283.86 1479.7 L1288.74 1479.7 L1288.74 1485.58 L1283.86 1485.58 L1283.86 1479.7 Z\" fill=\"#000000\" fill-rule=\"evenodd\" fill-opacity=\"1\" /><path clip-path=\"url(#clip910)\" d=\"M1308.93 1454.1 Q1305.32 1454.1 1303.49 1457.66 Q1301.68 1461.2 1301.68 1468.33 Q1301.68 1475.44 1303.49 1479.01 Q1305.32 1482.55 1308.93 1482.55 Q1312.56 1482.55 1314.37 1479.01 Q1316.2 1475.44 1316.2 1468.33 Q1316.2 1461.2 1314.37 1457.66 Q1312.56 1454.1 1308.93 1454.1 M1308.93 1450.39 Q1314.74 1450.39 1317.79 1455 Q1320.87 1459.58 1320.87 1468.33 Q1320.87 1477.06 1317.79 1481.67 Q1314.74 1486.25 1308.93 1486.25 Q1303.12 1486.25 1300.04 1481.67 Q1296.98 1477.06 1296.98 1468.33 Q1296.98 1459.58 1300.04 1455 Q1303.12 1450.39 1308.93 1450.39 Z\" fill=\"#000000\" fill-rule=\"evenodd\" fill-opacity=\"1\" /><path clip-path=\"url(#clip910)\" d=\"M1666.63 1454.1 Q1663.01 1454.1 1661.19 1457.66 Q1659.38 1461.2 1659.38 1468.33 Q1659.38 1475.44 1661.19 1479.01 Q1663.01 1482.55 1666.63 1482.55 Q1670.26 1482.55 1672.06 1479.01 Q1673.89 1475.44 1673.89 1468.33 Q1673.89 1461.2 1672.06 1457.66 Q1670.26 1454.1 1666.63 1454.1 M1666.63 1450.39 Q1672.44 1450.39 1675.49 1455 Q1678.57 1459.58 1678.57 1468.33 Q1678.57 1477.06 1675.49 1481.67 Q1672.44 1486.25 1666.63 1486.25 Q1660.82 1486.25 1657.74 1481.67 Q1654.68 1477.06 1654.68 1468.33 Q1654.68 1459.58 1657.74 1455 Q1660.82 1450.39 1666.63 1450.39 Z\" fill=\"#000000\" fill-rule=\"evenodd\" fill-opacity=\"1\" /><path clip-path=\"url(#clip910)\" d=\"M1686.79 1479.7 L1691.67 1479.7 L1691.67 1485.58 L1686.79 1485.58 L1686.79 1479.7 Z\" fill=\"#000000\" fill-rule=\"evenodd\" fill-opacity=\"1\" /><path clip-path=\"url(#clip910)\" d=\"M1701.9 1451.02 L1720.26 1451.02 L1720.26 1454.96 L1706.19 1454.96 L1706.19 1463.43 Q1707.2 1463.08 1708.22 1462.92 Q1709.24 1462.73 1710.26 1462.73 Q1716.05 1462.73 1719.43 1465.9 Q1722.81 1469.08 1722.81 1474.49 Q1722.81 1480.07 1719.33 1483.17 Q1715.86 1486.25 1709.54 1486.25 Q1707.37 1486.25 1705.1 1485.88 Q1702.85 1485.51 1700.44 1484.77 L1700.44 1480.07 Q1702.53 1481.2 1704.75 1481.76 Q1706.97 1482.32 1709.45 1482.32 Q1713.45 1482.32 1715.79 1480.21 Q1718.13 1478.1 1718.13 1474.49 Q1718.13 1470.88 1715.79 1468.77 Q1713.45 1466.67 1709.45 1466.67 Q1707.57 1466.67 1705.7 1467.08 Q1703.85 1467.5 1701.9 1468.38 L1701.9 1451.02 Z\" fill=\"#000000\" fill-rule=\"evenodd\" fill-opacity=\"1\" /><path clip-path=\"url(#clip910)\" d=\"M2058.33 1481.64 L2065.97 1481.64 L2065.97 1455.28 L2057.66 1456.95 L2057.66 1452.69 L2065.92 1451.02 L2070.6 1451.02 L2070.6 1481.64 L2078.24 1481.64 L2078.24 1485.58 L2058.33 1485.58 L2058.33 1481.64 Z\" fill=\"#000000\" fill-rule=\"evenodd\" fill-opacity=\"1\" /><path clip-path=\"url(#clip910)\" d=\"M2087.68 1479.7 L2092.56 1479.7 L2092.56 1485.58 L2087.68 1485.58 L2087.68 1479.7 Z\" fill=\"#000000\" fill-rule=\"evenodd\" fill-opacity=\"1\" /><path clip-path=\"url(#clip910)\" d=\"M2112.75 1454.1 Q2109.14 1454.1 2107.31 1457.66 Q2105.5 1461.2 2105.5 1468.33 Q2105.5 1475.44 2107.31 1479.01 Q2109.14 1482.55 2112.75 1482.55 Q2116.38 1482.55 2118.19 1479.01 Q2120.02 1475.44 2120.02 1468.33 Q2120.02 1461.2 2118.19 1457.66 Q2116.38 1454.1 2112.75 1454.1 M2112.75 1450.39 Q2118.56 1450.39 2121.61 1455 Q2124.69 1459.58 2124.69 1468.33 Q2124.69 1477.06 2121.61 1481.67 Q2118.56 1486.25 2112.75 1486.25 Q2106.94 1486.25 2103.86 1481.67 Q2100.8 1477.06 2100.8 1468.33 Q2100.8 1459.58 2103.86 1455 Q2106.94 1450.39 2112.75 1450.39 Z\" fill=\"#000000\" fill-rule=\"evenodd\" fill-opacity=\"1\" /><path clip-path=\"url(#clip910)\" d=\"M1225.88 1544 Q1225.88 1544.22 1225.34 1545.19 Q1224.82 1546.12 1222.92 1548.47 Q1221.02 1550.83 1218.19 1553.56 Q1217.12 1554.63 1215.51 1556.11 Q1213.9 1557.59 1212.81 1558.55 L1211.71 1559.52 Q1207.53 1563.06 1203.85 1567.02 Q1204.11 1566.93 1204.56 1566.9 Q1205.01 1566.83 1205.34 1566.83 L1205.66 1566.83 Q1207.33 1566.83 1210.26 1567.96 Q1212.84 1568.8 1214.16 1568.8 Q1215.45 1568.8 1216.87 1568.35 Q1218.28 1567.89 1219.83 1566.57 Q1221.37 1565.25 1222.08 1563.26 Q1222.21 1562.93 1222.28 1562.84 Q1222.34 1562.71 1222.53 1562.58 Q1222.73 1562.42 1222.98 1562.42 Q1223.34 1562.42 1223.56 1562.61 Q1223.79 1562.81 1223.79 1563.06 Q1223.79 1563.64 1223.34 1564.8 Q1222.92 1565.96 1221.99 1567.41 Q1221.08 1568.86 1219.89 1570.18 Q1218.73 1571.47 1216.99 1572.37 Q1215.26 1573.24 1213.42 1573.24 Q1212.1 1573.24 1211.13 1572.6 Q1210.17 1571.98 1209.2 1570.79 Q1207.88 1569.28 1207.17 1568.8 Q1206.46 1568.28 1205.37 1568.28 Q1202.44 1568.28 1199.76 1572.37 Q1199.47 1572.95 1199.28 1573.08 Q1199.12 1573.24 1198.73 1573.24 Q1197.93 1573.21 1197.93 1572.56 Q1197.93 1572.31 1198.64 1571.18 Q1199.38 1570.02 1201.02 1567.99 Q1202.69 1565.96 1204.72 1563.93 L1210.65 1558.39 Q1217.22 1552.85 1219.83 1549.73 Q1218.73 1549.73 1218.25 1549.7 Q1217.8 1549.67 1216.9 1549.47 Q1216 1549.25 1214.74 1548.76 Q1211.81 1547.77 1210.59 1547.77 Q1210.26 1547.77 1209.91 1547.8 Q1209.55 1547.83 1208.75 1547.99 Q1207.98 1548.15 1207.33 1548.47 Q1206.69 1548.76 1206.01 1549.41 Q1205.34 1550.02 1204.98 1550.86 Q1204.88 1551.12 1204.82 1551.24 Q1204.76 1551.37 1204.56 1551.5 Q1204.4 1551.6 1204.14 1551.6 Q1203.76 1551.6 1203.53 1551.37 Q1203.34 1551.15 1203.34 1550.86 Q1203.34 1550.28 1203.92 1549.09 Q1204.5 1547.89 1205.46 1546.61 Q1206.43 1545.29 1208.01 1544.32 Q1209.59 1543.35 1211.33 1543.35 Q1212.36 1543.35 1213.23 1543.8 Q1214.13 1544.26 1214.58 1544.74 Q1215.06 1545.19 1215.87 1546.19 Q1216.54 1546.96 1216.87 1547.28 Q1217.19 1547.6 1217.83 1547.96 Q1218.51 1548.28 1219.25 1548.28 Q1220.47 1548.28 1221.6 1547.35 Q1222.73 1546.38 1224.18 1544.06 Q1224.56 1543.35 1225.17 1543.35 Q1225.88 1543.35 1225.88 1544 Z\" fill=\"#000000\" fill-rule=\"evenodd\" fill-opacity=\"1\" /><path clip-path=\"url(#clip910)\" d=\"M1237.01 1588.99 L1237.01 1523.03 L1246.96 1523.03 L1246.96 1524.55 L1241.42 1524.55 L1241.42 1587.48 L1246.96 1587.48 L1246.96 1588.99 L1237.01 1588.99 Z\" fill=\"#000000\" fill-rule=\"evenodd\" fill-opacity=\"1\" /><path clip-path=\"url(#clip910)\" d=\"M1248.3 1572.5 L1248.3 1570.47 Q1251.81 1570.47 1252.61 1570.05 Q1253.42 1569.6 1253.42 1567.48 L1253.42 1549.79 Q1253.42 1547.35 1252.55 1546.74 Q1251.71 1546.12 1248.3 1546.12 L1248.3 1544.06 L1257.57 1543.35 L1257.57 1550.28 Q1260.66 1543.35 1267.33 1543.35 Q1275.06 1543.35 1276.12 1549.79 Q1277.25 1547.28 1279.6 1545.32 Q1281.99 1543.35 1285.69 1543.35 Q1290.65 1543.35 1292.61 1545.8 Q1294.06 1547.44 1294.35 1549.28 Q1294.64 1551.12 1294.64 1555.88 L1294.64 1568.47 Q1294.71 1569.86 1295.77 1570.18 Q1296.83 1570.47 1299.79 1570.47 L1299.79 1572.5 Q1293.06 1572.31 1292.42 1572.31 Q1291.9 1572.31 1284.95 1572.5 L1284.95 1570.47 Q1288.46 1570.47 1289.26 1570.05 Q1290.1 1569.6 1290.1 1567.48 L1290.1 1552.11 Q1290.1 1548.76 1289.07 1546.8 Q1288.04 1544.8 1285.21 1544.8 Q1281.79 1544.8 1279.05 1547.67 Q1276.32 1550.54 1276.32 1555.37 L1276.32 1567.48 Q1276.32 1569.6 1277.12 1570.05 Q1277.96 1570.47 1281.47 1570.47 L1281.47 1572.5 Q1274.74 1572.31 1274.06 1572.31 Q1273.55 1572.31 1266.62 1572.5 L1266.62 1570.47 Q1270.13 1570.47 1270.94 1570.05 Q1271.78 1569.6 1271.78 1567.48 L1271.78 1552.11 Q1271.78 1548.76 1270.75 1546.8 Q1269.71 1544.8 1266.88 1544.8 Q1263.47 1544.8 1260.73 1547.67 Q1257.99 1550.54 1257.99 1555.37 L1257.99 1567.48 Q1257.99 1569.6 1258.8 1570.05 Q1259.63 1570.47 1263.11 1570.47 L1263.11 1572.5 Q1256.38 1572.31 1255.74 1572.31 Q1255.22 1572.31 1248.3 1572.5 Z\" fill=\"#000000\" fill-rule=\"evenodd\" fill-opacity=\"1\" /><path clip-path=\"url(#clip910)\" d=\"M1302.42 1572.5 L1302.42 1570.47 Q1305.93 1570.47 1306.74 1570.05 Q1307.54 1569.6 1307.54 1567.48 L1307.54 1549.79 Q1307.54 1547.35 1306.67 1546.74 Q1305.83 1546.12 1302.42 1546.12 L1302.42 1544.06 L1311.7 1543.35 L1311.7 1550.28 Q1314.79 1543.35 1321.45 1543.35 Q1329.18 1543.35 1330.25 1549.79 Q1331.37 1547.28 1333.72 1545.32 Q1336.11 1543.35 1339.81 1543.35 Q1344.77 1543.35 1346.74 1545.8 Q1348.19 1547.44 1348.48 1549.28 Q1348.76 1551.12 1348.76 1555.88 L1348.76 1568.47 Q1348.83 1569.86 1349.89 1570.18 Q1350.95 1570.47 1353.92 1570.47 L1353.92 1572.5 Q1347.19 1572.31 1346.54 1572.31 Q1346.03 1572.31 1339.07 1572.5 L1339.07 1570.47 Q1342.58 1570.47 1343.39 1570.05 Q1344.22 1569.6 1344.22 1567.48 L1344.22 1552.11 Q1344.22 1548.76 1343.19 1546.8 Q1342.16 1544.8 1339.33 1544.8 Q1335.91 1544.8 1333.18 1547.67 Q1330.44 1550.54 1330.44 1555.37 L1330.44 1567.48 Q1330.44 1569.6 1331.24 1570.05 Q1332.08 1570.47 1335.59 1570.47 L1335.59 1572.5 Q1328.86 1572.31 1328.19 1572.31 Q1327.67 1572.31 1320.75 1572.5 L1320.75 1570.47 Q1324.26 1570.47 1325.06 1570.05 Q1325.9 1569.6 1325.9 1567.48 L1325.9 1552.11 Q1325.9 1548.76 1324.87 1546.8 Q1323.84 1544.8 1321 1544.8 Q1317.59 1544.8 1314.85 1547.67 Q1312.11 1550.54 1312.11 1555.37 L1312.11 1567.48 Q1312.11 1569.6 1312.92 1570.05 Q1313.76 1570.47 1317.24 1570.47 L1317.24 1572.5 Q1310.5 1572.31 1309.86 1572.31 Q1309.34 1572.31 1302.42 1572.5 Z\" fill=\"#000000\" fill-rule=\"evenodd\" fill-opacity=\"1\" /><path clip-path=\"url(#clip910)\" d=\"M1356.54 1587.48 L1362.08 1587.48 L1362.08 1524.55 L1356.54 1524.55 L1356.54 1523.03 L1366.5 1523.03 L1366.5 1588.99 L1356.54 1588.99 L1356.54 1587.48 Z\" fill=\"#000000\" fill-rule=\"evenodd\" fill-opacity=\"1\" /><polyline clip-path=\"url(#clip912)\" style=\"stroke:#000000; stroke-linecap:butt; stroke-linejoin:round; stroke-width:2; stroke-opacity:0.1; fill:none\" points=\"\n",
       "  219.866,1423.18 2352.76,1423.18 \n",
       "  \"/>\n",
       "<polyline clip-path=\"url(#clip912)\" style=\"stroke:#000000; stroke-linecap:butt; stroke-linejoin:round; stroke-width:2; stroke-opacity:0.1; fill:none\" points=\"\n",
       "  219.866,1270.3 2352.76,1270.3 \n",
       "  \"/>\n",
       "<polyline clip-path=\"url(#clip912)\" style=\"stroke:#000000; stroke-linecap:butt; stroke-linejoin:round; stroke-width:2; stroke-opacity:0.1; fill:none\" points=\"\n",
       "  219.866,1117.42 2352.76,1117.42 \n",
       "  \"/>\n",
       "<polyline clip-path=\"url(#clip912)\" style=\"stroke:#000000; stroke-linecap:butt; stroke-linejoin:round; stroke-width:2; stroke-opacity:0.1; fill:none\" points=\"\n",
       "  219.866,964.535 2352.76,964.535 \n",
       "  \"/>\n",
       "<polyline clip-path=\"url(#clip912)\" style=\"stroke:#000000; stroke-linecap:butt; stroke-linejoin:round; stroke-width:2; stroke-opacity:0.1; fill:none\" points=\"\n",
       "  219.866,811.653 2352.76,811.653 \n",
       "  \"/>\n",
       "<polyline clip-path=\"url(#clip912)\" style=\"stroke:#000000; stroke-linecap:butt; stroke-linejoin:round; stroke-width:2; stroke-opacity:0.1; fill:none\" points=\"\n",
       "  219.866,658.771 2352.76,658.771 \n",
       "  \"/>\n",
       "<polyline clip-path=\"url(#clip912)\" style=\"stroke:#000000; stroke-linecap:butt; stroke-linejoin:round; stroke-width:2; stroke-opacity:0.1; fill:none\" points=\"\n",
       "  219.866,505.889 2352.76,505.889 \n",
       "  \"/>\n",
       "<polyline clip-path=\"url(#clip912)\" style=\"stroke:#000000; stroke-linecap:butt; stroke-linejoin:round; stroke-width:2; stroke-opacity:0.1; fill:none\" points=\"\n",
       "  219.866,353.008 2352.76,353.008 \n",
       "  \"/>\n",
       "<polyline clip-path=\"url(#clip912)\" style=\"stroke:#000000; stroke-linecap:butt; stroke-linejoin:round; stroke-width:2; stroke-opacity:0.1; fill:none\" points=\"\n",
       "  219.866,200.126 2352.76,200.126 \n",
       "  \"/>\n",
       "<polyline clip-path=\"url(#clip912)\" style=\"stroke:#000000; stroke-linecap:butt; stroke-linejoin:round; stroke-width:2; stroke-opacity:0.1; fill:none\" points=\"\n",
       "  219.866,47.2441 2352.76,47.2441 \n",
       "  \"/>\n",
       "<polyline clip-path=\"url(#clip910)\" style=\"stroke:#000000; stroke-linecap:butt; stroke-linejoin:round; stroke-width:4; stroke-opacity:1; fill:none\" points=\"\n",
       "  219.866,1423.18 219.866,47.2441 \n",
       "  \"/>\n",
       "<polyline clip-path=\"url(#clip910)\" style=\"stroke:#000000; stroke-linecap:butt; stroke-linejoin:round; stroke-width:4; stroke-opacity:1; fill:none\" points=\"\n",
       "  219.866,1423.18 238.764,1423.18 \n",
       "  \"/>\n",
       "<polyline clip-path=\"url(#clip910)\" style=\"stroke:#000000; stroke-linecap:butt; stroke-linejoin:round; stroke-width:4; stroke-opacity:1; fill:none\" points=\"\n",
       "  219.866,1270.3 238.764,1270.3 \n",
       "  \"/>\n",
       "<polyline clip-path=\"url(#clip910)\" style=\"stroke:#000000; stroke-linecap:butt; stroke-linejoin:round; stroke-width:4; stroke-opacity:1; fill:none\" points=\"\n",
       "  219.866,1117.42 238.764,1117.42 \n",
       "  \"/>\n",
       "<polyline clip-path=\"url(#clip910)\" style=\"stroke:#000000; stroke-linecap:butt; stroke-linejoin:round; stroke-width:4; stroke-opacity:1; fill:none\" points=\"\n",
       "  219.866,964.535 238.764,964.535 \n",
       "  \"/>\n",
       "<polyline clip-path=\"url(#clip910)\" style=\"stroke:#000000; stroke-linecap:butt; stroke-linejoin:round; stroke-width:4; stroke-opacity:1; fill:none\" points=\"\n",
       "  219.866,811.653 238.764,811.653 \n",
       "  \"/>\n",
       "<polyline clip-path=\"url(#clip910)\" style=\"stroke:#000000; stroke-linecap:butt; stroke-linejoin:round; stroke-width:4; stroke-opacity:1; fill:none\" points=\"\n",
       "  219.866,658.771 238.764,658.771 \n",
       "  \"/>\n",
       "<polyline clip-path=\"url(#clip910)\" style=\"stroke:#000000; stroke-linecap:butt; stroke-linejoin:round; stroke-width:4; stroke-opacity:1; fill:none\" points=\"\n",
       "  219.866,505.889 238.764,505.889 \n",
       "  \"/>\n",
       "<polyline clip-path=\"url(#clip910)\" style=\"stroke:#000000; stroke-linecap:butt; stroke-linejoin:round; stroke-width:4; stroke-opacity:1; fill:none\" points=\"\n",
       "  219.866,353.008 238.764,353.008 \n",
       "  \"/>\n",
       "<polyline clip-path=\"url(#clip910)\" style=\"stroke:#000000; stroke-linecap:butt; stroke-linejoin:round; stroke-width:4; stroke-opacity:1; fill:none\" points=\"\n",
       "  219.866,200.126 238.764,200.126 \n",
       "  \"/>\n",
       "<polyline clip-path=\"url(#clip910)\" style=\"stroke:#000000; stroke-linecap:butt; stroke-linejoin:round; stroke-width:4; stroke-opacity:1; fill:none\" points=\"\n",
       "  219.866,47.2441 238.764,47.2441 \n",
       "  \"/>\n",
       "<path clip-path=\"url(#clip910)\" d=\"M126.205 1408.98 Q122.593 1408.98 120.765 1412.54 Q118.959 1416.08 118.959 1423.21 Q118.959 1430.32 120.765 1433.89 Q122.593 1437.43 126.205 1437.43 Q129.839 1437.43 131.644 1433.89 Q133.473 1430.32 133.473 1423.21 Q133.473 1416.08 131.644 1412.54 Q129.839 1408.98 126.205 1408.98 M126.205 1405.27 Q132.015 1405.27 135.07 1409.88 Q138.149 1414.46 138.149 1423.21 Q138.149 1431.94 135.07 1436.55 Q132.015 1441.13 126.205 1441.13 Q120.394 1441.13 117.316 1436.55 Q114.26 1431.94 114.26 1423.21 Q114.26 1414.46 117.316 1409.88 Q120.394 1405.27 126.205 1405.27 Z\" fill=\"#000000\" fill-rule=\"evenodd\" fill-opacity=\"1\" /><path clip-path=\"url(#clip910)\" d=\"M146.366 1434.58 L151.251 1434.58 L151.251 1440.46 L146.366 1440.46 L146.366 1434.58 Z\" fill=\"#000000\" fill-rule=\"evenodd\" fill-opacity=\"1\" /><path clip-path=\"url(#clip910)\" d=\"M174.283 1409.97 L162.477 1428.42 L174.283 1428.42 L174.283 1409.97 M173.056 1405.9 L178.936 1405.9 L178.936 1428.42 L183.866 1428.42 L183.866 1432.31 L178.936 1432.31 L178.936 1440.46 L174.283 1440.46 L174.283 1432.31 L158.681 1432.31 L158.681 1427.8 L173.056 1405.9 Z\" fill=\"#000000\" fill-rule=\"evenodd\" fill-opacity=\"1\" /><path clip-path=\"url(#clip910)\" d=\"M127.686 1256.1 Q124.075 1256.1 122.246 1259.66 Q120.441 1263.2 120.441 1270.33 Q120.441 1277.44 122.246 1281 Q124.075 1284.55 127.686 1284.55 Q131.32 1284.55 133.126 1281 Q134.954 1277.44 134.954 1270.33 Q134.954 1263.2 133.126 1259.66 Q131.32 1256.1 127.686 1256.1 M127.686 1252.39 Q133.496 1252.39 136.552 1257 Q139.63 1261.58 139.63 1270.33 Q139.63 1279.06 136.552 1283.67 Q133.496 1288.25 127.686 1288.25 Q121.876 1288.25 118.797 1283.67 Q115.742 1279.06 115.742 1270.33 Q115.742 1261.58 118.797 1257 Q121.876 1252.39 127.686 1252.39 Z\" fill=\"#000000\" fill-rule=\"evenodd\" fill-opacity=\"1\" /><path clip-path=\"url(#clip910)\" d=\"M147.848 1281.7 L152.732 1281.7 L152.732 1287.58 L147.848 1287.58 L147.848 1281.7 Z\" fill=\"#000000\" fill-rule=\"evenodd\" fill-opacity=\"1\" /><path clip-path=\"url(#clip910)\" d=\"M162.964 1253.02 L181.32 1253.02 L181.32 1256.95 L167.246 1256.95 L167.246 1265.43 Q168.264 1265.08 169.283 1264.92 Q170.302 1264.73 171.32 1264.73 Q177.107 1264.73 180.487 1267.9 Q183.866 1271.07 183.866 1276.49 Q183.866 1282.07 180.394 1285.17 Q176.922 1288.25 170.602 1288.25 Q168.427 1288.25 166.158 1287.88 Q163.913 1287.51 161.505 1286.77 L161.505 1282.07 Q163.589 1283.2 165.811 1283.76 Q168.033 1284.31 170.51 1284.31 Q174.514 1284.31 176.852 1282.21 Q179.19 1280.1 179.19 1276.49 Q179.19 1272.88 176.852 1270.77 Q174.514 1268.67 170.51 1268.67 Q168.635 1268.67 166.76 1269.08 Q164.908 1269.5 162.964 1270.38 L162.964 1253.02 Z\" fill=\"#000000\" fill-rule=\"evenodd\" fill-opacity=\"1\" /><path clip-path=\"url(#clip910)\" d=\"M126.529 1103.22 Q122.918 1103.22 121.089 1106.78 Q119.283 1110.32 119.283 1117.45 Q119.283 1124.56 121.089 1128.12 Q122.918 1131.66 126.529 1131.66 Q130.163 1131.66 131.968 1128.12 Q133.797 1124.56 133.797 1117.45 Q133.797 1110.32 131.968 1106.78 Q130.163 1103.22 126.529 1103.22 M126.529 1099.51 Q132.339 1099.51 135.394 1104.12 Q138.473 1108.7 138.473 1117.45 Q138.473 1126.18 135.394 1130.78 Q132.339 1135.37 126.529 1135.37 Q120.718 1135.37 117.64 1130.78 Q114.584 1126.18 114.584 1117.45 Q114.584 1108.7 117.64 1104.12 Q120.718 1099.51 126.529 1099.51 Z\" fill=\"#000000\" fill-rule=\"evenodd\" fill-opacity=\"1\" /><path clip-path=\"url(#clip910)\" d=\"M146.691 1128.82 L151.575 1128.82 L151.575 1134.7 L146.691 1134.7 L146.691 1128.82 Z\" fill=\"#000000\" fill-rule=\"evenodd\" fill-opacity=\"1\" /><path clip-path=\"url(#clip910)\" d=\"M172.339 1115.55 Q169.19 1115.55 167.339 1117.71 Q165.51 1119.86 165.51 1123.61 Q165.51 1127.34 167.339 1129.51 Q169.19 1131.66 172.339 1131.66 Q175.487 1131.66 177.315 1129.51 Q179.167 1127.34 179.167 1123.61 Q179.167 1119.86 177.315 1117.71 Q175.487 1115.55 172.339 1115.55 M181.621 1100.9 L181.621 1105.16 Q179.862 1104.33 178.056 1103.89 Q176.274 1103.45 174.514 1103.45 Q169.885 1103.45 167.431 1106.57 Q165.001 1109.7 164.653 1116.02 Q166.019 1114 168.079 1112.94 Q170.139 1111.85 172.616 1111.85 Q177.825 1111.85 180.834 1115.02 Q183.866 1118.17 183.866 1123.61 Q183.866 1128.93 180.718 1132.15 Q177.57 1135.37 172.339 1135.37 Q166.343 1135.37 163.172 1130.78 Q160.001 1126.18 160.001 1117.45 Q160.001 1109.26 163.89 1104.4 Q167.778 1099.51 174.329 1099.51 Q176.089 1099.51 177.871 1099.86 Q179.676 1100.21 181.621 1100.9 Z\" fill=\"#000000\" fill-rule=\"evenodd\" fill-opacity=\"1\" /><path clip-path=\"url(#clip910)\" d=\"M127.593 950.333 Q123.982 950.333 122.154 953.898 Q120.348 957.44 120.348 964.569 Q120.348 971.676 122.154 975.241 Q123.982 978.782 127.593 978.782 Q131.228 978.782 133.033 975.241 Q134.862 971.676 134.862 964.569 Q134.862 957.44 133.033 953.898 Q131.228 950.333 127.593 950.333 M127.593 946.63 Q133.404 946.63 136.459 951.236 Q139.538 955.819 139.538 964.569 Q139.538 973.296 136.459 977.903 Q133.404 982.486 127.593 982.486 Q121.783 982.486 118.705 977.903 Q115.649 973.296 115.649 964.569 Q115.649 955.819 118.705 951.236 Q121.783 946.63 127.593 946.63 Z\" fill=\"#000000\" fill-rule=\"evenodd\" fill-opacity=\"1\" /><path clip-path=\"url(#clip910)\" d=\"M147.755 975.935 L152.64 975.935 L152.64 981.815 L147.755 981.815 L147.755 975.935 Z\" fill=\"#000000\" fill-rule=\"evenodd\" fill-opacity=\"1\" /><path clip-path=\"url(#clip910)\" d=\"M161.644 947.255 L183.866 947.255 L183.866 949.245 L171.32 981.815 L166.436 981.815 L178.241 951.19 L161.644 951.19 L161.644 947.255 Z\" fill=\"#000000\" fill-rule=\"evenodd\" fill-opacity=\"1\" /><path clip-path=\"url(#clip910)\" d=\"M126.783 797.452 Q123.172 797.452 121.343 801.016 Q119.538 804.558 119.538 811.688 Q119.538 818.794 121.343 822.359 Q123.172 825.9 126.783 825.9 Q130.417 825.9 132.223 822.359 Q134.052 818.794 134.052 811.688 Q134.052 804.558 132.223 801.016 Q130.417 797.452 126.783 797.452 M126.783 793.748 Q132.593 793.748 135.649 798.354 Q138.728 802.938 138.728 811.688 Q138.728 820.414 135.649 825.021 Q132.593 829.604 126.783 829.604 Q120.973 829.604 117.894 825.021 Q114.839 820.414 114.839 811.688 Q114.839 802.938 117.894 798.354 Q120.973 793.748 126.783 793.748 Z\" fill=\"#000000\" fill-rule=\"evenodd\" fill-opacity=\"1\" /><path clip-path=\"url(#clip910)\" d=\"M146.945 823.053 L151.829 823.053 L151.829 828.933 L146.945 828.933 L146.945 823.053 Z\" fill=\"#000000\" fill-rule=\"evenodd\" fill-opacity=\"1\" /><path clip-path=\"url(#clip910)\" d=\"M172.014 812.521 Q168.681 812.521 166.76 814.303 Q164.862 816.086 164.862 819.211 Q164.862 822.336 166.76 824.118 Q168.681 825.9 172.014 825.9 Q175.348 825.9 177.269 824.118 Q179.19 822.313 179.19 819.211 Q179.19 816.086 177.269 814.303 Q175.371 812.521 172.014 812.521 M167.339 810.53 Q164.329 809.789 162.64 807.729 Q160.973 805.669 160.973 802.706 Q160.973 798.563 163.913 796.155 Q166.876 793.748 172.014 793.748 Q177.176 793.748 180.116 796.155 Q183.056 798.563 183.056 802.706 Q183.056 805.669 181.366 807.729 Q179.7 809.789 176.714 810.53 Q180.093 811.317 181.968 813.609 Q183.866 815.901 183.866 819.211 Q183.866 824.234 180.788 826.919 Q177.732 829.604 172.014 829.604 Q166.297 829.604 163.218 826.919 Q160.163 824.234 160.163 819.211 Q160.163 815.901 162.061 813.609 Q163.959 811.317 167.339 810.53 M165.626 803.146 Q165.626 805.831 167.292 807.336 Q168.982 808.84 172.014 808.84 Q175.024 808.84 176.714 807.336 Q178.426 805.831 178.426 803.146 Q178.426 800.461 176.714 798.956 Q175.024 797.452 172.014 797.452 Q168.982 797.452 167.292 798.956 Q165.626 800.461 165.626 803.146 Z\" fill=\"#000000\" fill-rule=\"evenodd\" fill-opacity=\"1\" /><path clip-path=\"url(#clip910)\" d=\"M126.876 644.57 Q123.265 644.57 121.436 648.135 Q119.63 651.676 119.63 658.806 Q119.63 665.912 121.436 669.477 Q123.265 673.019 126.876 673.019 Q130.51 673.019 132.316 669.477 Q134.144 665.912 134.144 658.806 Q134.144 651.676 132.316 648.135 Q130.51 644.57 126.876 644.57 M126.876 640.866 Q132.686 640.866 135.742 645.473 Q138.82 650.056 138.82 658.806 Q138.82 667.533 135.742 672.139 Q132.686 676.722 126.876 676.722 Q121.066 676.722 117.987 672.139 Q114.931 667.533 114.931 658.806 Q114.931 650.056 117.987 645.473 Q121.066 640.866 126.876 640.866 Z\" fill=\"#000000\" fill-rule=\"evenodd\" fill-opacity=\"1\" /><path clip-path=\"url(#clip910)\" d=\"M147.038 670.171 L151.922 670.171 L151.922 676.051 L147.038 676.051 L147.038 670.171 Z\" fill=\"#000000\" fill-rule=\"evenodd\" fill-opacity=\"1\" /><path clip-path=\"url(#clip910)\" d=\"M162.246 675.334 L162.246 671.074 Q164.005 671.908 165.811 672.347 Q167.616 672.787 169.352 672.787 Q173.982 672.787 176.413 669.685 Q178.866 666.56 179.214 660.218 Q177.871 662.209 175.811 663.273 Q173.751 664.338 171.251 664.338 Q166.065 664.338 163.033 661.213 Q160.024 658.065 160.024 652.625 Q160.024 647.301 163.172 644.084 Q166.32 640.866 171.552 640.866 Q177.547 640.866 180.695 645.473 Q183.866 650.056 183.866 658.806 Q183.866 666.977 179.977 671.861 Q176.112 676.722 169.561 676.722 Q167.802 676.722 165.996 676.375 Q164.19 676.028 162.246 675.334 M171.552 660.681 Q174.7 660.681 176.528 658.528 Q178.38 656.375 178.38 652.625 Q178.38 648.898 176.528 646.746 Q174.7 644.57 171.552 644.57 Q168.403 644.57 166.552 646.746 Q164.723 648.898 164.723 652.625 Q164.723 656.375 166.552 658.528 Q168.403 660.681 171.552 660.681 Z\" fill=\"#000000\" fill-rule=\"evenodd\" fill-opacity=\"1\" /><path clip-path=\"url(#clip910)\" d=\"M117.501 519.234 L125.14 519.234 L125.14 492.869 L116.83 494.535 L116.83 490.276 L125.093 488.609 L129.769 488.609 L129.769 519.234 L137.408 519.234 L137.408 523.169 L117.501 523.169 L117.501 519.234 Z\" fill=\"#000000\" fill-rule=\"evenodd\" fill-opacity=\"1\" /><path clip-path=\"url(#clip910)\" d=\"M146.853 517.29 L151.737 517.29 L151.737 523.169 L146.853 523.169 L146.853 517.29 Z\" fill=\"#000000\" fill-rule=\"evenodd\" fill-opacity=\"1\" /><path clip-path=\"url(#clip910)\" d=\"M171.922 491.688 Q168.311 491.688 166.482 495.253 Q164.677 498.794 164.677 505.924 Q164.677 513.031 166.482 516.595 Q168.311 520.137 171.922 520.137 Q175.556 520.137 177.362 516.595 Q179.19 513.031 179.19 505.924 Q179.19 498.794 177.362 495.253 Q175.556 491.688 171.922 491.688 M171.922 487.984 Q177.732 487.984 180.788 492.591 Q183.866 497.174 183.866 505.924 Q183.866 514.651 180.788 519.257 Q177.732 523.841 171.922 523.841 Q166.112 523.841 163.033 519.257 Q159.978 514.651 159.978 505.924 Q159.978 497.174 163.033 492.591 Q166.112 487.984 171.922 487.984 Z\" fill=\"#000000\" fill-rule=\"evenodd\" fill-opacity=\"1\" /><path clip-path=\"url(#clip910)\" d=\"M118.728 366.352 L126.367 366.352 L126.367 339.987 L118.056 341.653 L118.056 337.394 L126.32 335.728 L130.996 335.728 L130.996 366.352 L138.635 366.352 L138.635 370.288 L118.728 370.288 L118.728 366.352 Z\" fill=\"#000000\" fill-rule=\"evenodd\" fill-opacity=\"1\" /><path clip-path=\"url(#clip910)\" d=\"M148.079 364.408 L152.964 364.408 L152.964 370.288 L148.079 370.288 L148.079 364.408 Z\" fill=\"#000000\" fill-rule=\"evenodd\" fill-opacity=\"1\" /><path clip-path=\"url(#clip910)\" d=\"M163.959 366.352 L171.598 366.352 L171.598 339.987 L163.288 341.653 L163.288 337.394 L171.552 335.728 L176.227 335.728 L176.227 366.352 L183.866 366.352 L183.866 370.288 L163.959 370.288 L163.959 366.352 Z\" fill=\"#000000\" fill-rule=\"evenodd\" fill-opacity=\"1\" /><path clip-path=\"url(#clip910)\" d=\"M119.098 213.471 L126.737 213.471 L126.737 187.105 L118.427 188.772 L118.427 184.513 L126.691 182.846 L131.367 182.846 L131.367 213.471 L139.005 213.471 L139.005 217.406 L119.098 217.406 L119.098 213.471 Z\" fill=\"#000000\" fill-rule=\"evenodd\" fill-opacity=\"1\" /><path clip-path=\"url(#clip910)\" d=\"M148.45 211.526 L153.334 211.526 L153.334 217.406 L148.45 217.406 L148.45 211.526 Z\" fill=\"#000000\" fill-rule=\"evenodd\" fill-opacity=\"1\" /><path clip-path=\"url(#clip910)\" d=\"M167.547 213.471 L183.866 213.471 L183.866 217.406 L161.922 217.406 L161.922 213.471 Q164.584 210.716 169.167 206.086 Q173.774 201.434 174.954 200.091 Q177.2 197.568 178.079 195.832 Q178.982 194.073 178.982 192.383 Q178.982 189.628 177.038 187.892 Q175.116 186.156 172.014 186.156 Q169.815 186.156 167.362 186.92 Q164.931 187.684 162.153 189.235 L162.153 184.513 Q164.977 183.378 167.431 182.8 Q169.885 182.221 171.922 182.221 Q177.292 182.221 180.487 184.906 Q183.681 187.591 183.681 192.082 Q183.681 194.212 182.871 196.133 Q182.084 198.031 179.977 200.624 Q179.399 201.295 176.297 204.512 Q173.195 207.707 167.547 213.471 Z\" fill=\"#000000\" fill-rule=\"evenodd\" fill-opacity=\"1\" /><path clip-path=\"url(#clip910)\" d=\"M118.149 60.5889 L125.788 60.5889 L125.788 34.2233 L117.478 35.89 L117.478 31.6308 L125.742 29.9641 L130.417 29.9641 L130.417 60.5889 L138.056 60.5889 L138.056 64.5241 L118.149 64.5241 L118.149 60.5889 Z\" fill=\"#000000\" fill-rule=\"evenodd\" fill-opacity=\"1\" /><path clip-path=\"url(#clip910)\" d=\"M147.501 58.6445 L152.385 58.6445 L152.385 64.5241 L147.501 64.5241 L147.501 58.6445 Z\" fill=\"#000000\" fill-rule=\"evenodd\" fill-opacity=\"1\" /><path clip-path=\"url(#clip910)\" d=\"M176.737 45.8899 Q180.093 46.6075 181.968 48.876 Q183.866 51.1445 183.866 54.4779 Q183.866 59.5936 180.348 62.3945 Q176.829 65.1954 170.348 65.1954 Q168.172 65.1954 165.857 64.7556 Q163.565 64.3389 161.112 63.4824 L161.112 58.9686 Q163.056 60.1028 165.371 60.6815 Q167.686 61.2602 170.209 61.2602 Q174.607 61.2602 176.899 59.5241 Q179.214 57.788 179.214 54.4779 Q179.214 51.4223 177.061 49.7094 Q174.931 47.9733 171.112 47.9733 L167.084 47.9733 L167.084 44.1307 L171.297 44.1307 Q174.746 44.1307 176.575 42.765 Q178.403 41.3761 178.403 38.7835 Q178.403 36.1215 176.505 34.7094 Q174.63 33.2743 171.112 33.2743 Q169.19 33.2743 166.991 33.6909 Q164.792 34.1076 162.153 34.9872 L162.153 30.8206 Q164.815 30.0798 167.13 29.7095 Q169.468 29.3391 171.528 29.3391 Q176.852 29.3391 179.954 31.7696 Q183.056 34.177 183.056 38.2974 Q183.056 41.1677 181.413 43.1585 Q179.769 45.1261 176.737 45.8899 Z\" fill=\"#000000\" fill-rule=\"evenodd\" fill-opacity=\"1\" /><path clip-path=\"url(#clip910)\" d=\"M82.9205 903.495 L21.5039 903.495 Q19.0563 903.495 19.0563 902.175 Q19.0563 900.854 21.0209 900.854 L82.4374 900.854 Q84.8851 900.854 84.8851 902.175 Q84.8851 903.495 82.9205 903.495 Z\" fill=\"#000000\" fill-rule=\"evenodd\" fill-opacity=\"1\" /><path clip-path=\"url(#clip910)\" d=\"M25.4009 842.964 L36.8017 844.285 Q37.8323 844.381 38.1544 844.542 Q38.4442 844.703 38.4442 845.219 Q38.4442 845.605 38.2188 845.831 Q37.9611 846.024 37.6713 846.024 Q37.5103 846.024 37.0916 845.992 Q36.6729 845.959 36.4797 845.959 Q34.4829 845.67 32.9692 845.67 Q30.1673 845.67 28.6537 846.507 Q27.1078 847.344 26.3992 849.502 Q25.6585 851.66 25.6585 855.718 L25.6585 864.993 Q25.6585 867.119 26.045 867.634 Q26.4314 868.117 28.235 868.568 L44.1125 872.529 L44.1125 866.314 Q44.1125 863.995 43.8226 862.61 Q43.5328 861.193 42.7276 860.259 Q41.8903 859.293 40.7631 858.777 Q39.6358 858.23 37.6069 857.682 Q36.9306 857.521 36.6729 857.36 Q36.4153 857.167 36.4153 856.748 Q36.4153 856.426 36.6407 856.201 Q36.8339 855.975 37.1238 855.975 L52.5504 859.744 Q53.3233 859.937 53.6132 860.13 Q53.8708 860.323 53.8708 860.71 Q53.8708 861.128 53.6454 861.354 Q53.42 861.579 53.1623 861.579 Q52.9047 861.579 52.4216 861.386 Q50.3282 860.903 49.201 860.903 Q48.5569 860.903 48.2348 860.967 Q47.9128 861 47.4619 861.289 Q46.9788 861.547 46.7533 862.127 Q46.5279 862.707 46.3669 863.802 Q46.1736 864.897 46.1736 866.539 L46.1736 873.045 L64.1767 877.553 Q65.3683 877.875 65.6904 877.875 Q66.0447 877.875 66.1735 877.714 Q66.2701 877.521 66.3345 877.006 Q66.4311 876.426 66.4311 875.557 L66.4311 865.927 Q66.4311 863.802 66.2379 862.095 Q66.0447 860.388 65.5616 858.971 Q65.0785 857.521 64.531 856.426 Q63.9835 855.331 62.9851 854.301 Q61.9545 853.27 61.0527 852.562 Q60.1188 851.821 58.5407 850.951 Q56.9626 850.082 55.6744 849.47 Q54.3539 848.858 52.2283 847.924 Q51.4554 847.666 51.4554 847.054 Q51.4554 846.7 51.6486 846.507 Q51.8097 846.314 51.9707 846.282 L52.1639 846.282 Q52.7758 846.475 53.0979 846.604 L67.3329 852.658 Q68.138 853.013 68.2991 853.302 Q68.4601 853.592 68.4601 854.719 L68.4601 888.954 Q68.4601 889.727 68.4279 890.049 Q68.3957 890.339 68.2347 890.565 Q68.0414 890.79 67.6549 890.79 Q67.043 890.79 66.7854 890.532 Q66.4955 890.275 66.4633 889.985 Q66.4311 889.695 66.4311 888.954 Q66.4311 887.344 66.3345 886.378 Q66.2379 885.412 66.1091 884.8 Q65.948 884.156 65.4972 883.834 Q65.0463 883.479 64.6598 883.318 Q64.2411 883.157 63.3072 882.932 L28.4282 874.236 Q27.2366 873.914 26.8501 873.914 Q26.4314 873.914 26.1738 874.204 Q25.9162 874.462 25.8195 875.17 Q25.6907 875.879 25.6907 876.458 Q25.6585 877.006 25.6585 878.198 Q25.6585 878.97 25.6263 879.293 Q25.5941 879.582 25.4331 879.808 Q25.272 880.033 24.9178 880.033 Q24.016 880.033 23.8228 879.647 Q23.5973 879.228 23.5973 878.069 L23.5973 844.768 Q23.5973 843.447 23.8872 843.158 Q24.1448 842.835 25.4009 842.964 Z\" fill=\"#000000\" fill-rule=\"evenodd\" fill-opacity=\"1\" /><path clip-path=\"url(#clip910)\" d=\"M82.9205 833.879 L21.5039 833.879 Q19.0563 833.879 19.0563 832.559 Q19.0563 831.239 21.0209 831.239 L82.4374 831.239 Q84.8851 831.239 84.8851 832.559 Q84.8851 833.879 82.9205 833.879 Z\" fill=\"#000000\" fill-rule=\"evenodd\" fill-opacity=\"1\" /><path clip-path=\"url(#clip910)\" d=\"M84.9495 797.938 L18.9919 797.938 L18.9919 787.987 L20.5056 787.987 L20.5056 793.526 L83.4358 793.526 L83.4358 787.987 L84.9495 787.987 L84.9495 797.938 Z\" fill=\"#000000\" fill-rule=\"evenodd\" fill-opacity=\"1\" /><path clip-path=\"url(#clip910)\" d=\"M68.4601 785.332 L66.4311 785.332 Q66.4311 781.822 66.0124 781.017 Q65.5616 780.179 63.436 780.179 L29.1367 780.179 Q26.6891 780.179 26.0772 781.049 Q25.4653 781.886 25.4653 785.332 L23.4041 785.332 L22.6956 775.831 L54.3539 775.831 L46.3025 766.524 Q45.0464 765.075 43.726 765.075 Q42.2123 765.075 42.0835 766.975 L40.0223 766.975 Q40.2156 764.205 40.2156 759.6 Q40.2156 756.894 40.0223 754.994 L42.0835 754.994 Q42.2767 759.149 45.6261 763.303 Q46.3669 764.237 48.2992 766.459 Q50.1994 768.649 50.3926 768.649 Q50.457 768.649 50.618 768.585 Q50.7791 768.488 50.9079 768.36 Q51.0367 768.231 51.1011 768.231 L62.9207 759.857 Q65.3039 758.15 65.8836 756.894 Q66.4311 755.638 66.4311 753.448 L68.4601 753.448 Q68.2669 756.282 68.2669 759.213 Q68.2669 760.791 68.4601 766.331 L66.4311 766.331 Q66.4311 763.947 64.8852 763.947 Q63.8225 763.947 56.4473 769.294 Q55.932 769.68 54.8048 770.55 Q53.6132 771.355 53.0335 771.806 L56.6405 776.025 L63.436 776.025 Q65.5616 776.025 66.0124 775.219 Q66.4311 774.382 66.4311 770.872 L68.4601 770.872 Q68.2669 774.833 68.2669 778.118 Q68.2669 778.794 68.4601 785.332 Z\" fill=\"#000000\" fill-rule=\"evenodd\" fill-opacity=\"1\" /><path clip-path=\"url(#clip910)\" d=\"M25.4653 748.01 L23.4041 748.01 Q23.5973 740.892 23.5973 739.636 Q23.5973 732.583 23.4041 730.2 L25.4653 730.2 Q25.4653 735.61 27.3654 735.61 Q27.6231 735.61 28.557 735.224 L61.8579 722.631 L30.0707 710.554 Q29.0723 710.232 28.7503 710.232 Q27.4298 710.232 26.4959 711.456 Q25.5297 712.648 25.4653 715.031 L23.4041 715.031 Q23.5973 709.878 23.5973 707.527 Q23.5973 704.177 23.4041 701.118 L25.4653 701.118 Q25.5297 706.657 29.8775 708.3 L68.6533 723.018 Q69.4585 723.276 69.6839 723.533 Q69.9094 723.791 69.9094 724.596 Q69.9094 725.24 69.6517 725.594 Q69.3941 725.916 68.4601 726.238 L27.9773 741.536 Q26.206 742.18 25.8517 743.34 Q25.4653 744.499 25.4653 748.01 Z\" fill=\"#000000\" fill-rule=\"evenodd\" fill-opacity=\"1\" /><path clip-path=\"url(#clip910)\" d=\"M84.0155 699.014 Q83.6935 699.014 82.9849 698.756 L20.7632 675.471 Q20.6988 675.471 20.3445 675.31 Q19.9903 675.149 19.7648 675.052 Q19.5072 674.956 19.314 674.763 Q19.1207 674.537 19.1207 674.279 Q19.1207 673.635 19.9259 673.635 Q19.9903 673.635 20.7632 673.829 L83.0494 697.178 Q84.1766 697.564 84.4986 697.822 Q84.8207 698.047 84.8207 698.434 Q84.8207 699.014 84.0155 699.014 Z\" fill=\"#000000\" fill-rule=\"evenodd\" fill-opacity=\"1\" /><path clip-path=\"url(#clip910)\" d=\"M64.853 662.163 Q60.473 666.349 54.2251 666.349 Q47.945 666.349 43.4361 662.227 Q38.8951 658.105 38.8951 652.05 Q38.8951 648.024 40.8275 644.997 Q42.7276 641.97 45.9804 641.97 Q47.4297 641.97 48.267 642.839 Q49.0722 643.677 49.0722 644.997 Q49.0722 646.382 48.2348 647.219 Q47.3653 648.024 46.0448 648.024 Q45.4651 648.024 44.8854 647.831 Q44.3057 647.638 43.6938 646.929 Q43.0819 646.189 42.9853 644.933 Q40.5698 647.284 40.5698 651.857 Q40.5698 651.921 40.5698 651.986 Q40.5698 655.335 43.726 658.105 Q46.8822 660.874 54.0963 660.874 Q57.8644 660.874 60.6341 659.973 Q63.3716 659.039 64.7886 657.525 Q66.2057 656.011 66.882 654.53 Q67.5261 653.048 67.5261 651.599 Q67.5261 645.126 60.6019 642.936 Q59.9577 642.743 59.9577 642.098 Q59.9577 641.229 60.6019 641.229 Q60.9239 641.229 61.7613 641.487 Q62.5986 641.744 63.9191 642.549 Q65.2395 643.354 66.3989 644.514 Q67.5261 645.641 68.3635 647.67 Q69.2008 649.667 69.2008 652.179 Q69.2008 657.976 64.853 662.163 Z\" fill=\"#000000\" fill-rule=\"evenodd\" fill-opacity=\"1\" /><path clip-path=\"url(#clip910)\" d=\"M68.4601 639.202 L66.4311 639.202 Q66.4311 635.691 66.0124 634.886 Q65.5616 634.081 63.436 634.081 L45.755 634.081 Q43.3073 634.081 42.6954 634.951 Q42.0835 635.788 42.0835 639.202 L40.0223 639.202 L39.3138 629.926 L46.2381 629.926 Q39.3138 626.835 39.3138 620.168 Q39.3138 612.439 45.755 611.376 Q43.2429 610.249 41.2783 607.898 Q39.3138 605.514 39.3138 601.811 Q39.3138 596.851 41.7614 594.886 Q43.4039 593.437 45.2397 593.147 Q47.0754 592.858 51.8419 592.858 L64.4344 592.858 Q65.8192 592.793 66.1413 591.73 Q66.4311 590.668 66.4311 587.705 L68.4601 587.705 Q68.2669 594.436 68.2669 595.08 Q68.2669 595.595 68.4601 602.551 L66.4311 602.551 Q66.4311 599.041 66.0124 598.236 Q65.5616 597.399 63.436 597.399 L48.0738 597.399 Q44.7244 597.399 42.7598 598.429 Q40.7631 599.46 40.7631 602.294 Q40.7631 605.708 43.6294 608.445 Q46.4957 611.183 51.3266 611.183 L63.436 611.183 Q65.5616 611.183 66.0124 610.377 Q66.4311 609.54 66.4311 606.03 L68.4601 606.03 Q68.2669 612.761 68.2669 613.437 Q68.2669 613.952 68.4601 620.877 L66.4311 620.877 Q66.4311 617.366 66.0124 616.561 Q65.5616 615.724 63.436 615.724 L48.0738 615.724 Q44.7244 615.724 42.7598 616.754 Q40.7631 617.785 40.7631 620.619 Q40.7631 624.033 43.6294 626.77 Q46.4957 629.508 51.3266 629.508 L63.436 629.508 Q65.5616 629.508 66.0124 628.703 Q66.4311 627.865 66.4311 624.387 L68.4601 624.387 Q68.2669 631.118 68.2669 631.762 Q68.2669 632.277 68.4601 639.202 Z\" fill=\"#000000\" fill-rule=\"evenodd\" fill-opacity=\"1\" /><path clip-path=\"url(#clip910)\" d=\"M83.4358 585.079 L83.4358 579.539 L20.5056 579.539 L20.5056 585.079 L18.9919 585.079 L18.9919 575.127 L84.9495 575.127 L84.9495 585.079 L83.4358 585.079 Z\" fill=\"#000000\" fill-rule=\"evenodd\" fill-opacity=\"1\" /><polyline clip-path=\"url(#clip912)\" style=\"stroke:#000000; stroke-linecap:butt; stroke-linejoin:round; stroke-width:4; stroke-opacity:1; fill:none\" points=\"\n",
       "  280.231,512.97 288.28,513.15 296.328,513.33 304.377,513.51 312.426,513.69 320.474,513.871 328.523,514.051 336.572,514.231 344.62,514.411 352.669,514.592 \n",
       "  360.717,514.772 368.766,514.952 376.815,515.098 384.863,515.439 392.912,515.781 400.961,516.122 409.009,516.463 417.058,516.805 425.107,517.146 433.155,517.487 \n",
       "  441.204,517.829 449.253,518.17 457.301,518.512 465.35,518.853 473.398,519.194 481.447,519.536 489.496,519.877 497.544,520.219 505.593,520.394 513.642,521.027 \n",
       "  521.69,521.66 529.739,522.294 537.788,522.927 545.836,523.56 553.885,524.194 561.933,524.827 569.982,525.46 578.031,526.094 586.079,526.727 594.128,527.36 \n",
       "  602.177,527.993 610.225,528.627 618.274,529.252 626.323,530.389 634.371,531.525 642.42,532.662 650.469,533.799 658.517,534.936 666.566,536.072 674.614,537.209 \n",
       "  682.663,538.346 690.712,539.482 698.76,540.619 706.809,541.913 714.858,543.853 722.906,545.794 730.955,547.735 739.004,549.676 747.052,551.617 755.101,553.557 \n",
       "  763.149,555.498 771.198,557.439 779.247,559.75 787.295,563.014 795.344,566.277 803.393,569.541 811.441,572.804 819.49,576.068 827.539,579.331 835.587,582.359 \n",
       "  843.636,587.616 851.685,592.873 859.733,598.129 867.782,603.385 875.83,608.642 883.879,613.898 891.928,621.696 899.976,629.824 908.025,637.951 916.074,646.078 \n",
       "  924.122,654.205 932.171,666.17 940.22,678.29 948.268,690.408 956.317,702.527 964.365,719.406 972.414,736.691 980.463,753.974 988.511,775.304 996.56,799.114 \n",
       "  1004.61,822.923 1012.66,853.756 1020.71,885.332 1028.75,922.864 1036.8,963.308 1044.85,1012.01 1052.9,1065.65 1060.95,1127.12 1069,1198.94 1077.05,1282.63 \n",
       "  1085.1,1378.83 1093.14,69.0001 1101.19,69.0584 1109.24,69.0692 1117.29,69.08 1125.34,69.0907 1133.39,69.1014 1141.44,69.112 1149.48,69.1221 1157.53,69.1321 \n",
       "  1165.58,69.1411 1173.63,69.1504 1181.68,69.1577 1189.73,69.165 1197.78,69.1718 1205.82,69.1766 1213.87,69.1814 1221.92,69.1862 1229.97,69.1883 1238.02,69.1904 \n",
       "  1246.07,69.1926 1254.12,69.1937 1262.17,69.1929 1270.21,69.1921 1278.26,69.1913 1286.31,69.1899 1294.36,69.1871 1302.41,69.184 1310.46,69.181 1318.51,69.178 \n",
       "  1326.55,69.1734 1334.6,69.1692 1342.65,69.1649 1350.7,69.1607 1358.75,69.1556 1366.8,69.1508 1374.85,69.1459 1382.89,69.1409 1390.94,69.1358 1398.99,69.1308 \n",
       "  1407.04,69.1256 1415.09,69.1205 1423.14,69.1152 1431.19,69.11 1439.24,69.1047 1447.28,69.0993 1455.33,69.0937 1463.38,69.0878 1471.43,69.0812 1479.48,69.0335 \n",
       "  1487.53,1378.84 1495.58,1282.67 1503.62,1199.07 1511.67,1127.25 1519.72,1065.75 1527.77,1012.02 1535.82,963.436 1543.87,922.914 1551.92,885.36 1559.96,853.819 \n",
       "  1568.01,822.883 1576.06,799.148 1584.11,775.411 1592.16,753.902 1600.21,736.699 1608.26,719.494 1616.31,702.379 1624.35,690.354 1632.4,678.329 1640.45,666.303 \n",
       "  1648.5,654.039 1656.55,646 1664.6,637.961 1672.65,629.921 1680.69,621.881 1688.74,613.814 1696.79,608.59 1704.84,603.366 1712.89,598.142 1720.94,592.918 \n",
       "  1728.99,587.693 1737.03,582.468 1745.08,579.32 1753.13,576.057 1761.18,572.794 1769.23,569.531 1777.28,566.268 1785.33,563.005 1793.38,559.742 1801.42,557.416 \n",
       "  1809.47,555.477 1817.52,553.537 1825.57,551.598 1833.62,549.659 1841.67,547.719 1849.72,545.78 1857.76,543.84 1865.81,541.901 1873.86,540.514 1881.91,539.396 \n",
       "  1889.96,538.277 1898.01,537.159 1906.06,536.041 1914.11,534.922 1922.15,533.804 1930.2,532.686 1938.25,531.567 1946.3,530.449 1954.35,529.33 1962.4,528.575 \n",
       "  1970.45,527.949 1978.49,527.322 1986.54,526.695 1994.59,526.069 2002.64,525.442 2010.69,524.815 2018.74,524.189 2026.79,523.562 2034.83,522.935 2042.88,522.308 \n",
       "  2050.93,521.682 2058.98,521.055 2067.03,520.428 2075.08,520.205 2083.13,519.865 2091.18,519.525 2099.22,519.185 2107.27,518.844 2115.32,518.504 2123.37,518.164 \n",
       "  2131.42,517.823 2139.47,517.483 2147.52,517.143 2155.56,516.803 2163.61,516.462 2171.66,516.122 2179.71,515.782 2187.76,515.442 2195.81,515.101 2203.86,514.939 \n",
       "  2211.9,514.76 2219.95,514.58 2228,514.4 2236.05,514.22 2244.1,514.041 2252.15,513.861 2260.2,513.681 2268.25,513.501 2276.29,513.322 2284.34,513.142 \n",
       "  2292.39,512.962 \n",
       "  \"/>\n",
       "</svg>\n"
      ]
     },
     "execution_count": 57,
     "metadata": {},
     "output_type": "execute_result"
    }
   ],
   "source": [
    "plot(y * 1e3, Eline * 1e-5, color = :black, legend = :false, xlabel = L\"z\\,\\mathrm{[mm]}\", ylabel = L\"|E|\\,\\mathrm{[kV/cm]}\", ylims = (0.4, 1.3), yticks = 0.4:0.1:1.3)"
   ]
  },
  {
   "cell_type": "markdown",
   "id": "moving-array",
   "metadata": {},
   "source": [
    "## Field enhancement factor\n",
    "Field enhancement inside the cavity"
   ]
  },
  {
   "cell_type": "code",
   "execution_count": 58,
   "id": "meaning-reunion",
   "metadata": {},
   "outputs": [
    {
     "data": {
      "text/plain": [
       "1.2857693935481704"
      ]
     },
     "execution_count": 58,
     "metadata": {},
     "output_type": "execute_result"
    }
   ],
   "source": [
    "fmax = maximum(Eline) / E0"
   ]
  },
  {
   "cell_type": "code",
   "execution_count": 59,
   "id": "tight-objective",
   "metadata": {},
   "outputs": [
    {
     "data": {
      "text/plain": [
       "1.2857142857142858"
      ]
     },
     "execution_count": 59,
     "metadata": {},
     "output_type": "execute_result"
    }
   ],
   "source": [
    "fmax_analytical = 3 * eps_r / (eps_c + 2 * eps_r)"
   ]
  },
  {
   "cell_type": "markdown",
   "id": "finnish-irish",
   "metadata": {},
   "source": [
    "## Field weakening factor\n",
    "Field weakening in the dielectric medium outside the cavity along the $z$-axis"
   ]
  },
  {
   "cell_type": "code",
   "execution_count": 60,
   "id": "auburn-contribution",
   "metadata": {},
   "outputs": [
    {
     "data": {
      "text/plain": [
       "0.4290053895074642"
      ]
     },
     "execution_count": 60,
     "metadata": {},
     "output_type": "execute_result"
    }
   ],
   "source": [
    "fmin = minimum(Eline) / E0"
   ]
  },
  {
   "cell_type": "code",
   "execution_count": 61,
   "id": "indoor-transition",
   "metadata": {},
   "outputs": [
    {
     "data": {
      "text/plain": [
       "0.42857142857142855"
      ]
     },
     "execution_count": 61,
     "metadata": {},
     "output_type": "execute_result"
    }
   ],
   "source": [
    "fmin_analytical = 3 * eps_c / (eps_c + 2 * eps_r)"
   ]
  },
  {
   "cell_type": "markdown",
   "id": "driven-magic",
   "metadata": {},
   "source": [
    "## Along $r$ axis\n",
    "Along the $r$ axis we observe the effect of the tangential boundary condition $E_{1t} = E_{2t}$."
   ]
  },
  {
   "cell_type": "code",
   "execution_count": 62,
   "id": "nearby-jungle",
   "metadata": {},
   "outputs": [],
   "source": [
    "x = Vector(0:1e-5:2.5*r)\n",
    "coord = [Point(x[i], 0) for i in 1:length(x)];\n",
    "Eline = E(coord);\n",
    "Eline = [sqrt(E[1]^2 + E[2]^2)  for E in Eline];"
   ]
  },
  {
   "cell_type": "code",
   "execution_count": 63,
   "id": "juvenile-recall",
   "metadata": {},
   "outputs": [
    {
     "data": {
      "image/svg+xml": [
       "<?xml version=\"1.0\" encoding=\"utf-8\"?>\n",
       "<svg xmlns=\"http://www.w3.org/2000/svg\" xmlns:xlink=\"http://www.w3.org/1999/xlink\" width=\"600\" height=\"400\" viewBox=\"0 0 2400 1600\">\n",
       "<defs>\n",
       "  <clipPath id=\"clip950\">\n",
       "    <rect x=\"0\" y=\"0\" width=\"2400\" height=\"1600\"/>\n",
       "  </clipPath>\n",
       "</defs>\n",
       "<path clip-path=\"url(#clip950)\" d=\"\n",
       "M0 1600 L2400 1600 L2400 0 L0 0  Z\n",
       "  \" fill=\"#ffffff\" fill-rule=\"evenodd\" fill-opacity=\"1\"/>\n",
       "<defs>\n",
       "  <clipPath id=\"clip951\">\n",
       "    <rect x=\"480\" y=\"0\" width=\"1681\" height=\"1600\"/>\n",
       "  </clipPath>\n",
       "</defs>\n",
       "<defs>\n",
       "  <clipPath id=\"clip952\">\n",
       "    <rect x=\"219\" y=\"47\" width=\"2134\" height=\"1377\"/>\n",
       "  </clipPath>\n",
       "</defs>\n",
       "<path clip-path=\"url(#clip950)\" d=\"\n",
       "M219.866 1423.18 L2352.76 1423.18 L2352.76 47.2441 L219.866 47.2441  Z\n",
       "  \" fill=\"#ffffff\" fill-rule=\"evenodd\" fill-opacity=\"1\"/>\n",
       "<polyline clip-path=\"url(#clip952)\" style=\"stroke:#000000; stroke-linecap:butt; stroke-linejoin:round; stroke-width:2; stroke-opacity:0.1; fill:none\" points=\"\n",
       "  280.231,1423.18 280.231,47.2441 \n",
       "  \"/>\n",
       "<polyline clip-path=\"url(#clip952)\" style=\"stroke:#000000; stroke-linecap:butt; stroke-linejoin:round; stroke-width:2; stroke-opacity:0.1; fill:none\" points=\"\n",
       "  602.177,1423.18 602.177,47.2441 \n",
       "  \"/>\n",
       "<polyline clip-path=\"url(#clip952)\" style=\"stroke:#000000; stroke-linecap:butt; stroke-linejoin:round; stroke-width:2; stroke-opacity:0.1; fill:none\" points=\"\n",
       "  924.122,1423.18 924.122,47.2441 \n",
       "  \"/>\n",
       "<polyline clip-path=\"url(#clip952)\" style=\"stroke:#000000; stroke-linecap:butt; stroke-linejoin:round; stroke-width:2; stroke-opacity:0.1; fill:none\" points=\"\n",
       "  1246.07,1423.18 1246.07,47.2441 \n",
       "  \"/>\n",
       "<polyline clip-path=\"url(#clip952)\" style=\"stroke:#000000; stroke-linecap:butt; stroke-linejoin:round; stroke-width:2; stroke-opacity:0.1; fill:none\" points=\"\n",
       "  1568.01,1423.18 1568.01,47.2441 \n",
       "  \"/>\n",
       "<polyline clip-path=\"url(#clip952)\" style=\"stroke:#000000; stroke-linecap:butt; stroke-linejoin:round; stroke-width:2; stroke-opacity:0.1; fill:none\" points=\"\n",
       "  1889.96,1423.18 1889.96,47.2441 \n",
       "  \"/>\n",
       "<polyline clip-path=\"url(#clip952)\" style=\"stroke:#000000; stroke-linecap:butt; stroke-linejoin:round; stroke-width:2; stroke-opacity:0.1; fill:none\" points=\"\n",
       "  2211.9,1423.18 2211.9,47.2441 \n",
       "  \"/>\n",
       "<polyline clip-path=\"url(#clip950)\" style=\"stroke:#000000; stroke-linecap:butt; stroke-linejoin:round; stroke-width:4; stroke-opacity:1; fill:none\" points=\"\n",
       "  219.866,1423.18 2352.76,1423.18 \n",
       "  \"/>\n",
       "<polyline clip-path=\"url(#clip950)\" style=\"stroke:#000000; stroke-linecap:butt; stroke-linejoin:round; stroke-width:4; stroke-opacity:1; fill:none\" points=\"\n",
       "  280.231,1423.18 280.231,1404.28 \n",
       "  \"/>\n",
       "<polyline clip-path=\"url(#clip950)\" style=\"stroke:#000000; stroke-linecap:butt; stroke-linejoin:round; stroke-width:4; stroke-opacity:1; fill:none\" points=\"\n",
       "  602.177,1423.18 602.177,1404.28 \n",
       "  \"/>\n",
       "<polyline clip-path=\"url(#clip950)\" style=\"stroke:#000000; stroke-linecap:butt; stroke-linejoin:round; stroke-width:4; stroke-opacity:1; fill:none\" points=\"\n",
       "  924.122,1423.18 924.122,1404.28 \n",
       "  \"/>\n",
       "<polyline clip-path=\"url(#clip950)\" style=\"stroke:#000000; stroke-linecap:butt; stroke-linejoin:round; stroke-width:4; stroke-opacity:1; fill:none\" points=\"\n",
       "  1246.07,1423.18 1246.07,1404.28 \n",
       "  \"/>\n",
       "<polyline clip-path=\"url(#clip950)\" style=\"stroke:#000000; stroke-linecap:butt; stroke-linejoin:round; stroke-width:4; stroke-opacity:1; fill:none\" points=\"\n",
       "  1568.01,1423.18 1568.01,1404.28 \n",
       "  \"/>\n",
       "<polyline clip-path=\"url(#clip950)\" style=\"stroke:#000000; stroke-linecap:butt; stroke-linejoin:round; stroke-width:4; stroke-opacity:1; fill:none\" points=\"\n",
       "  1889.96,1423.18 1889.96,1404.28 \n",
       "  \"/>\n",
       "<polyline clip-path=\"url(#clip950)\" style=\"stroke:#000000; stroke-linecap:butt; stroke-linejoin:round; stroke-width:4; stroke-opacity:1; fill:none\" points=\"\n",
       "  2211.9,1423.18 2211.9,1404.28 \n",
       "  \"/>\n",
       "<path clip-path=\"url(#clip950)\" d=\"M257.615 1454.1 Q254.004 1454.1 252.176 1457.66 Q250.37 1461.2 250.37 1468.33 Q250.37 1475.44 252.176 1479.01 Q254.004 1482.55 257.615 1482.55 Q261.25 1482.55 263.055 1479.01 Q264.884 1475.44 264.884 1468.33 Q264.884 1461.2 263.055 1457.66 Q261.25 1454.1 257.615 1454.1 M257.615 1450.39 Q263.426 1450.39 266.481 1455 Q269.56 1459.58 269.56 1468.33 Q269.56 1477.06 266.481 1481.67 Q263.426 1486.25 257.615 1486.25 Q251.805 1486.25 248.727 1481.67 Q245.671 1477.06 245.671 1468.33 Q245.671 1459.58 248.727 1455 Q251.805 1450.39 257.615 1450.39 Z\" fill=\"#000000\" fill-rule=\"evenodd\" fill-opacity=\"1\" /><path clip-path=\"url(#clip950)\" d=\"M277.777 1479.7 L282.662 1479.7 L282.662 1485.58 L277.777 1485.58 L277.777 1479.7 Z\" fill=\"#000000\" fill-rule=\"evenodd\" fill-opacity=\"1\" /><path clip-path=\"url(#clip950)\" d=\"M302.847 1454.1 Q299.236 1454.1 297.407 1457.66 Q295.601 1461.2 295.601 1468.33 Q295.601 1475.44 297.407 1479.01 Q299.236 1482.55 302.847 1482.55 Q306.481 1482.55 308.286 1479.01 Q310.115 1475.44 310.115 1468.33 Q310.115 1461.2 308.286 1457.66 Q306.481 1454.1 302.847 1454.1 M302.847 1450.39 Q308.657 1450.39 311.712 1455 Q314.791 1459.58 314.791 1468.33 Q314.791 1477.06 311.712 1481.67 Q308.657 1486.25 302.847 1486.25 Q297.037 1486.25 293.958 1481.67 Q290.902 1477.06 290.902 1468.33 Q290.902 1459.58 293.958 1455 Q297.037 1450.39 302.847 1450.39 Z\" fill=\"#000000\" fill-rule=\"evenodd\" fill-opacity=\"1\" /><path clip-path=\"url(#clip950)\" d=\"M580.36 1454.1 Q576.749 1454.1 574.92 1457.66 Q573.114 1461.2 573.114 1468.33 Q573.114 1475.44 574.92 1479.01 Q576.749 1482.55 580.36 1482.55 Q583.994 1482.55 585.799 1479.01 Q587.628 1475.44 587.628 1468.33 Q587.628 1461.2 585.799 1457.66 Q583.994 1454.1 580.36 1454.1 M580.36 1450.39 Q586.17 1450.39 589.225 1455 Q592.304 1459.58 592.304 1468.33 Q592.304 1477.06 589.225 1481.67 Q586.17 1486.25 580.36 1486.25 Q574.55 1486.25 571.471 1481.67 Q568.415 1477.06 568.415 1468.33 Q568.415 1459.58 571.471 1455 Q574.55 1450.39 580.36 1450.39 Z\" fill=\"#000000\" fill-rule=\"evenodd\" fill-opacity=\"1\" /><path clip-path=\"url(#clip950)\" d=\"M600.522 1479.7 L605.406 1479.7 L605.406 1485.58 L600.522 1485.58 L600.522 1479.7 Z\" fill=\"#000000\" fill-rule=\"evenodd\" fill-opacity=\"1\" /><path clip-path=\"url(#clip950)\" d=\"M619.619 1481.64 L635.938 1481.64 L635.938 1485.58 L613.994 1485.58 L613.994 1481.64 Q616.656 1478.89 621.239 1474.26 Q625.846 1469.61 627.026 1468.27 Q629.271 1465.74 630.151 1464.01 Q631.054 1462.25 631.054 1460.56 Q631.054 1457.8 629.109 1456.07 Q627.188 1454.33 624.086 1454.33 Q621.887 1454.33 619.434 1455.09 Q617.003 1455.86 614.225 1457.41 L614.225 1452.69 Q617.049 1451.55 619.503 1450.97 Q621.957 1450.39 623.994 1450.39 Q629.364 1450.39 632.558 1453.08 Q635.753 1455.77 635.753 1460.26 Q635.753 1462.39 634.943 1464.31 Q634.156 1466.2 632.049 1468.8 Q631.47 1469.47 628.369 1472.69 Q625.267 1475.88 619.619 1481.64 Z\" fill=\"#000000\" fill-rule=\"evenodd\" fill-opacity=\"1\" /><path clip-path=\"url(#clip950)\" d=\"M901.264 1454.1 Q897.653 1454.1 895.824 1457.66 Q894.018 1461.2 894.018 1468.33 Q894.018 1475.44 895.824 1479.01 Q897.653 1482.55 901.264 1482.55 Q904.898 1482.55 906.703 1479.01 Q908.532 1475.44 908.532 1468.33 Q908.532 1461.2 906.703 1457.66 Q904.898 1454.1 901.264 1454.1 M901.264 1450.39 Q907.074 1450.39 910.129 1455 Q913.208 1459.58 913.208 1468.33 Q913.208 1477.06 910.129 1481.67 Q907.074 1486.25 901.264 1486.25 Q895.453 1486.25 892.375 1481.67 Q889.319 1477.06 889.319 1468.33 Q889.319 1459.58 892.375 1455 Q895.453 1450.39 901.264 1450.39 Z\" fill=\"#000000\" fill-rule=\"evenodd\" fill-opacity=\"1\" /><path clip-path=\"url(#clip950)\" d=\"M921.426 1479.7 L926.31 1479.7 L926.31 1485.58 L921.426 1485.58 L921.426 1479.7 Z\" fill=\"#000000\" fill-rule=\"evenodd\" fill-opacity=\"1\" /><path clip-path=\"url(#clip950)\" d=\"M949.342 1455.09 L937.537 1473.54 L949.342 1473.54 L949.342 1455.09 M948.115 1451.02 L953.995 1451.02 L953.995 1473.54 L958.925 1473.54 L958.925 1477.43 L953.995 1477.43 L953.995 1485.58 L949.342 1485.58 L949.342 1477.43 L933.74 1477.43 L933.74 1472.92 L948.115 1451.02 Z\" fill=\"#000000\" fill-rule=\"evenodd\" fill-opacity=\"1\" /><path clip-path=\"url(#clip950)\" d=\"M1223.37 1454.1 Q1219.76 1454.1 1217.93 1457.66 Q1216.13 1461.2 1216.13 1468.33 Q1216.13 1475.44 1217.93 1479.01 Q1219.76 1482.55 1223.37 1482.55 Q1227.01 1482.55 1228.81 1479.01 Q1230.64 1475.44 1230.64 1468.33 Q1230.64 1461.2 1228.81 1457.66 Q1227.01 1454.1 1223.37 1454.1 M1223.37 1450.39 Q1229.18 1450.39 1232.24 1455 Q1235.32 1459.58 1235.32 1468.33 Q1235.32 1477.06 1232.24 1481.67 Q1229.18 1486.25 1223.37 1486.25 Q1217.56 1486.25 1214.48 1481.67 Q1211.43 1477.06 1211.43 1468.33 Q1211.43 1459.58 1214.48 1455 Q1217.56 1450.39 1223.37 1450.39 Z\" fill=\"#000000\" fill-rule=\"evenodd\" fill-opacity=\"1\" /><path clip-path=\"url(#clip950)\" d=\"M1243.53 1479.7 L1248.42 1479.7 L1248.42 1485.58 L1243.53 1485.58 L1243.53 1479.7 Z\" fill=\"#000000\" fill-rule=\"evenodd\" fill-opacity=\"1\" /><path clip-path=\"url(#clip950)\" d=\"M1269.18 1466.44 Q1266.03 1466.44 1264.18 1468.59 Q1262.35 1470.74 1262.35 1474.49 Q1262.35 1478.22 1264.18 1480.39 Q1266.03 1482.55 1269.18 1482.55 Q1272.33 1482.55 1274.16 1480.39 Q1276.01 1478.22 1276.01 1474.49 Q1276.01 1470.74 1274.16 1468.59 Q1272.33 1466.44 1269.18 1466.44 M1278.46 1451.78 L1278.46 1456.04 Q1276.7 1455.21 1274.9 1454.77 Q1273.12 1454.33 1271.36 1454.33 Q1266.73 1454.33 1264.27 1457.45 Q1261.84 1460.58 1261.5 1466.9 Q1262.86 1464.89 1264.92 1463.82 Q1266.98 1462.73 1269.46 1462.73 Q1274.67 1462.73 1277.68 1465.9 Q1280.71 1469.05 1280.71 1474.49 Q1280.71 1479.82 1277.56 1483.03 Q1274.41 1486.25 1269.18 1486.25 Q1263.19 1486.25 1260.01 1481.67 Q1256.84 1477.06 1256.84 1468.33 Q1256.84 1460.14 1260.73 1455.28 Q1264.62 1450.39 1271.17 1450.39 Q1272.93 1450.39 1274.71 1450.74 Q1276.52 1451.09 1278.46 1451.78 Z\" fill=\"#000000\" fill-rule=\"evenodd\" fill-opacity=\"1\" /><path clip-path=\"url(#clip950)\" d=\"M1545.44 1454.1 Q1541.83 1454.1 1540 1457.66 Q1538.2 1461.2 1538.2 1468.33 Q1538.2 1475.44 1540 1479.01 Q1541.83 1482.55 1545.44 1482.55 Q1549.08 1482.55 1550.88 1479.01 Q1552.71 1475.44 1552.71 1468.33 Q1552.71 1461.2 1550.88 1457.66 Q1549.08 1454.1 1545.44 1454.1 M1545.44 1450.39 Q1551.25 1450.39 1554.31 1455 Q1557.39 1459.58 1557.39 1468.33 Q1557.39 1477.06 1554.31 1481.67 Q1551.25 1486.25 1545.44 1486.25 Q1539.63 1486.25 1536.56 1481.67 Q1533.5 1477.06 1533.5 1468.33 Q1533.5 1459.58 1536.56 1455 Q1539.63 1450.39 1545.44 1450.39 Z\" fill=\"#000000\" fill-rule=\"evenodd\" fill-opacity=\"1\" /><path clip-path=\"url(#clip950)\" d=\"M1565.61 1479.7 L1570.49 1479.7 L1570.49 1485.58 L1565.61 1485.58 L1565.61 1479.7 Z\" fill=\"#000000\" fill-rule=\"evenodd\" fill-opacity=\"1\" /><path clip-path=\"url(#clip950)\" d=\"M1590.68 1469.17 Q1587.34 1469.17 1585.42 1470.95 Q1583.52 1472.73 1583.52 1475.86 Q1583.52 1478.98 1585.42 1480.77 Q1587.34 1482.55 1590.68 1482.55 Q1594.01 1482.55 1595.93 1480.77 Q1597.85 1478.96 1597.85 1475.86 Q1597.85 1472.73 1595.93 1470.95 Q1594.03 1469.17 1590.68 1469.17 M1586 1467.18 Q1582.99 1466.44 1581.3 1464.38 Q1579.63 1462.32 1579.63 1459.35 Q1579.63 1455.21 1582.57 1452.8 Q1585.54 1450.39 1590.68 1450.39 Q1595.84 1450.39 1598.78 1452.8 Q1601.72 1455.21 1601.72 1459.35 Q1601.72 1462.32 1600.03 1464.38 Q1598.36 1466.44 1595.37 1467.18 Q1598.75 1467.96 1600.63 1470.26 Q1602.53 1472.55 1602.53 1475.86 Q1602.53 1480.88 1599.45 1483.57 Q1596.39 1486.25 1590.68 1486.25 Q1584.96 1486.25 1581.88 1483.57 Q1578.82 1480.88 1578.82 1475.86 Q1578.82 1472.55 1580.72 1470.26 Q1582.62 1467.96 1586 1467.18 M1584.29 1459.79 Q1584.29 1462.48 1585.95 1463.98 Q1587.64 1465.49 1590.68 1465.49 Q1593.68 1465.49 1595.37 1463.98 Q1597.09 1462.48 1597.09 1459.79 Q1597.09 1457.11 1595.37 1455.6 Q1593.68 1454.1 1590.68 1454.1 Q1587.64 1454.1 1585.95 1455.6 Q1584.29 1457.11 1584.29 1459.79 Z\" fill=\"#000000\" fill-rule=\"evenodd\" fill-opacity=\"1\" /><path clip-path=\"url(#clip950)\" d=\"M1857.11 1481.64 L1864.75 1481.64 L1864.75 1455.28 L1856.44 1456.95 L1856.44 1452.69 L1864.7 1451.02 L1869.38 1451.02 L1869.38 1481.64 L1877.02 1481.64 L1877.02 1485.58 L1857.11 1485.58 L1857.11 1481.64 Z\" fill=\"#000000\" fill-rule=\"evenodd\" fill-opacity=\"1\" /><path clip-path=\"url(#clip950)\" d=\"M1886.46 1479.7 L1891.35 1479.7 L1891.35 1485.58 L1886.46 1485.58 L1886.46 1479.7 Z\" fill=\"#000000\" fill-rule=\"evenodd\" fill-opacity=\"1\" /><path clip-path=\"url(#clip950)\" d=\"M1911.53 1454.1 Q1907.92 1454.1 1906.09 1457.66 Q1904.29 1461.2 1904.29 1468.33 Q1904.29 1475.44 1906.09 1479.01 Q1907.92 1482.55 1911.53 1482.55 Q1915.17 1482.55 1916.97 1479.01 Q1918.8 1475.44 1918.8 1468.33 Q1918.8 1461.2 1916.97 1457.66 Q1915.17 1454.1 1911.53 1454.1 M1911.53 1450.39 Q1917.34 1450.39 1920.4 1455 Q1923.48 1459.58 1923.48 1468.33 Q1923.48 1477.06 1920.4 1481.67 Q1917.34 1486.25 1911.53 1486.25 Q1905.72 1486.25 1902.64 1481.67 Q1899.59 1477.06 1899.59 1468.33 Q1899.59 1459.58 1902.64 1455 Q1905.72 1450.39 1911.53 1450.39 Z\" fill=\"#000000\" fill-rule=\"evenodd\" fill-opacity=\"1\" /><path clip-path=\"url(#clip950)\" d=\"M2179.86 1481.64 L2187.5 1481.64 L2187.5 1455.28 L2179.18 1456.95 L2179.18 1452.69 L2187.45 1451.02 L2192.12 1451.02 L2192.12 1481.64 L2199.76 1481.64 L2199.76 1485.58 L2179.86 1485.58 L2179.86 1481.64 Z\" fill=\"#000000\" fill-rule=\"evenodd\" fill-opacity=\"1\" /><path clip-path=\"url(#clip950)\" d=\"M2209.21 1479.7 L2214.09 1479.7 L2214.09 1485.58 L2209.21 1485.58 L2209.21 1479.7 Z\" fill=\"#000000\" fill-rule=\"evenodd\" fill-opacity=\"1\" /><path clip-path=\"url(#clip950)\" d=\"M2228.31 1481.64 L2244.62 1481.64 L2244.62 1485.58 L2222.68 1485.58 L2222.68 1481.64 Q2225.34 1478.89 2229.93 1474.26 Q2234.53 1469.61 2235.71 1468.27 Q2237.96 1465.74 2238.84 1464.01 Q2239.74 1462.25 2239.74 1460.56 Q2239.74 1457.8 2237.8 1456.07 Q2235.87 1454.33 2232.77 1454.33 Q2230.57 1454.33 2228.12 1455.09 Q2225.69 1455.86 2222.91 1457.41 L2222.91 1452.69 Q2225.74 1451.55 2228.19 1450.97 Q2230.64 1450.39 2232.68 1450.39 Q2238.05 1450.39 2241.24 1453.08 Q2244.44 1455.77 2244.44 1460.26 Q2244.44 1462.39 2243.63 1464.31 Q2242.84 1466.2 2240.74 1468.8 Q2240.16 1469.47 2237.06 1472.69 Q2233.95 1475.88 2228.31 1481.64 Z\" fill=\"#000000\" fill-rule=\"evenodd\" fill-opacity=\"1\" /><path clip-path=\"url(#clip950)\" d=\"M1225.25 1547.64 Q1225.25 1549.34 1224.12 1550.44 Q1223.03 1551.53 1221.61 1551.53 Q1220.39 1551.53 1219.74 1550.83 Q1219.1 1550.12 1219.1 1549.21 Q1219.1 1547.93 1220.1 1546.86 Q1221.1 1545.8 1222.55 1545.58 Q1221.48 1544.8 1219.78 1544.8 Q1216.97 1544.8 1214.49 1546.96 Q1213.4 1547.96 1212.21 1549.79 Q1211.02 1551.6 1210.79 1552.37 L1208.7 1560.97 Q1208.5 1561.94 1207.31 1566.57 Q1206.15 1571.18 1206.06 1571.37 Q1205.73 1572.27 1205.03 1572.76 Q1204.32 1573.24 1203.61 1573.24 Q1202.8 1573.24 1202.26 1572.76 Q1201.71 1572.27 1201.71 1571.44 Q1201.71 1571.31 1201.8 1570.83 Q1201.9 1570.34 1202.06 1569.67 Q1202.22 1568.99 1202.29 1568.6 L1206.12 1553.37 Q1206.83 1550.6 1206.99 1549.73 Q1207.18 1548.83 1207.18 1547.83 Q1207.18 1546.09 1206.64 1545.45 Q1206.09 1544.8 1205.12 1544.8 Q1203.45 1544.8 1202.35 1546.8 Q1201.26 1548.8 1200.32 1552.66 Q1200.03 1553.72 1199.84 1553.95 Q1199.68 1554.17 1199.2 1554.17 Q1198.39 1554.14 1198.39 1553.5 Q1198.39 1553.34 1198.65 1552.31 Q1198.91 1551.24 1199.39 1549.7 Q1199.9 1548.12 1200.45 1547.12 Q1200.77 1546.45 1201.06 1545.99 Q1201.35 1545.54 1201.93 1544.83 Q1202.51 1544.13 1203.38 1543.74 Q1204.25 1543.35 1205.32 1543.35 Q1207.63 1543.35 1209.28 1544.77 Q1210.95 1546.19 1211.34 1548.41 Q1212.14 1547.25 1213.14 1546.25 Q1214.14 1545.22 1215.98 1544.29 Q1217.81 1543.35 1219.78 1543.35 Q1222.22 1543.35 1223.74 1544.61 Q1225.25 1545.83 1225.25 1547.64 Z\" fill=\"#000000\" fill-rule=\"evenodd\" fill-opacity=\"1\" /><path clip-path=\"url(#clip950)\" d=\"M1236.55 1588.99 L1236.55 1523.03 L1246.5 1523.03 L1246.5 1524.55 L1240.96 1524.55 L1240.96 1587.48 L1246.5 1587.48 L1246.5 1588.99 L1236.55 1588.99 Z\" fill=\"#000000\" fill-rule=\"evenodd\" fill-opacity=\"1\" /><path clip-path=\"url(#clip950)\" d=\"M1247.84 1572.5 L1247.84 1570.47 Q1251.35 1570.47 1252.15 1570.05 Q1252.96 1569.6 1252.96 1567.48 L1252.96 1549.79 Q1252.96 1547.35 1252.09 1546.74 Q1251.25 1546.12 1247.84 1546.12 L1247.84 1544.06 L1257.11 1543.35 L1257.11 1550.28 Q1260.2 1543.35 1266.87 1543.35 Q1274.6 1543.35 1275.66 1549.79 Q1276.79 1547.28 1279.14 1545.32 Q1281.52 1543.35 1285.23 1543.35 Q1290.19 1543.35 1292.15 1545.8 Q1293.6 1547.44 1293.89 1549.28 Q1294.18 1551.12 1294.18 1555.88 L1294.18 1568.47 Q1294.24 1569.86 1295.31 1570.18 Q1296.37 1570.47 1299.33 1570.47 L1299.33 1572.5 Q1292.6 1572.31 1291.96 1572.31 Q1291.44 1572.31 1284.49 1572.5 L1284.49 1570.47 Q1288 1570.47 1288.8 1570.05 Q1289.64 1569.6 1289.64 1567.48 L1289.64 1552.11 Q1289.64 1548.76 1288.61 1546.8 Q1287.58 1544.8 1284.74 1544.8 Q1281.33 1544.8 1278.59 1547.67 Q1275.85 1550.54 1275.85 1555.37 L1275.85 1567.48 Q1275.85 1569.6 1276.66 1570.05 Q1277.5 1570.47 1281.01 1570.47 L1281.01 1572.5 Q1274.28 1572.31 1273.6 1572.31 Q1273.08 1572.31 1266.16 1572.5 L1266.16 1570.47 Q1269.67 1570.47 1270.48 1570.05 Q1271.31 1569.6 1271.31 1567.48 L1271.31 1552.11 Q1271.31 1548.76 1270.28 1546.8 Q1269.25 1544.8 1266.42 1544.8 Q1263 1544.8 1260.27 1547.67 Q1257.53 1550.54 1257.53 1555.37 L1257.53 1567.48 Q1257.53 1569.6 1258.33 1570.05 Q1259.17 1570.47 1262.65 1570.47 L1262.65 1572.5 Q1255.92 1572.31 1255.27 1572.31 Q1254.76 1572.31 1247.84 1572.5 Z\" fill=\"#000000\" fill-rule=\"evenodd\" fill-opacity=\"1\" /><path clip-path=\"url(#clip950)\" d=\"M1301.96 1572.5 L1301.96 1570.47 Q1305.47 1570.47 1306.27 1570.05 Q1307.08 1569.6 1307.08 1567.48 L1307.08 1549.79 Q1307.08 1547.35 1306.21 1546.74 Q1305.37 1546.12 1301.96 1546.12 L1301.96 1544.06 L1311.23 1543.35 L1311.23 1550.28 Q1314.33 1543.35 1320.99 1543.35 Q1328.72 1543.35 1329.78 1549.79 Q1330.91 1547.28 1333.26 1545.32 Q1335.65 1543.35 1339.35 1543.35 Q1344.31 1543.35 1346.27 1545.8 Q1347.72 1547.44 1348.01 1549.28 Q1348.3 1551.12 1348.3 1555.88 L1348.3 1568.47 Q1348.37 1569.86 1349.43 1570.18 Q1350.49 1570.47 1353.46 1570.47 L1353.46 1572.5 Q1346.72 1572.31 1346.08 1572.31 Q1345.56 1572.31 1338.61 1572.5 L1338.61 1570.47 Q1342.12 1570.47 1342.92 1570.05 Q1343.76 1569.6 1343.76 1567.48 L1343.76 1552.11 Q1343.76 1548.76 1342.73 1546.8 Q1341.7 1544.8 1338.87 1544.8 Q1335.45 1544.8 1332.71 1547.67 Q1329.98 1550.54 1329.98 1555.37 L1329.98 1567.48 Q1329.98 1569.6 1330.78 1570.05 Q1331.62 1570.47 1335.13 1570.47 L1335.13 1572.5 Q1328.4 1572.31 1327.72 1572.31 Q1327.21 1572.31 1320.28 1572.5 L1320.28 1570.47 Q1323.79 1570.47 1324.6 1570.05 Q1325.44 1569.6 1325.44 1567.48 L1325.44 1552.11 Q1325.44 1548.76 1324.41 1546.8 Q1323.37 1544.8 1320.54 1544.8 Q1317.13 1544.8 1314.39 1547.67 Q1311.65 1550.54 1311.65 1555.37 L1311.65 1567.48 Q1311.65 1569.6 1312.46 1570.05 Q1313.29 1570.47 1316.77 1570.47 L1316.77 1572.5 Q1310.04 1572.31 1309.4 1572.31 Q1308.88 1572.31 1301.96 1572.5 Z\" fill=\"#000000\" fill-rule=\"evenodd\" fill-opacity=\"1\" /><path clip-path=\"url(#clip950)\" d=\"M1356.08 1587.48 L1361.62 1587.48 L1361.62 1524.55 L1356.08 1524.55 L1356.08 1523.03 L1366.03 1523.03 L1366.03 1588.99 L1356.08 1588.99 L1356.08 1587.48 Z\" fill=\"#000000\" fill-rule=\"evenodd\" fill-opacity=\"1\" /><polyline clip-path=\"url(#clip952)\" style=\"stroke:#000000; stroke-linecap:butt; stroke-linejoin:round; stroke-width:2; stroke-opacity:0.1; fill:none\" points=\"\n",
       "  219.866,1423.18 2352.76,1423.18 \n",
       "  \"/>\n",
       "<polyline clip-path=\"url(#clip952)\" style=\"stroke:#000000; stroke-linecap:butt; stroke-linejoin:round; stroke-width:2; stroke-opacity:0.1; fill:none\" points=\"\n",
       "  219.866,1270.3 2352.76,1270.3 \n",
       "  \"/>\n",
       "<polyline clip-path=\"url(#clip952)\" style=\"stroke:#000000; stroke-linecap:butt; stroke-linejoin:round; stroke-width:2; stroke-opacity:0.1; fill:none\" points=\"\n",
       "  219.866,1117.42 2352.76,1117.42 \n",
       "  \"/>\n",
       "<polyline clip-path=\"url(#clip952)\" style=\"stroke:#000000; stroke-linecap:butt; stroke-linejoin:round; stroke-width:2; stroke-opacity:0.1; fill:none\" points=\"\n",
       "  219.866,964.535 2352.76,964.535 \n",
       "  \"/>\n",
       "<polyline clip-path=\"url(#clip952)\" style=\"stroke:#000000; stroke-linecap:butt; stroke-linejoin:round; stroke-width:2; stroke-opacity:0.1; fill:none\" points=\"\n",
       "  219.866,811.653 2352.76,811.653 \n",
       "  \"/>\n",
       "<polyline clip-path=\"url(#clip952)\" style=\"stroke:#000000; stroke-linecap:butt; stroke-linejoin:round; stroke-width:2; stroke-opacity:0.1; fill:none\" points=\"\n",
       "  219.866,658.771 2352.76,658.771 \n",
       "  \"/>\n",
       "<polyline clip-path=\"url(#clip952)\" style=\"stroke:#000000; stroke-linecap:butt; stroke-linejoin:round; stroke-width:2; stroke-opacity:0.1; fill:none\" points=\"\n",
       "  219.866,505.889 2352.76,505.889 \n",
       "  \"/>\n",
       "<polyline clip-path=\"url(#clip952)\" style=\"stroke:#000000; stroke-linecap:butt; stroke-linejoin:round; stroke-width:2; stroke-opacity:0.1; fill:none\" points=\"\n",
       "  219.866,353.008 2352.76,353.008 \n",
       "  \"/>\n",
       "<polyline clip-path=\"url(#clip952)\" style=\"stroke:#000000; stroke-linecap:butt; stroke-linejoin:round; stroke-width:2; stroke-opacity:0.1; fill:none\" points=\"\n",
       "  219.866,200.126 2352.76,200.126 \n",
       "  \"/>\n",
       "<polyline clip-path=\"url(#clip952)\" style=\"stroke:#000000; stroke-linecap:butt; stroke-linejoin:round; stroke-width:2; stroke-opacity:0.1; fill:none\" points=\"\n",
       "  219.866,47.2441 2352.76,47.2441 \n",
       "  \"/>\n",
       "<polyline clip-path=\"url(#clip950)\" style=\"stroke:#000000; stroke-linecap:butt; stroke-linejoin:round; stroke-width:4; stroke-opacity:1; fill:none\" points=\"\n",
       "  219.866,1423.18 219.866,47.2441 \n",
       "  \"/>\n",
       "<polyline clip-path=\"url(#clip950)\" style=\"stroke:#000000; stroke-linecap:butt; stroke-linejoin:round; stroke-width:4; stroke-opacity:1; fill:none\" points=\"\n",
       "  219.866,1423.18 238.764,1423.18 \n",
       "  \"/>\n",
       "<polyline clip-path=\"url(#clip950)\" style=\"stroke:#000000; stroke-linecap:butt; stroke-linejoin:round; stroke-width:4; stroke-opacity:1; fill:none\" points=\"\n",
       "  219.866,1270.3 238.764,1270.3 \n",
       "  \"/>\n",
       "<polyline clip-path=\"url(#clip950)\" style=\"stroke:#000000; stroke-linecap:butt; stroke-linejoin:round; stroke-width:4; stroke-opacity:1; fill:none\" points=\"\n",
       "  219.866,1117.42 238.764,1117.42 \n",
       "  \"/>\n",
       "<polyline clip-path=\"url(#clip950)\" style=\"stroke:#000000; stroke-linecap:butt; stroke-linejoin:round; stroke-width:4; stroke-opacity:1; fill:none\" points=\"\n",
       "  219.866,964.535 238.764,964.535 \n",
       "  \"/>\n",
       "<polyline clip-path=\"url(#clip950)\" style=\"stroke:#000000; stroke-linecap:butt; stroke-linejoin:round; stroke-width:4; stroke-opacity:1; fill:none\" points=\"\n",
       "  219.866,811.653 238.764,811.653 \n",
       "  \"/>\n",
       "<polyline clip-path=\"url(#clip950)\" style=\"stroke:#000000; stroke-linecap:butt; stroke-linejoin:round; stroke-width:4; stroke-opacity:1; fill:none\" points=\"\n",
       "  219.866,658.771 238.764,658.771 \n",
       "  \"/>\n",
       "<polyline clip-path=\"url(#clip950)\" style=\"stroke:#000000; stroke-linecap:butt; stroke-linejoin:round; stroke-width:4; stroke-opacity:1; fill:none\" points=\"\n",
       "  219.866,505.889 238.764,505.889 \n",
       "  \"/>\n",
       "<polyline clip-path=\"url(#clip950)\" style=\"stroke:#000000; stroke-linecap:butt; stroke-linejoin:round; stroke-width:4; stroke-opacity:1; fill:none\" points=\"\n",
       "  219.866,353.008 238.764,353.008 \n",
       "  \"/>\n",
       "<polyline clip-path=\"url(#clip950)\" style=\"stroke:#000000; stroke-linecap:butt; stroke-linejoin:round; stroke-width:4; stroke-opacity:1; fill:none\" points=\"\n",
       "  219.866,200.126 238.764,200.126 \n",
       "  \"/>\n",
       "<polyline clip-path=\"url(#clip950)\" style=\"stroke:#000000; stroke-linecap:butt; stroke-linejoin:round; stroke-width:4; stroke-opacity:1; fill:none\" points=\"\n",
       "  219.866,47.2441 238.764,47.2441 \n",
       "  \"/>\n",
       "<path clip-path=\"url(#clip950)\" d=\"M126.205 1408.98 Q122.593 1408.98 120.765 1412.54 Q118.959 1416.08 118.959 1423.21 Q118.959 1430.32 120.765 1433.89 Q122.593 1437.43 126.205 1437.43 Q129.839 1437.43 131.644 1433.89 Q133.473 1430.32 133.473 1423.21 Q133.473 1416.08 131.644 1412.54 Q129.839 1408.98 126.205 1408.98 M126.205 1405.27 Q132.015 1405.27 135.07 1409.88 Q138.149 1414.46 138.149 1423.21 Q138.149 1431.94 135.07 1436.55 Q132.015 1441.13 126.205 1441.13 Q120.394 1441.13 117.316 1436.55 Q114.26 1431.94 114.26 1423.21 Q114.26 1414.46 117.316 1409.88 Q120.394 1405.27 126.205 1405.27 Z\" fill=\"#000000\" fill-rule=\"evenodd\" fill-opacity=\"1\" /><path clip-path=\"url(#clip950)\" d=\"M146.366 1434.58 L151.251 1434.58 L151.251 1440.46 L146.366 1440.46 L146.366 1434.58 Z\" fill=\"#000000\" fill-rule=\"evenodd\" fill-opacity=\"1\" /><path clip-path=\"url(#clip950)\" d=\"M174.283 1409.97 L162.477 1428.42 L174.283 1428.42 L174.283 1409.97 M173.056 1405.9 L178.936 1405.9 L178.936 1428.42 L183.866 1428.42 L183.866 1432.31 L178.936 1432.31 L178.936 1440.46 L174.283 1440.46 L174.283 1432.31 L158.681 1432.31 L158.681 1427.8 L173.056 1405.9 Z\" fill=\"#000000\" fill-rule=\"evenodd\" fill-opacity=\"1\" /><path clip-path=\"url(#clip950)\" d=\"M127.686 1256.1 Q124.075 1256.1 122.246 1259.66 Q120.441 1263.2 120.441 1270.33 Q120.441 1277.44 122.246 1281 Q124.075 1284.55 127.686 1284.55 Q131.32 1284.55 133.126 1281 Q134.954 1277.44 134.954 1270.33 Q134.954 1263.2 133.126 1259.66 Q131.32 1256.1 127.686 1256.1 M127.686 1252.39 Q133.496 1252.39 136.552 1257 Q139.63 1261.58 139.63 1270.33 Q139.63 1279.06 136.552 1283.67 Q133.496 1288.25 127.686 1288.25 Q121.876 1288.25 118.797 1283.67 Q115.742 1279.06 115.742 1270.33 Q115.742 1261.58 118.797 1257 Q121.876 1252.39 127.686 1252.39 Z\" fill=\"#000000\" fill-rule=\"evenodd\" fill-opacity=\"1\" /><path clip-path=\"url(#clip950)\" d=\"M147.848 1281.7 L152.732 1281.7 L152.732 1287.58 L147.848 1287.58 L147.848 1281.7 Z\" fill=\"#000000\" fill-rule=\"evenodd\" fill-opacity=\"1\" /><path clip-path=\"url(#clip950)\" d=\"M162.964 1253.02 L181.32 1253.02 L181.32 1256.95 L167.246 1256.95 L167.246 1265.43 Q168.264 1265.08 169.283 1264.92 Q170.302 1264.73 171.32 1264.73 Q177.107 1264.73 180.487 1267.9 Q183.866 1271.07 183.866 1276.49 Q183.866 1282.07 180.394 1285.17 Q176.922 1288.25 170.602 1288.25 Q168.427 1288.25 166.158 1287.88 Q163.913 1287.51 161.505 1286.77 L161.505 1282.07 Q163.589 1283.2 165.811 1283.76 Q168.033 1284.31 170.51 1284.31 Q174.514 1284.31 176.852 1282.21 Q179.19 1280.1 179.19 1276.49 Q179.19 1272.88 176.852 1270.77 Q174.514 1268.67 170.51 1268.67 Q168.635 1268.67 166.76 1269.08 Q164.908 1269.5 162.964 1270.38 L162.964 1253.02 Z\" fill=\"#000000\" fill-rule=\"evenodd\" fill-opacity=\"1\" /><path clip-path=\"url(#clip950)\" d=\"M126.529 1103.22 Q122.918 1103.22 121.089 1106.78 Q119.283 1110.32 119.283 1117.45 Q119.283 1124.56 121.089 1128.12 Q122.918 1131.66 126.529 1131.66 Q130.163 1131.66 131.968 1128.12 Q133.797 1124.56 133.797 1117.45 Q133.797 1110.32 131.968 1106.78 Q130.163 1103.22 126.529 1103.22 M126.529 1099.51 Q132.339 1099.51 135.394 1104.12 Q138.473 1108.7 138.473 1117.45 Q138.473 1126.18 135.394 1130.78 Q132.339 1135.37 126.529 1135.37 Q120.718 1135.37 117.64 1130.78 Q114.584 1126.18 114.584 1117.45 Q114.584 1108.7 117.64 1104.12 Q120.718 1099.51 126.529 1099.51 Z\" fill=\"#000000\" fill-rule=\"evenodd\" fill-opacity=\"1\" /><path clip-path=\"url(#clip950)\" d=\"M146.691 1128.82 L151.575 1128.82 L151.575 1134.7 L146.691 1134.7 L146.691 1128.82 Z\" fill=\"#000000\" fill-rule=\"evenodd\" fill-opacity=\"1\" /><path clip-path=\"url(#clip950)\" d=\"M172.339 1115.55 Q169.19 1115.55 167.339 1117.71 Q165.51 1119.86 165.51 1123.61 Q165.51 1127.34 167.339 1129.51 Q169.19 1131.66 172.339 1131.66 Q175.487 1131.66 177.315 1129.51 Q179.167 1127.34 179.167 1123.61 Q179.167 1119.86 177.315 1117.71 Q175.487 1115.55 172.339 1115.55 M181.621 1100.9 L181.621 1105.16 Q179.862 1104.33 178.056 1103.89 Q176.274 1103.45 174.514 1103.45 Q169.885 1103.45 167.431 1106.57 Q165.001 1109.7 164.653 1116.02 Q166.019 1114 168.079 1112.94 Q170.139 1111.85 172.616 1111.85 Q177.825 1111.85 180.834 1115.02 Q183.866 1118.17 183.866 1123.61 Q183.866 1128.93 180.718 1132.15 Q177.57 1135.37 172.339 1135.37 Q166.343 1135.37 163.172 1130.78 Q160.001 1126.18 160.001 1117.45 Q160.001 1109.26 163.89 1104.4 Q167.778 1099.51 174.329 1099.51 Q176.089 1099.51 177.871 1099.86 Q179.676 1100.21 181.621 1100.9 Z\" fill=\"#000000\" fill-rule=\"evenodd\" fill-opacity=\"1\" /><path clip-path=\"url(#clip950)\" d=\"M127.593 950.333 Q123.982 950.333 122.154 953.898 Q120.348 957.44 120.348 964.569 Q120.348 971.676 122.154 975.241 Q123.982 978.782 127.593 978.782 Q131.228 978.782 133.033 975.241 Q134.862 971.676 134.862 964.569 Q134.862 957.44 133.033 953.898 Q131.228 950.333 127.593 950.333 M127.593 946.63 Q133.404 946.63 136.459 951.236 Q139.538 955.819 139.538 964.569 Q139.538 973.296 136.459 977.903 Q133.404 982.486 127.593 982.486 Q121.783 982.486 118.705 977.903 Q115.649 973.296 115.649 964.569 Q115.649 955.819 118.705 951.236 Q121.783 946.63 127.593 946.63 Z\" fill=\"#000000\" fill-rule=\"evenodd\" fill-opacity=\"1\" /><path clip-path=\"url(#clip950)\" d=\"M147.755 975.935 L152.64 975.935 L152.64 981.815 L147.755 981.815 L147.755 975.935 Z\" fill=\"#000000\" fill-rule=\"evenodd\" fill-opacity=\"1\" /><path clip-path=\"url(#clip950)\" d=\"M161.644 947.255 L183.866 947.255 L183.866 949.245 L171.32 981.815 L166.436 981.815 L178.241 951.19 L161.644 951.19 L161.644 947.255 Z\" fill=\"#000000\" fill-rule=\"evenodd\" fill-opacity=\"1\" /><path clip-path=\"url(#clip950)\" d=\"M126.783 797.452 Q123.172 797.452 121.343 801.016 Q119.538 804.558 119.538 811.688 Q119.538 818.794 121.343 822.359 Q123.172 825.9 126.783 825.9 Q130.417 825.9 132.223 822.359 Q134.052 818.794 134.052 811.688 Q134.052 804.558 132.223 801.016 Q130.417 797.452 126.783 797.452 M126.783 793.748 Q132.593 793.748 135.649 798.354 Q138.728 802.938 138.728 811.688 Q138.728 820.414 135.649 825.021 Q132.593 829.604 126.783 829.604 Q120.973 829.604 117.894 825.021 Q114.839 820.414 114.839 811.688 Q114.839 802.938 117.894 798.354 Q120.973 793.748 126.783 793.748 Z\" fill=\"#000000\" fill-rule=\"evenodd\" fill-opacity=\"1\" /><path clip-path=\"url(#clip950)\" d=\"M146.945 823.053 L151.829 823.053 L151.829 828.933 L146.945 828.933 L146.945 823.053 Z\" fill=\"#000000\" fill-rule=\"evenodd\" fill-opacity=\"1\" /><path clip-path=\"url(#clip950)\" d=\"M172.014 812.521 Q168.681 812.521 166.76 814.303 Q164.862 816.086 164.862 819.211 Q164.862 822.336 166.76 824.118 Q168.681 825.9 172.014 825.9 Q175.348 825.9 177.269 824.118 Q179.19 822.313 179.19 819.211 Q179.19 816.086 177.269 814.303 Q175.371 812.521 172.014 812.521 M167.339 810.53 Q164.329 809.789 162.64 807.729 Q160.973 805.669 160.973 802.706 Q160.973 798.563 163.913 796.155 Q166.876 793.748 172.014 793.748 Q177.176 793.748 180.116 796.155 Q183.056 798.563 183.056 802.706 Q183.056 805.669 181.366 807.729 Q179.7 809.789 176.714 810.53 Q180.093 811.317 181.968 813.609 Q183.866 815.901 183.866 819.211 Q183.866 824.234 180.788 826.919 Q177.732 829.604 172.014 829.604 Q166.297 829.604 163.218 826.919 Q160.163 824.234 160.163 819.211 Q160.163 815.901 162.061 813.609 Q163.959 811.317 167.339 810.53 M165.626 803.146 Q165.626 805.831 167.292 807.336 Q168.982 808.84 172.014 808.84 Q175.024 808.84 176.714 807.336 Q178.426 805.831 178.426 803.146 Q178.426 800.461 176.714 798.956 Q175.024 797.452 172.014 797.452 Q168.982 797.452 167.292 798.956 Q165.626 800.461 165.626 803.146 Z\" fill=\"#000000\" fill-rule=\"evenodd\" fill-opacity=\"1\" /><path clip-path=\"url(#clip950)\" d=\"M126.876 644.57 Q123.265 644.57 121.436 648.135 Q119.63 651.676 119.63 658.806 Q119.63 665.912 121.436 669.477 Q123.265 673.019 126.876 673.019 Q130.51 673.019 132.316 669.477 Q134.144 665.912 134.144 658.806 Q134.144 651.676 132.316 648.135 Q130.51 644.57 126.876 644.57 M126.876 640.866 Q132.686 640.866 135.742 645.473 Q138.82 650.056 138.82 658.806 Q138.82 667.533 135.742 672.139 Q132.686 676.722 126.876 676.722 Q121.066 676.722 117.987 672.139 Q114.931 667.533 114.931 658.806 Q114.931 650.056 117.987 645.473 Q121.066 640.866 126.876 640.866 Z\" fill=\"#000000\" fill-rule=\"evenodd\" fill-opacity=\"1\" /><path clip-path=\"url(#clip950)\" d=\"M147.038 670.171 L151.922 670.171 L151.922 676.051 L147.038 676.051 L147.038 670.171 Z\" fill=\"#000000\" fill-rule=\"evenodd\" fill-opacity=\"1\" /><path clip-path=\"url(#clip950)\" d=\"M162.246 675.334 L162.246 671.074 Q164.005 671.908 165.811 672.347 Q167.616 672.787 169.352 672.787 Q173.982 672.787 176.413 669.685 Q178.866 666.56 179.214 660.218 Q177.871 662.209 175.811 663.273 Q173.751 664.338 171.251 664.338 Q166.065 664.338 163.033 661.213 Q160.024 658.065 160.024 652.625 Q160.024 647.301 163.172 644.084 Q166.32 640.866 171.552 640.866 Q177.547 640.866 180.695 645.473 Q183.866 650.056 183.866 658.806 Q183.866 666.977 179.977 671.861 Q176.112 676.722 169.561 676.722 Q167.802 676.722 165.996 676.375 Q164.19 676.028 162.246 675.334 M171.552 660.681 Q174.7 660.681 176.528 658.528 Q178.38 656.375 178.38 652.625 Q178.38 648.898 176.528 646.746 Q174.7 644.57 171.552 644.57 Q168.403 644.57 166.552 646.746 Q164.723 648.898 164.723 652.625 Q164.723 656.375 166.552 658.528 Q168.403 660.681 171.552 660.681 Z\" fill=\"#000000\" fill-rule=\"evenodd\" fill-opacity=\"1\" /><path clip-path=\"url(#clip950)\" d=\"M117.501 519.234 L125.14 519.234 L125.14 492.869 L116.83 494.535 L116.83 490.276 L125.093 488.609 L129.769 488.609 L129.769 519.234 L137.408 519.234 L137.408 523.169 L117.501 523.169 L117.501 519.234 Z\" fill=\"#000000\" fill-rule=\"evenodd\" fill-opacity=\"1\" /><path clip-path=\"url(#clip950)\" d=\"M146.853 517.29 L151.737 517.29 L151.737 523.169 L146.853 523.169 L146.853 517.29 Z\" fill=\"#000000\" fill-rule=\"evenodd\" fill-opacity=\"1\" /><path clip-path=\"url(#clip950)\" d=\"M171.922 491.688 Q168.311 491.688 166.482 495.253 Q164.677 498.794 164.677 505.924 Q164.677 513.031 166.482 516.595 Q168.311 520.137 171.922 520.137 Q175.556 520.137 177.362 516.595 Q179.19 513.031 179.19 505.924 Q179.19 498.794 177.362 495.253 Q175.556 491.688 171.922 491.688 M171.922 487.984 Q177.732 487.984 180.788 492.591 Q183.866 497.174 183.866 505.924 Q183.866 514.651 180.788 519.257 Q177.732 523.841 171.922 523.841 Q166.112 523.841 163.033 519.257 Q159.978 514.651 159.978 505.924 Q159.978 497.174 163.033 492.591 Q166.112 487.984 171.922 487.984 Z\" fill=\"#000000\" fill-rule=\"evenodd\" fill-opacity=\"1\" /><path clip-path=\"url(#clip950)\" d=\"M118.728 366.352 L126.367 366.352 L126.367 339.987 L118.056 341.653 L118.056 337.394 L126.32 335.728 L130.996 335.728 L130.996 366.352 L138.635 366.352 L138.635 370.288 L118.728 370.288 L118.728 366.352 Z\" fill=\"#000000\" fill-rule=\"evenodd\" fill-opacity=\"1\" /><path clip-path=\"url(#clip950)\" d=\"M148.079 364.408 L152.964 364.408 L152.964 370.288 L148.079 370.288 L148.079 364.408 Z\" fill=\"#000000\" fill-rule=\"evenodd\" fill-opacity=\"1\" /><path clip-path=\"url(#clip950)\" d=\"M163.959 366.352 L171.598 366.352 L171.598 339.987 L163.288 341.653 L163.288 337.394 L171.552 335.728 L176.227 335.728 L176.227 366.352 L183.866 366.352 L183.866 370.288 L163.959 370.288 L163.959 366.352 Z\" fill=\"#000000\" fill-rule=\"evenodd\" fill-opacity=\"1\" /><path clip-path=\"url(#clip950)\" d=\"M119.098 213.471 L126.737 213.471 L126.737 187.105 L118.427 188.772 L118.427 184.513 L126.691 182.846 L131.367 182.846 L131.367 213.471 L139.005 213.471 L139.005 217.406 L119.098 217.406 L119.098 213.471 Z\" fill=\"#000000\" fill-rule=\"evenodd\" fill-opacity=\"1\" /><path clip-path=\"url(#clip950)\" d=\"M148.45 211.526 L153.334 211.526 L153.334 217.406 L148.45 217.406 L148.45 211.526 Z\" fill=\"#000000\" fill-rule=\"evenodd\" fill-opacity=\"1\" /><path clip-path=\"url(#clip950)\" d=\"M167.547 213.471 L183.866 213.471 L183.866 217.406 L161.922 217.406 L161.922 213.471 Q164.584 210.716 169.167 206.086 Q173.774 201.434 174.954 200.091 Q177.2 197.568 178.079 195.832 Q178.982 194.073 178.982 192.383 Q178.982 189.628 177.038 187.892 Q175.116 186.156 172.014 186.156 Q169.815 186.156 167.362 186.92 Q164.931 187.684 162.153 189.235 L162.153 184.513 Q164.977 183.378 167.431 182.8 Q169.885 182.221 171.922 182.221 Q177.292 182.221 180.487 184.906 Q183.681 187.591 183.681 192.082 Q183.681 194.212 182.871 196.133 Q182.084 198.031 179.977 200.624 Q179.399 201.295 176.297 204.512 Q173.195 207.707 167.547 213.471 Z\" fill=\"#000000\" fill-rule=\"evenodd\" fill-opacity=\"1\" /><path clip-path=\"url(#clip950)\" d=\"M118.149 60.5889 L125.788 60.5889 L125.788 34.2233 L117.478 35.89 L117.478 31.6308 L125.742 29.9641 L130.417 29.9641 L130.417 60.5889 L138.056 60.5889 L138.056 64.5241 L118.149 64.5241 L118.149 60.5889 Z\" fill=\"#000000\" fill-rule=\"evenodd\" fill-opacity=\"1\" /><path clip-path=\"url(#clip950)\" d=\"M147.501 58.6445 L152.385 58.6445 L152.385 64.5241 L147.501 64.5241 L147.501 58.6445 Z\" fill=\"#000000\" fill-rule=\"evenodd\" fill-opacity=\"1\" /><path clip-path=\"url(#clip950)\" d=\"M176.737 45.8899 Q180.093 46.6075 181.968 48.876 Q183.866 51.1445 183.866 54.4779 Q183.866 59.5936 180.348 62.3945 Q176.829 65.1954 170.348 65.1954 Q168.172 65.1954 165.857 64.7556 Q163.565 64.3389 161.112 63.4824 L161.112 58.9686 Q163.056 60.1028 165.371 60.6815 Q167.686 61.2602 170.209 61.2602 Q174.607 61.2602 176.899 59.5241 Q179.214 57.788 179.214 54.4779 Q179.214 51.4223 177.061 49.7094 Q174.931 47.9733 171.112 47.9733 L167.084 47.9733 L167.084 44.1307 L171.297 44.1307 Q174.746 44.1307 176.575 42.765 Q178.403 41.3761 178.403 38.7835 Q178.403 36.1215 176.505 34.7094 Q174.63 33.2743 171.112 33.2743 Q169.19 33.2743 166.991 33.6909 Q164.792 34.1076 162.153 34.9872 L162.153 30.8206 Q164.815 30.0798 167.13 29.7095 Q169.468 29.3391 171.528 29.3391 Q176.852 29.3391 179.954 31.7696 Q183.056 34.177 183.056 38.2974 Q183.056 41.1677 181.413 43.1585 Q179.769 45.1261 176.737 45.8899 Z\" fill=\"#000000\" fill-rule=\"evenodd\" fill-opacity=\"1\" /><path clip-path=\"url(#clip950)\" d=\"M82.9205 903.495 L21.5039 903.495 Q19.0563 903.495 19.0563 902.175 Q19.0563 900.854 21.0209 900.854 L82.4374 900.854 Q84.8851 900.854 84.8851 902.175 Q84.8851 903.495 82.9205 903.495 Z\" fill=\"#000000\" fill-rule=\"evenodd\" fill-opacity=\"1\" /><path clip-path=\"url(#clip950)\" d=\"M25.4009 842.964 L36.8017 844.285 Q37.8323 844.381 38.1544 844.542 Q38.4442 844.703 38.4442 845.219 Q38.4442 845.605 38.2188 845.831 Q37.9611 846.024 37.6713 846.024 Q37.5103 846.024 37.0916 845.992 Q36.6729 845.959 36.4797 845.959 Q34.4829 845.67 32.9692 845.67 Q30.1673 845.67 28.6537 846.507 Q27.1078 847.344 26.3992 849.502 Q25.6585 851.66 25.6585 855.718 L25.6585 864.993 Q25.6585 867.119 26.045 867.634 Q26.4314 868.117 28.235 868.568 L44.1125 872.529 L44.1125 866.314 Q44.1125 863.995 43.8226 862.61 Q43.5328 861.193 42.7276 860.259 Q41.8903 859.293 40.7631 858.777 Q39.6358 858.23 37.6069 857.682 Q36.9306 857.521 36.6729 857.36 Q36.4153 857.167 36.4153 856.748 Q36.4153 856.426 36.6407 856.201 Q36.8339 855.975 37.1238 855.975 L52.5504 859.744 Q53.3233 859.937 53.6132 860.13 Q53.8708 860.323 53.8708 860.71 Q53.8708 861.128 53.6454 861.354 Q53.42 861.579 53.1623 861.579 Q52.9047 861.579 52.4216 861.386 Q50.3282 860.903 49.201 860.903 Q48.5569 860.903 48.2348 860.967 Q47.9128 861 47.4619 861.289 Q46.9788 861.547 46.7533 862.127 Q46.5279 862.707 46.3669 863.802 Q46.1736 864.897 46.1736 866.539 L46.1736 873.045 L64.1767 877.553 Q65.3683 877.875 65.6904 877.875 Q66.0447 877.875 66.1735 877.714 Q66.2701 877.521 66.3345 877.006 Q66.4311 876.426 66.4311 875.557 L66.4311 865.927 Q66.4311 863.802 66.2379 862.095 Q66.0447 860.388 65.5616 858.971 Q65.0785 857.521 64.531 856.426 Q63.9835 855.331 62.9851 854.301 Q61.9545 853.27 61.0527 852.562 Q60.1188 851.821 58.5407 850.951 Q56.9626 850.082 55.6744 849.47 Q54.3539 848.858 52.2283 847.924 Q51.4554 847.666 51.4554 847.054 Q51.4554 846.7 51.6486 846.507 Q51.8097 846.314 51.9707 846.282 L52.1639 846.282 Q52.7758 846.475 53.0979 846.604 L67.3329 852.658 Q68.138 853.013 68.2991 853.302 Q68.4601 853.592 68.4601 854.719 L68.4601 888.954 Q68.4601 889.727 68.4279 890.049 Q68.3957 890.339 68.2347 890.565 Q68.0414 890.79 67.6549 890.79 Q67.043 890.79 66.7854 890.532 Q66.4955 890.275 66.4633 889.985 Q66.4311 889.695 66.4311 888.954 Q66.4311 887.344 66.3345 886.378 Q66.2379 885.412 66.1091 884.8 Q65.948 884.156 65.4972 883.834 Q65.0463 883.479 64.6598 883.318 Q64.2411 883.157 63.3072 882.932 L28.4282 874.236 Q27.2366 873.914 26.8501 873.914 Q26.4314 873.914 26.1738 874.204 Q25.9162 874.462 25.8195 875.17 Q25.6907 875.879 25.6907 876.458 Q25.6585 877.006 25.6585 878.198 Q25.6585 878.97 25.6263 879.293 Q25.5941 879.582 25.4331 879.808 Q25.272 880.033 24.9178 880.033 Q24.016 880.033 23.8228 879.647 Q23.5973 879.228 23.5973 878.069 L23.5973 844.768 Q23.5973 843.447 23.8872 843.158 Q24.1448 842.835 25.4009 842.964 Z\" fill=\"#000000\" fill-rule=\"evenodd\" fill-opacity=\"1\" /><path clip-path=\"url(#clip950)\" d=\"M82.9205 833.879 L21.5039 833.879 Q19.0563 833.879 19.0563 832.559 Q19.0563 831.239 21.0209 831.239 L82.4374 831.239 Q84.8851 831.239 84.8851 832.559 Q84.8851 833.879 82.9205 833.879 Z\" fill=\"#000000\" fill-rule=\"evenodd\" fill-opacity=\"1\" /><path clip-path=\"url(#clip950)\" d=\"M84.9495 797.938 L18.9919 797.938 L18.9919 787.987 L20.5056 787.987 L20.5056 793.526 L83.4358 793.526 L83.4358 787.987 L84.9495 787.987 L84.9495 797.938 Z\" fill=\"#000000\" fill-rule=\"evenodd\" fill-opacity=\"1\" /><path clip-path=\"url(#clip950)\" d=\"M68.4601 785.332 L66.4311 785.332 Q66.4311 781.822 66.0124 781.017 Q65.5616 780.179 63.436 780.179 L29.1367 780.179 Q26.6891 780.179 26.0772 781.049 Q25.4653 781.886 25.4653 785.332 L23.4041 785.332 L22.6956 775.831 L54.3539 775.831 L46.3025 766.524 Q45.0464 765.075 43.726 765.075 Q42.2123 765.075 42.0835 766.975 L40.0223 766.975 Q40.2156 764.205 40.2156 759.6 Q40.2156 756.894 40.0223 754.994 L42.0835 754.994 Q42.2767 759.149 45.6261 763.303 Q46.3669 764.237 48.2992 766.459 Q50.1994 768.649 50.3926 768.649 Q50.457 768.649 50.618 768.585 Q50.7791 768.488 50.9079 768.36 Q51.0367 768.231 51.1011 768.231 L62.9207 759.857 Q65.3039 758.15 65.8836 756.894 Q66.4311 755.638 66.4311 753.448 L68.4601 753.448 Q68.2669 756.282 68.2669 759.213 Q68.2669 760.791 68.4601 766.331 L66.4311 766.331 Q66.4311 763.947 64.8852 763.947 Q63.8225 763.947 56.4473 769.294 Q55.932 769.68 54.8048 770.55 Q53.6132 771.355 53.0335 771.806 L56.6405 776.025 L63.436 776.025 Q65.5616 776.025 66.0124 775.219 Q66.4311 774.382 66.4311 770.872 L68.4601 770.872 Q68.2669 774.833 68.2669 778.118 Q68.2669 778.794 68.4601 785.332 Z\" fill=\"#000000\" fill-rule=\"evenodd\" fill-opacity=\"1\" /><path clip-path=\"url(#clip950)\" d=\"M25.4653 748.01 L23.4041 748.01 Q23.5973 740.892 23.5973 739.636 Q23.5973 732.583 23.4041 730.2 L25.4653 730.2 Q25.4653 735.61 27.3654 735.61 Q27.6231 735.61 28.557 735.224 L61.8579 722.631 L30.0707 710.554 Q29.0723 710.232 28.7503 710.232 Q27.4298 710.232 26.4959 711.456 Q25.5297 712.648 25.4653 715.031 L23.4041 715.031 Q23.5973 709.878 23.5973 707.527 Q23.5973 704.177 23.4041 701.118 L25.4653 701.118 Q25.5297 706.657 29.8775 708.3 L68.6533 723.018 Q69.4585 723.276 69.6839 723.533 Q69.9094 723.791 69.9094 724.596 Q69.9094 725.24 69.6517 725.594 Q69.3941 725.916 68.4601 726.238 L27.9773 741.536 Q26.206 742.18 25.8517 743.34 Q25.4653 744.499 25.4653 748.01 Z\" fill=\"#000000\" fill-rule=\"evenodd\" fill-opacity=\"1\" /><path clip-path=\"url(#clip950)\" d=\"M84.0155 699.014 Q83.6935 699.014 82.9849 698.756 L20.7632 675.471 Q20.6988 675.471 20.3445 675.31 Q19.9903 675.149 19.7648 675.052 Q19.5072 674.956 19.314 674.763 Q19.1207 674.537 19.1207 674.279 Q19.1207 673.635 19.9259 673.635 Q19.9903 673.635 20.7632 673.829 L83.0494 697.178 Q84.1766 697.564 84.4986 697.822 Q84.8207 698.047 84.8207 698.434 Q84.8207 699.014 84.0155 699.014 Z\" fill=\"#000000\" fill-rule=\"evenodd\" fill-opacity=\"1\" /><path clip-path=\"url(#clip950)\" d=\"M64.853 662.163 Q60.473 666.349 54.2251 666.349 Q47.945 666.349 43.4361 662.227 Q38.8951 658.105 38.8951 652.05 Q38.8951 648.024 40.8275 644.997 Q42.7276 641.97 45.9804 641.97 Q47.4297 641.97 48.267 642.839 Q49.0722 643.677 49.0722 644.997 Q49.0722 646.382 48.2348 647.219 Q47.3653 648.024 46.0448 648.024 Q45.4651 648.024 44.8854 647.831 Q44.3057 647.638 43.6938 646.929 Q43.0819 646.189 42.9853 644.933 Q40.5698 647.284 40.5698 651.857 Q40.5698 651.921 40.5698 651.986 Q40.5698 655.335 43.726 658.105 Q46.8822 660.874 54.0963 660.874 Q57.8644 660.874 60.6341 659.973 Q63.3716 659.039 64.7886 657.525 Q66.2057 656.011 66.882 654.53 Q67.5261 653.048 67.5261 651.599 Q67.5261 645.126 60.6019 642.936 Q59.9577 642.743 59.9577 642.098 Q59.9577 641.229 60.6019 641.229 Q60.9239 641.229 61.7613 641.487 Q62.5986 641.744 63.9191 642.549 Q65.2395 643.354 66.3989 644.514 Q67.5261 645.641 68.3635 647.67 Q69.2008 649.667 69.2008 652.179 Q69.2008 657.976 64.853 662.163 Z\" fill=\"#000000\" fill-rule=\"evenodd\" fill-opacity=\"1\" /><path clip-path=\"url(#clip950)\" d=\"M68.4601 639.202 L66.4311 639.202 Q66.4311 635.691 66.0124 634.886 Q65.5616 634.081 63.436 634.081 L45.755 634.081 Q43.3073 634.081 42.6954 634.951 Q42.0835 635.788 42.0835 639.202 L40.0223 639.202 L39.3138 629.926 L46.2381 629.926 Q39.3138 626.835 39.3138 620.168 Q39.3138 612.439 45.755 611.376 Q43.2429 610.249 41.2783 607.898 Q39.3138 605.514 39.3138 601.811 Q39.3138 596.851 41.7614 594.886 Q43.4039 593.437 45.2397 593.147 Q47.0754 592.858 51.8419 592.858 L64.4344 592.858 Q65.8192 592.793 66.1413 591.73 Q66.4311 590.668 66.4311 587.705 L68.4601 587.705 Q68.2669 594.436 68.2669 595.08 Q68.2669 595.595 68.4601 602.551 L66.4311 602.551 Q66.4311 599.041 66.0124 598.236 Q65.5616 597.399 63.436 597.399 L48.0738 597.399 Q44.7244 597.399 42.7598 598.429 Q40.7631 599.46 40.7631 602.294 Q40.7631 605.708 43.6294 608.445 Q46.4957 611.183 51.3266 611.183 L63.436 611.183 Q65.5616 611.183 66.0124 610.377 Q66.4311 609.54 66.4311 606.03 L68.4601 606.03 Q68.2669 612.761 68.2669 613.437 Q68.2669 613.952 68.4601 620.877 L66.4311 620.877 Q66.4311 617.366 66.0124 616.561 Q65.5616 615.724 63.436 615.724 L48.0738 615.724 Q44.7244 615.724 42.7598 616.754 Q40.7631 617.785 40.7631 620.619 Q40.7631 624.033 43.6294 626.77 Q46.4957 629.508 51.3266 629.508 L63.436 629.508 Q65.5616 629.508 66.0124 628.703 Q66.4311 627.865 66.4311 624.387 L68.4601 624.387 Q68.2669 631.118 68.2669 631.762 Q68.2669 632.277 68.4601 639.202 Z\" fill=\"#000000\" fill-rule=\"evenodd\" fill-opacity=\"1\" /><path clip-path=\"url(#clip950)\" d=\"M83.4358 585.079 L83.4358 579.539 L20.5056 579.539 L20.5056 585.079 L18.9919 585.079 L18.9919 575.127 L84.9495 575.127 L84.9495 585.079 L83.4358 585.079 Z\" fill=\"#000000\" fill-rule=\"evenodd\" fill-opacity=\"1\" /><polyline clip-path=\"url(#clip952)\" style=\"stroke:#000000; stroke-linecap:butt; stroke-linejoin:round; stroke-width:4; stroke-opacity:1; fill:none\" points=\"\n",
       "  280.231,69.1899 296.328,69.1894 312.426,69.19 328.523,69.1907 344.62,69.1914 360.717,69.1926 376.815,69.1942 392.912,69.1962 409.009,69.1983 425.107,69.2005 \n",
       "  441.204,69.2028 457.301,69.2059 473.398,69.2091 489.496,69.2128 505.593,69.2168 521.69,69.2214 537.788,69.2264 553.885,69.232 569.982,69.2383 586.079,69.2453 \n",
       "  602.177,69.2536 618.274,69.2631 634.371,69.2742 650.469,69.2874 666.566,69.3022 682.663,69.2421 698.76,117.892 714.858,160.163 730.955,196.102 747.052,227.466 \n",
       "  763.149,252.561 779.247,274.91 795.344,297.258 811.441,319.607 827.539,326.123 843.636,340.867 859.733,357.996 875.83,366.715 891.928,375.434 908.025,384.152 \n",
       "  924.122,392.871 940.22,401.59 956.317,410.308 972.414,419.026 988.511,427.687 1004.61,434.769 1020.71,437.872 1036.8,440.976 1052.9,444.079 1069,447.182 \n",
       "  1085.1,450.285 1101.19,453.388 1117.29,456.491 1133.39,459.594 1149.48,462.696 1165.58,465.65 1181.68,467.171 1197.78,468.693 1213.87,470.215 1229.97,471.736 \n",
       "  1246.07,473.258 1262.17,474.779 1278.26,476.301 1294.36,477.822 1310.46,479.344 1326.55,480.865 1342.65,482.387 1358.75,483.908 1374.85,485.429 1390.94,486.951 \n",
       "  1407.04,488.472 1423.14,484.122 1439.24,485.056 1455.33,485.991 1471.43,486.925 1487.53,489.368 1503.62,489.772 1519.72,490.177 1535.82,493.338 1551.92,493.608 \n",
       "  1568.01,493.878 1584.11,494.147 1600.21,494.417 1616.31,494.687 1632.4,494.956 1648.5,495.226 1664.6,495.496 1680.69,495.765 1696.79,496.035 1712.89,496.304 \n",
       "  1728.99,496.574 1745.08,496.844 1761.18,497.113 1777.28,497.383 1793.38,497.653 1809.47,497.922 1825.57,498.192 1841.67,498.461 1857.76,498.731 1873.86,499.001 \n",
       "  1889.96,499.27 1906.06,499.54 1922.15,499.81 1938.25,499.971 1954.35,500.092 1970.45,500.212 1986.54,500.333 2002.64,500.454 2018.74,500.575 2034.83,500.695 \n",
       "  2050.93,500.816 2067.03,500.937 2083.13,501.058 2099.22,501.178 2115.32,501.299 2131.42,501.42 2147.52,501.541 2163.61,501.661 2179.71,501.782 2195.81,501.903 \n",
       "  2211.9,502.024 2228,502.144 2244.1,502.265 2260.2,502.386 2276.29,502.506 2292.39,502.627 \n",
       "  \"/>\n",
       "</svg>\n"
      ]
     },
     "execution_count": 63,
     "metadata": {},
     "output_type": "execute_result"
    }
   ],
   "source": [
    "plot(x * 1e3, Eline * 1e-5, color = :black, legend = :false, xlabel = L\"r\\,\\mathrm{[mm]}\", ylabel = L\"|E|\\,\\mathrm{[kV/cm]}\", ylims = (0.4, 1.3), yticks = 0.4:0.1:1.3)"
   ]
  },
  {
   "cell_type": "markdown",
   "id": "robust-validity",
   "metadata": {},
   "source": [
    "# Export to VTK"
   ]
  },
  {
   "cell_type": "code",
   "execution_count": 14,
   "id": "armed-memorial",
   "metadata": {},
   "outputs": [
    {
     "data": {
      "text/plain": [
       "([\"fieldenh_sphere.vtu\"],)"
      ]
     },
     "execution_count": 14,
     "metadata": {},
     "output_type": "execute_result"
    }
   ],
   "source": [
    "writevtk(Ω,\"fieldenh_sphere\", cellfields=[\"uh\" => uh, \"E\" => E])"
   ]
  },
  {
   "cell_type": "markdown",
   "id": "bibliographic-competition",
   "metadata": {},
   "source": [
    "![ParaView](figures/fieldenh_sphere.png)"
   ]
  }
 ],
 "metadata": {
  "kernelspec": {
   "display_name": "Julia 1.7.1",
   "language": "julia",
   "name": "julia-1.7"
  },
  "language_info": {
   "file_extension": ".jl",
   "mimetype": "application/julia",
   "name": "julia",
   "version": "1.7.1"
  }
 },
 "nbformat": 4,
 "nbformat_minor": 5
}
