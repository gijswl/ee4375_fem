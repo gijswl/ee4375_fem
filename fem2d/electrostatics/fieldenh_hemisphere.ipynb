{
 "cells": [
  {
   "cell_type": "markdown",
   "id": "bearing-serial",
   "metadata": {},
   "source": [
    "# Field Enhancement at Hemi-sphere\n",
    "Axisymmetric electrostatics on a parallel-plate structure with a hemispherical protrusion. This causes a field enhancement $f = 3$ at the top of the protrusion, and is used to model e.g. bolts in high-voltage technology.\n",
    "\n",
    "## Configuration\n",
    "The configuration consists of a parallel-plate structure with width $W$ and height $H$, with a hemispherical protrusion of radius $r$ at the bottom electrode. This is modelled by making the configuration axisymmetric through the center of the protrusion. A voltage of $U_0$ is applied between the electrodes to produce a background field $E_0 = \\frac{U_0}{H}$.\n",
    "![Configuration hemisphere](figures/setup_hemisphere.svg)\n",
    "\n",
    "## Theory\n",
    "Electrostatics without space charges is modeled using the Laplace equation. \n",
    "$$ \\nabla^2 V = 0 $$\n",
    "To be able to solve this with the existing Gridap code (which works exclusively in cartesian coordinates as far as I have found), we need to rewrite this equation a bit. In cylindrical coordinates ($r,z$), the weak form becomes\n",
    "$$ \\int_\\Omega \\nabla u \\cdot \\nabla v r dr dz = 0  $$\n",
    "Letting $d\\Omega = dr dz$ in analogy to $dx dy$, we have an extra factor $r$ in the weak form.\n",
    "$$ \\int_\\Omega \\nabla u \\cdot \\nabla v r d\\Omega = 0  $$\n",
    "This form can be solved by Gridap."
   ]
  },
  {
   "cell_type": "code",
   "execution_count": 1,
   "id": "limiting-makeup",
   "metadata": {},
   "outputs": [],
   "source": [
    "using LinearAlgebra\n",
    "\n",
    "using Plots\n",
    "using LaTeXStrings\n",
    "\n",
    "using gmsh\n",
    "\n",
    "using Gridap\n",
    "using GridapGmsh"
   ]
  },
  {
   "cell_type": "markdown",
   "id": "ahead-debate",
   "metadata": {},
   "source": [
    "# Create Geometry"
   ]
  },
  {
   "cell_type": "code",
   "execution_count": 2,
   "id": "first-implement",
   "metadata": {},
   "outputs": [],
   "source": [
    "W = 0.15;    # Width of the simulation domain [m]\n",
    "H = 1;       # Height of the simulation domain [m]\n",
    "r = 1e-2;    # Radius of cylinder [m]\n",
    "\n",
    "E0 = 1e5;    # Background field [V/m]\n",
    "U0 = E0 * H; # Required voltage to create background field [V]"
   ]
  },
  {
   "cell_type": "code",
   "execution_count": 3,
   "id": "chubby-wings",
   "metadata": {},
   "outputs": [
    {
     "name": "stdout",
     "output_type": "stream",
     "text": [
      "Info    : Meshing 1D...\n",
      "Info    : [  0%] Meshing curve 1 (Line)\n",
      "Info    : [ 20%] Meshing curve 2 (Line)\n",
      "Info    : [ 30%] Meshing curve 3 (Line)\n",
      "Info    : [ 50%] Meshing curve 4 (Line)\n",
      "Info    : [ 60%] Meshing curve 5 (Line)\n",
      "Info    : [ 80%] Meshing curve 6 (Line)\n",
      "Info    : [ 90%] Meshing curve 7 (Circle)\n",
      "Info    : Done meshing 1D (Wall 0.017976s, CPU 0.015625s)\n",
      "Info    : Meshing 2D...\n",
      "Info    : [  0%] Meshing surface 1 (Plane, Frontal-Delaunay)\n",
      "Info    : [ 50%] Meshing surface 2 (Plane, Frontal-Delaunay)\n",
      "Info    : Done meshing 2D (Wall 0.251034s, CPU 0.25s)\n",
      "Info    : 6192 nodes 12467 elements\n",
      "Info    : Writing 'fieldenh_hemisphere.msh'...\n",
      "Info    : Done writing 'fieldenh_hemisphere.msh'\n"
     ]
    },
    {
     "name": "stderr",
     "output_type": "stream",
     "text": [
      "Warning : Unknown entity of dimension 2 and tag 1 in physical group 1\n",
      "Warning : Unknown entity of dimension 2 and tag 2 in physical group 2\n",
      "Warning : Unknown entity of dimension 1 and tag 1 in physical group 1\n",
      "Warning : Unknown entity of dimension 1 and tag 2 in physical group 1\n",
      "Warning : Unknown entity of dimension 1 and tag 7 in physical group 1\n",
      "Warning : Unknown entity of dimension 0 and tag 1 in physical group 1\n",
      "Warning : Unknown entity of dimension 0 and tag 2 in physical group 1\n",
      "Warning : Unknown entity of dimension 0 and tag 3 in physical group 1\n",
      "Warning : Unknown entity of dimension 0 and tag 6 in physical group 1\n",
      "Warning : Unknown entity of dimension 1 and tag 4 in physical group 2\n",
      "Warning : Unknown entity of dimension 0 and tag 4 in physical group 2\n",
      "Warning : Unknown entity of dimension 0 and tag 5 in physical group 2\n",
      "Warning : Unknown entity of dimension 1 and tag 3 in physical group 3\n",
      "Warning : Unknown entity of dimension 1 and tag 5 in physical group 3\n",
      "Warning : Unknown entity of dimension 1 and tag 6 in physical group 3\n"
     ]
    }
   ],
   "source": [
    "gmsh.finalize()\n",
    "gmsh.initialize()\n",
    "gmsh.option.setNumber(\"General.Terminal\", 1)\n",
    "gmsh.model.add(\"fieldenh_hemisphere\")\n",
    "\n",
    "c1 = W / 10;\n",
    "c2 = r / 100;\n",
    "c3 = r / 10;\n",
    "\n",
    "# Points\n",
    "gmsh.model.geo.addPoint(0, 0, 0, c3, 1)\n",
    "gmsh.model.geo.addPoint(r/2, 0, 0, c2, 2)\n",
    "gmsh.model.geo.addPoint(W, 0, 0, c1, 3)\n",
    "gmsh.model.geo.addPoint(W, H, 0, c1, 4)\n",
    "gmsh.model.geo.addPoint(0, H, 0, c1, 5)\n",
    "gmsh.model.geo.addPoint(0, r/2, 0, c2, 6)\n",
    "\n",
    "# Lines\n",
    "gmsh.model.geo.addLine(1, 2, 1)\n",
    "gmsh.model.geo.addLine(2, 3, 2)\n",
    "gmsh.model.geo.addLine(3, 4, 3)\n",
    "gmsh.model.geo.addLine(4, 5, 4)\n",
    "gmsh.model.geo.addLine(5, 6, 5)\n",
    "gmsh.model.geo.addLine(6, 1, 6)\n",
    "\n",
    "gmsh.model.geo.addCircleArc(6, 1, 2, 7)\n",
    "\n",
    "# Surfaces\n",
    "gmsh.model.geo.addCurveLoop([2, 3, 4, 5, 7], 1)\n",
    "gmsh.model.geo.addCurveLoop([1, -7, 6], 2)\n",
    "\n",
    "gmsh.model.geo.addPlaneSurface([1], 1)\n",
    "gmsh.model.geo.addPlaneSurface([2], 2)\n",
    "\n",
    "# Physics\n",
    "gmsh.model.addPhysicalGroup(2, [1], 1)\n",
    "gmsh.model.addPhysicalGroup(2, [2], 2)\n",
    "\n",
    "gmsh.model.addPhysicalGroup(1, [1, 2, 7], 1)\n",
    "gmsh.model.setPhysicalName(1, 1, \"D1\")\n",
    "gmsh.model.addPhysicalGroup(0, [1, 2, 3, 6], 1)\n",
    "gmsh.model.setPhysicalName(0, 1, \"D1p\")\n",
    "\n",
    "gmsh.model.addPhysicalGroup(1, [4], 2)\n",
    "gmsh.model.setPhysicalName(1, 2, \"D2\")\n",
    "gmsh.model.addPhysicalGroup(0, [4, 5], 2)\n",
    "gmsh.model.setPhysicalName(0, 2, \"D2p\")\n",
    "\n",
    "gmsh.model.addPhysicalGroup(1, [3, 5, 6], 3)\n",
    "gmsh.model.setPhysicalName(1, 3, \"N1\")\n",
    "\n",
    "# Generate mesh and save\n",
    "gmsh.model.geo.synchronize()\n",
    "gmsh.model.mesh.generate(2)\n",
    "\n",
    "gmsh.write(\"fieldenh_hemisphere.msh\")"
   ]
  },
  {
   "cell_type": "code",
   "execution_count": 4,
   "id": "partial-austria",
   "metadata": {},
   "outputs": [
    {
     "name": "stdout",
     "output_type": "stream",
     "text": [
      "-------------------------------------------------------\n",
      "Version       : 4.9.4\n",
      "License       : GNU General Public License\n",
      "Build OS      : Windows64-sdk\n",
      "Build date    : 20220203\n",
      "Build host    : gmsh.info\n",
      "Build options : 64Bit ALGLIB[contrib] ANN[contrib] Bamg Blas[petsc] Blossom Cgns DIntegration DomHex Eigen[contrib] Fltk Gmm[contrib] Hxt Jpeg Kbipack Lapack[petsc] MathEx[contrib] Med Mesh Metis[contrib] Mmg Mpeg Netgen NoSocklenT ONELAB ONELABMetamodel OpenCASCADE OpenCASCADE-CAF OpenGL OpenMP OptHom PETSc Parser Plugins Png Post QuadMeshingTools QuadTri Solver TetGen/BR Voro++[contrib] WinslowUntangler Zlib\n",
      "FLTK version  : 1.4.0\n",
      "PETSc version : 3.15.0 (real arithmtic)\n",
      "OCC version   : 7.6.0\n",
      "MED version   : 4.1.0\n",
      "Packaged by   : nt authority system\n",
      "Web site      : https://gmsh.info\n",
      "Issue tracker : https://gitlab.onelab.info/gmsh/gmsh/issues\n",
      "-------------------------------------------------------\n"
     ]
    }
   ],
   "source": [
    "gmsh.fltk.run()"
   ]
  },
  {
   "cell_type": "markdown",
   "id": "raised-pickup",
   "metadata": {},
   "source": [
    "# Gridap"
   ]
  },
  {
   "cell_type": "code",
   "execution_count": 4,
   "id": "characteristic-surgeon",
   "metadata": {},
   "outputs": [
    {
     "name": "stdout",
     "output_type": "stream",
     "text": [
      "Info    : Reading 'fieldenh_hemisphere.msh'...\n",
      "Info    : 15 entities\n",
      "Info    : 6192 nodes\n",
      "Info    : 12467 elements\n",
      "Info    : Done reading 'fieldenh_hemisphere.msh'\n"
     ]
    }
   ],
   "source": [
    "# Load geometry from gmsh\n",
    "model = GmshDiscreteModel(\"fieldenh_hemisphere.msh\")\n",
    "\n",
    "# Create a reference finite element space to use for the construction of test space V0\n",
    "#  The FE space is Lagrangian and of order 1\n",
    "order = 2\n",
    "reffe = ReferenceFE(lagrangian, Float64, order);\n",
    "# The test space is created from the reference FE with\n",
    "#  conformity = H1: shape functions are continuous\n",
    "#  D1 and D2 being the boundary points with Dirichlet condition applied\n",
    "V0 = TestFESpace(model, reffe; conformity = :H1, dirichlet_tags = [\"D1\", \"D1p\", \"D2\", \"D2p\"]);\n",
    "\n",
    "# Trial space is constructed from the test space\n",
    "#  the [0, 1] indicates the values of the Dirichlet condition at D1 and D2\n",
    "Ug = TrialFESpace(V0, [0, 0, U0, U0]);\n",
    "\n",
    "# Triangulation of the domain\n",
    "#  degree must be at least 2 times the order of the reference space\n",
    "degree = 2 * order;\n",
    "Ω = Triangulation(model);\n",
    "dΩ = Measure(Ω, degree);"
   ]
  },
  {
   "cell_type": "code",
   "execution_count": 5,
   "id": "broadband-government",
   "metadata": {
    "scrolled": false
   },
   "outputs": [],
   "source": [
    "# Construct weak form (in cylindrical coordinates)\n",
    "fun(x) = x[1];\n",
    "lhs(u,v) = ∫( ∇(u) ⋅ ∇(v) * fun )dΩ\n",
    "rhs(v)   = 0;\n",
    "\n",
    "# Construct FE operator with LHS, RHS, and test and trial spaces\n",
    "op = AffineFEOperator(lhs, rhs, Ug, V0);\n",
    "\n",
    "# Solve the linear FE system with LU solver\n",
    "ls = LUSolver()\n",
    "solver = LinearFESolver(ls)\n",
    "\n",
    "uh = solve(solver, op);\n",
    "E = ∇(uh);"
   ]
  },
  {
   "cell_type": "markdown",
   "id": "killing-ladder",
   "metadata": {},
   "source": [
    "# Plot Field"
   ]
  },
  {
   "cell_type": "markdown",
   "id": "dominant-xerox",
   "metadata": {},
   "source": [
    "## Along $y$ axis"
   ]
  },
  {
   "cell_type": "code",
   "execution_count": 6,
   "id": "municipal-pulse",
   "metadata": {},
   "outputs": [],
   "source": [
    "y = Vector(0:1e-4:5e-2)\n",
    "coord = [Point(0, y[i]) for i in 1:length(y)];\n",
    "uline = uh(coord);\n",
    "Eline = E(coord);\n",
    "Eline = [sqrt(E[1]^2 + E[2]^2)  for E in Eline];"
   ]
  },
  {
   "cell_type": "code",
   "execution_count": 7,
   "id": "filled-vulnerability",
   "metadata": {},
   "outputs": [
    {
     "data": {
      "image/svg+xml": [
       "<?xml version=\"1.0\" encoding=\"utf-8\"?>\n",
       "<svg xmlns=\"http://www.w3.org/2000/svg\" xmlns:xlink=\"http://www.w3.org/1999/xlink\" width=\"600\" height=\"400\" viewBox=\"0 0 2400 1600\">\n",
       "<defs>\n",
       "  <clipPath id=\"clip510\">\n",
       "    <rect x=\"0\" y=\"0\" width=\"2400\" height=\"1600\"/>\n",
       "  </clipPath>\n",
       "</defs>\n",
       "<path clip-path=\"url(#clip510)\" d=\"\n",
       "M0 1600 L2400 1600 L2400 0 L0 0  Z\n",
       "  \" fill=\"#ffffff\" fill-rule=\"evenodd\" fill-opacity=\"1\"/>\n",
       "<defs>\n",
       "  <clipPath id=\"clip511\">\n",
       "    <rect x=\"480\" y=\"0\" width=\"1681\" height=\"1600\"/>\n",
       "  </clipPath>\n",
       "</defs>\n",
       "<path clip-path=\"url(#clip510)\" d=\"\n",
       "M174.149 1423.18 L2352.76 1423.18 L2352.76 47.2441 L174.149 47.2441  Z\n",
       "  \" fill=\"#ffffff\" fill-rule=\"evenodd\" fill-opacity=\"1\"/>\n",
       "<defs>\n",
       "  <clipPath id=\"clip512\">\n",
       "    <rect x=\"174\" y=\"47\" width=\"2180\" height=\"1377\"/>\n",
       "  </clipPath>\n",
       "</defs>\n",
       "<polyline clip-path=\"url(#clip512)\" style=\"stroke:#000000; stroke-linecap:butt; stroke-linejoin:round; stroke-width:2; stroke-opacity:0.1; fill:none\" points=\"\n",
       "  235.808,1423.18 235.808,47.2441 \n",
       "  \"/>\n",
       "<polyline clip-path=\"url(#clip512)\" style=\"stroke:#000000; stroke-linecap:butt; stroke-linejoin:round; stroke-width:2; stroke-opacity:0.1; fill:none\" points=\"\n",
       "  646.866,1423.18 646.866,47.2441 \n",
       "  \"/>\n",
       "<polyline clip-path=\"url(#clip512)\" style=\"stroke:#000000; stroke-linecap:butt; stroke-linejoin:round; stroke-width:2; stroke-opacity:0.1; fill:none\" points=\"\n",
       "  1057.92,1423.18 1057.92,47.2441 \n",
       "  \"/>\n",
       "<polyline clip-path=\"url(#clip512)\" style=\"stroke:#000000; stroke-linecap:butt; stroke-linejoin:round; stroke-width:2; stroke-opacity:0.1; fill:none\" points=\"\n",
       "  1468.98,1423.18 1468.98,47.2441 \n",
       "  \"/>\n",
       "<polyline clip-path=\"url(#clip512)\" style=\"stroke:#000000; stroke-linecap:butt; stroke-linejoin:round; stroke-width:2; stroke-opacity:0.1; fill:none\" points=\"\n",
       "  1880.04,1423.18 1880.04,47.2441 \n",
       "  \"/>\n",
       "<polyline clip-path=\"url(#clip512)\" style=\"stroke:#000000; stroke-linecap:butt; stroke-linejoin:round; stroke-width:2; stroke-opacity:0.1; fill:none\" points=\"\n",
       "  2291.1,1423.18 2291.1,47.2441 \n",
       "  \"/>\n",
       "<polyline clip-path=\"url(#clip510)\" style=\"stroke:#000000; stroke-linecap:butt; stroke-linejoin:round; stroke-width:4; stroke-opacity:1; fill:none\" points=\"\n",
       "  174.149,1423.18 2352.76,1423.18 \n",
       "  \"/>\n",
       "<polyline clip-path=\"url(#clip510)\" style=\"stroke:#000000; stroke-linecap:butt; stroke-linejoin:round; stroke-width:4; stroke-opacity:1; fill:none\" points=\"\n",
       "  235.808,1423.18 235.808,1404.28 \n",
       "  \"/>\n",
       "<polyline clip-path=\"url(#clip510)\" style=\"stroke:#000000; stroke-linecap:butt; stroke-linejoin:round; stroke-width:4; stroke-opacity:1; fill:none\" points=\"\n",
       "  646.866,1423.18 646.866,1404.28 \n",
       "  \"/>\n",
       "<polyline clip-path=\"url(#clip510)\" style=\"stroke:#000000; stroke-linecap:butt; stroke-linejoin:round; stroke-width:4; stroke-opacity:1; fill:none\" points=\"\n",
       "  1057.92,1423.18 1057.92,1404.28 \n",
       "  \"/>\n",
       "<polyline clip-path=\"url(#clip510)\" style=\"stroke:#000000; stroke-linecap:butt; stroke-linejoin:round; stroke-width:4; stroke-opacity:1; fill:none\" points=\"\n",
       "  1468.98,1423.18 1468.98,1404.28 \n",
       "  \"/>\n",
       "<polyline clip-path=\"url(#clip510)\" style=\"stroke:#000000; stroke-linecap:butt; stroke-linejoin:round; stroke-width:4; stroke-opacity:1; fill:none\" points=\"\n",
       "  1880.04,1423.18 1880.04,1404.28 \n",
       "  \"/>\n",
       "<polyline clip-path=\"url(#clip510)\" style=\"stroke:#000000; stroke-linecap:butt; stroke-linejoin:round; stroke-width:4; stroke-opacity:1; fill:none\" points=\"\n",
       "  2291.1,1423.18 2291.1,1404.28 \n",
       "  \"/>\n",
       "<path clip-path=\"url(#clip510)\" d=\"M235.808 1454.1 Q232.197 1454.1 230.368 1457.66 Q228.562 1461.2 228.562 1468.33 Q228.562 1475.44 230.368 1479.01 Q232.197 1482.55 235.808 1482.55 Q239.442 1482.55 241.247 1479.01 Q243.076 1475.44 243.076 1468.33 Q243.076 1461.2 241.247 1457.66 Q239.442 1454.1 235.808 1454.1 M235.808 1450.39 Q241.618 1450.39 244.673 1455 Q247.752 1459.58 247.752 1468.33 Q247.752 1477.06 244.673 1481.67 Q241.618 1486.25 235.808 1486.25 Q229.997 1486.25 226.919 1481.67 Q223.863 1477.06 223.863 1468.33 Q223.863 1459.58 226.919 1455 Q229.997 1450.39 235.808 1450.39 Z\" fill=\"#000000\" fill-rule=\"evenodd\" fill-opacity=\"1\" /><path clip-path=\"url(#clip510)\" d=\"M637.248 1481.64 L644.886 1481.64 L644.886 1455.28 L636.576 1456.95 L636.576 1452.69 L644.84 1451.02 L649.516 1451.02 L649.516 1481.64 L657.155 1481.64 L657.155 1485.58 L637.248 1485.58 L637.248 1481.64 Z\" fill=\"#000000\" fill-rule=\"evenodd\" fill-opacity=\"1\" /><path clip-path=\"url(#clip510)\" d=\"M1052.58 1481.64 L1068.9 1481.64 L1068.9 1485.58 L1046.95 1485.58 L1046.95 1481.64 Q1049.61 1478.89 1054.2 1474.26 Q1058.8 1469.61 1059.98 1468.27 Q1062.23 1465.74 1063.11 1464.01 Q1064.01 1462.25 1064.01 1460.56 Q1064.01 1457.8 1062.07 1456.07 Q1060.15 1454.33 1057.04 1454.33 Q1054.84 1454.33 1052.39 1455.09 Q1049.96 1455.86 1047.18 1457.41 L1047.18 1452.69 Q1050.01 1451.55 1052.46 1450.97 Q1054.91 1450.39 1056.95 1450.39 Q1062.32 1450.39 1065.52 1453.08 Q1068.71 1455.77 1068.71 1460.26 Q1068.71 1462.39 1067.9 1464.31 Q1067.11 1466.2 1065.01 1468.8 Q1064.43 1469.47 1061.33 1472.69 Q1058.22 1475.88 1052.58 1481.64 Z\" fill=\"#000000\" fill-rule=\"evenodd\" fill-opacity=\"1\" /><path clip-path=\"url(#clip510)\" d=\"M1473.23 1466.95 Q1476.59 1467.66 1478.46 1469.93 Q1480.36 1472.2 1480.36 1475.53 Q1480.36 1480.65 1476.84 1483.45 Q1473.32 1486.25 1466.84 1486.25 Q1464.66 1486.25 1462.35 1485.81 Q1460.06 1485.39 1457.6 1484.54 L1457.6 1480.02 Q1459.55 1481.16 1461.86 1481.74 Q1464.18 1482.32 1466.7 1482.32 Q1471.1 1482.32 1473.39 1480.58 Q1475.71 1478.84 1475.71 1475.53 Q1475.71 1472.48 1473.55 1470.77 Q1471.42 1469.03 1467.6 1469.03 L1463.58 1469.03 L1463.58 1465.19 L1467.79 1465.19 Q1471.24 1465.19 1473.07 1463.82 Q1474.9 1462.43 1474.9 1459.84 Q1474.9 1457.18 1473 1455.77 Q1471.12 1454.33 1467.6 1454.33 Q1465.68 1454.33 1463.48 1454.75 Q1461.28 1455.16 1458.65 1456.04 L1458.65 1451.88 Q1461.31 1451.14 1463.62 1450.77 Q1465.96 1450.39 1468.02 1450.39 Q1473.34 1450.39 1476.45 1452.83 Q1479.55 1455.23 1479.55 1459.35 Q1479.55 1462.22 1477.9 1464.21 Q1476.26 1466.18 1473.23 1466.95 Z\" fill=\"#000000\" fill-rule=\"evenodd\" fill-opacity=\"1\" /><path clip-path=\"url(#clip510)\" d=\"M1883.05 1455.09 L1871.24 1473.54 L1883.05 1473.54 L1883.05 1455.09 M1881.82 1451.02 L1887.7 1451.02 L1887.7 1473.54 L1892.63 1473.54 L1892.63 1477.43 L1887.7 1477.43 L1887.7 1485.58 L1883.05 1485.58 L1883.05 1477.43 L1867.45 1477.43 L1867.45 1472.92 L1881.82 1451.02 Z\" fill=\"#000000\" fill-rule=\"evenodd\" fill-opacity=\"1\" /><path clip-path=\"url(#clip510)\" d=\"M2281.38 1451.02 L2299.73 1451.02 L2299.73 1454.96 L2285.66 1454.96 L2285.66 1463.43 Q2286.68 1463.08 2287.69 1462.92 Q2288.71 1462.73 2289.73 1462.73 Q2295.52 1462.73 2298.9 1465.9 Q2302.28 1469.08 2302.28 1474.49 Q2302.28 1480.07 2298.81 1483.17 Q2295.33 1486.25 2289.01 1486.25 Q2286.84 1486.25 2284.57 1485.88 Q2282.32 1485.51 2279.92 1484.77 L2279.92 1480.07 Q2282 1481.2 2284.22 1481.76 Q2286.44 1482.32 2288.92 1482.32 Q2292.93 1482.32 2295.26 1480.21 Q2297.6 1478.1 2297.6 1474.49 Q2297.6 1470.88 2295.26 1468.77 Q2292.93 1466.67 2288.92 1466.67 Q2287.05 1466.67 2285.17 1467.08 Q2283.32 1467.5 2281.38 1468.38 L2281.38 1451.02 Z\" fill=\"#000000\" fill-rule=\"evenodd\" fill-opacity=\"1\" /><path clip-path=\"url(#clip510)\" d=\"M1217.52 1545.87 Q1217.52 1546.32 1217.23 1547.38 L1210.92 1572.56 Q1209.53 1578.17 1205.02 1582.1 Q1200.55 1586.03 1195.46 1586.03 Q1192.4 1586.03 1190.43 1584.38 Q1188.47 1582.77 1188.47 1580.29 Q1188.47 1578.1 1189.63 1577.04 Q1190.79 1576.01 1192.17 1576.01 Q1192.62 1576.01 1193.11 1576.14 Q1193.59 1576.27 1194.1 1576.82 Q1194.62 1577.36 1194.62 1578.3 Q1194.62 1579.81 1193.3 1581 Q1192.66 1581.55 1192.04 1581.68 Q1191.46 1581.81 1190.47 1581.81 Q1190.85 1582.71 1191.56 1583.32 Q1192.27 1583.93 1193.07 1584.16 Q1193.88 1584.42 1194.39 1584.48 Q1194.94 1584.58 1195.46 1584.58 Q1199.58 1584.58 1202.74 1580.42 Q1203.67 1579.17 1204.35 1577.91 Q1205.05 1576.69 1205.57 1575.17 Q1206.09 1573.69 1206.31 1572.89 Q1206.57 1572.08 1207.02 1570.25 Q1204.02 1573.24 1200.35 1573.24 Q1198.81 1573.24 1197.42 1572.82 Q1196.07 1572.4 1194.88 1571.53 Q1193.69 1570.63 1192.98 1569.05 Q1192.3 1567.48 1192.3 1565.38 Q1192.3 1563.16 1193.17 1560.13 Q1194.04 1557.11 1196.13 1551.53 Q1197.26 1548.41 1197.26 1546.9 Q1197.26 1546.16 1197.1 1545.7 Q1196.94 1545.22 1196.62 1545.06 Q1196.29 1544.87 1196.1 1544.83 Q1195.94 1544.8 1195.62 1544.8 Q1193.72 1544.8 1191.95 1546.74 Q1190.18 1548.67 1188.95 1552.98 Q1188.69 1553.79 1188.53 1553.98 Q1188.37 1554.17 1187.89 1554.17 Q1187.08 1554.14 1187.08 1553.5 Q1187.08 1553.24 1187.37 1552.24 Q1187.66 1551.21 1188.34 1549.7 Q1189.05 1548.15 1190.01 1546.77 Q1190.98 1545.35 1192.49 1544.35 Q1194.04 1543.35 1195.81 1543.35 Q1198.23 1543.35 1199.71 1544.93 Q1201.22 1546.48 1201.22 1548.76 Q1201.22 1549.7 1200.96 1550.54 Q1200.74 1551.34 1199.9 1553.5 Q1196.52 1562.19 1196.52 1566.45 Q1196.52 1567.48 1196.68 1568.35 Q1196.87 1569.18 1197.29 1570.02 Q1197.71 1570.83 1198.55 1571.31 Q1199.42 1571.76 1200.61 1571.76 Q1202.12 1571.76 1203.54 1571.05 Q1204.99 1570.31 1205.89 1569.31 Q1206.83 1568.31 1207.37 1567.48 Q1207.95 1566.61 1208.08 1566.16 L1211.05 1554.3 L1212.37 1549.02 Q1212.98 1546.16 1213.27 1545.45 Q1213.65 1544.77 1214.33 1544.42 Q1215.01 1544.06 1215.59 1544.06 Q1216.39 1544.06 1216.94 1544.55 Q1217.52 1545.03 1217.52 1545.87 Z\" fill=\"#000000\" fill-rule=\"evenodd\" fill-opacity=\"1\" /><path clip-path=\"url(#clip510)\" d=\"M1227.79 1588.99 L1227.79 1523.03 L1237.75 1523.03 L1237.75 1524.55 L1232.21 1524.55 L1232.21 1587.48 L1237.75 1587.48 L1237.75 1588.99 L1227.79 1588.99 Z\" fill=\"#000000\" fill-rule=\"evenodd\" fill-opacity=\"1\" /><path clip-path=\"url(#clip510)\" d=\"M1244.59 1568.89 Q1240.4 1564.51 1240.4 1558.26 Q1240.4 1551.98 1244.52 1547.48 Q1248.64 1542.93 1254.7 1542.93 Q1258.73 1542.93 1261.75 1544.87 Q1264.78 1546.77 1264.78 1550.02 Q1264.78 1551.47 1263.91 1552.31 Q1263.07 1553.11 1261.75 1553.11 Q1260.37 1553.11 1259.53 1552.27 Q1258.73 1551.4 1258.73 1550.08 Q1258.73 1549.5 1258.92 1548.93 Q1259.11 1548.35 1259.82 1547.73 Q1260.56 1547.12 1261.82 1547.02 Q1259.47 1544.61 1254.89 1544.61 Q1254.83 1544.61 1254.76 1544.61 Q1251.41 1544.61 1248.64 1547.77 Q1245.88 1550.92 1245.88 1558.14 Q1245.88 1561.9 1246.78 1564.67 Q1247.71 1567.41 1249.22 1568.83 Q1250.74 1570.25 1252.22 1570.92 Q1253.7 1571.57 1255.15 1571.57 Q1261.62 1571.57 1263.81 1564.64 Q1264.01 1564 1264.65 1564 Q1265.52 1564 1265.52 1564.64 Q1265.52 1564.96 1265.26 1565.8 Q1265.01 1566.64 1264.2 1567.96 Q1263.4 1569.28 1262.24 1570.44 Q1261.11 1571.57 1259.08 1572.4 Q1257.08 1573.24 1254.57 1573.24 Q1248.77 1573.24 1244.59 1568.89 Z\" fill=\"#000000\" fill-rule=\"evenodd\" fill-opacity=\"1\" /><path clip-path=\"url(#clip510)\" d=\"M1267.55 1572.5 L1267.55 1570.47 Q1271.06 1570.47 1271.86 1570.05 Q1272.67 1569.6 1272.67 1567.48 L1272.67 1549.79 Q1272.67 1547.35 1271.8 1546.74 Q1270.96 1546.12 1267.55 1546.12 L1267.55 1544.06 L1276.82 1543.35 L1276.82 1550.28 Q1279.91 1543.35 1286.58 1543.35 Q1294.31 1543.35 1295.37 1549.79 Q1296.5 1547.28 1298.85 1545.32 Q1301.24 1543.35 1304.94 1543.35 Q1309.9 1543.35 1311.86 1545.8 Q1313.31 1547.44 1313.6 1549.28 Q1313.89 1551.12 1313.89 1555.88 L1313.89 1568.47 Q1313.96 1569.86 1315.02 1570.18 Q1316.08 1570.47 1319.04 1570.47 L1319.04 1572.5 Q1312.31 1572.31 1311.67 1572.31 Q1311.15 1572.31 1304.2 1572.5 L1304.2 1570.47 Q1307.71 1570.47 1308.51 1570.05 Q1309.35 1569.6 1309.35 1567.48 L1309.35 1552.11 Q1309.35 1548.76 1308.32 1546.8 Q1307.29 1544.8 1304.46 1544.8 Q1301.04 1544.8 1298.3 1547.67 Q1295.57 1550.54 1295.57 1555.37 L1295.57 1567.48 Q1295.57 1569.6 1296.37 1570.05 Q1297.21 1570.47 1300.72 1570.47 L1300.72 1572.5 Q1293.99 1572.31 1293.31 1572.31 Q1292.8 1572.31 1285.87 1572.5 L1285.87 1570.47 Q1289.38 1570.47 1290.19 1570.05 Q1291.03 1569.6 1291.03 1567.48 L1291.03 1552.11 Q1291.03 1548.76 1290 1546.8 Q1288.96 1544.8 1286.13 1544.8 Q1282.72 1544.8 1279.98 1547.67 Q1277.24 1550.54 1277.24 1555.37 L1277.24 1567.48 Q1277.24 1569.6 1278.05 1570.05 Q1278.88 1570.47 1282.36 1570.47 L1282.36 1572.5 Q1275.63 1572.31 1274.99 1572.31 Q1274.47 1572.31 1267.55 1572.5 Z\" fill=\"#000000\" fill-rule=\"evenodd\" fill-opacity=\"1\" /><path clip-path=\"url(#clip510)\" d=\"M1321.67 1587.48 L1327.21 1587.48 L1327.21 1524.55 L1321.67 1524.55 L1321.67 1523.03 L1331.62 1523.03 L1331.62 1588.99 L1321.67 1588.99 L1321.67 1587.48 Z\" fill=\"#000000\" fill-rule=\"evenodd\" fill-opacity=\"1\" /><polyline clip-path=\"url(#clip512)\" style=\"stroke:#000000; stroke-linecap:butt; stroke-linejoin:round; stroke-width:2; stroke-opacity:0.1; fill:none\" points=\"\n",
       "  174.149,1384.24 2352.76,1384.24 \n",
       "  \"/>\n",
       "<polyline clip-path=\"url(#clip512)\" style=\"stroke:#000000; stroke-linecap:butt; stroke-linejoin:round; stroke-width:2; stroke-opacity:0.1; fill:none\" points=\"\n",
       "  174.149,952.899 2352.76,952.899 \n",
       "  \"/>\n",
       "<polyline clip-path=\"url(#clip512)\" style=\"stroke:#000000; stroke-linecap:butt; stroke-linejoin:round; stroke-width:2; stroke-opacity:0.1; fill:none\" points=\"\n",
       "  174.149,521.56 2352.76,521.56 \n",
       "  \"/>\n",
       "<polyline clip-path=\"url(#clip512)\" style=\"stroke:#000000; stroke-linecap:butt; stroke-linejoin:round; stroke-width:2; stroke-opacity:0.1; fill:none\" points=\"\n",
       "  174.149,90.2213 2352.76,90.2213 \n",
       "  \"/>\n",
       "<polyline clip-path=\"url(#clip510)\" style=\"stroke:#000000; stroke-linecap:butt; stroke-linejoin:round; stroke-width:4; stroke-opacity:1; fill:none\" points=\"\n",
       "  174.149,1423.18 174.149,47.2441 \n",
       "  \"/>\n",
       "<polyline clip-path=\"url(#clip510)\" style=\"stroke:#000000; stroke-linecap:butt; stroke-linejoin:round; stroke-width:4; stroke-opacity:1; fill:none\" points=\"\n",
       "  174.149,1384.24 193.047,1384.24 \n",
       "  \"/>\n",
       "<polyline clip-path=\"url(#clip510)\" style=\"stroke:#000000; stroke-linecap:butt; stroke-linejoin:round; stroke-width:4; stroke-opacity:1; fill:none\" points=\"\n",
       "  174.149,952.899 193.047,952.899 \n",
       "  \"/>\n",
       "<polyline clip-path=\"url(#clip510)\" style=\"stroke:#000000; stroke-linecap:butt; stroke-linejoin:round; stroke-width:4; stroke-opacity:1; fill:none\" points=\"\n",
       "  174.149,521.56 193.047,521.56 \n",
       "  \"/>\n",
       "<polyline clip-path=\"url(#clip510)\" style=\"stroke:#000000; stroke-linecap:butt; stroke-linejoin:round; stroke-width:4; stroke-opacity:1; fill:none\" points=\"\n",
       "  174.149,90.2213 193.047,90.2213 \n",
       "  \"/>\n",
       "<path clip-path=\"url(#clip510)\" d=\"M126.205 1370.04 Q122.593 1370.04 120.765 1373.6 Q118.959 1377.14 118.959 1384.27 Q118.959 1391.38 120.765 1394.94 Q122.593 1398.49 126.205 1398.49 Q129.839 1398.49 131.644 1394.94 Q133.473 1391.38 133.473 1384.27 Q133.473 1377.14 131.644 1373.6 Q129.839 1370.04 126.205 1370.04 M126.205 1366.33 Q132.015 1366.33 135.07 1370.94 Q138.149 1375.52 138.149 1384.27 Q138.149 1393 135.07 1397.61 Q132.015 1402.19 126.205 1402.19 Q120.394 1402.19 117.316 1397.61 Q114.26 1393 114.26 1384.27 Q114.26 1375.52 117.316 1370.94 Q120.394 1366.33 126.205 1366.33 Z\" fill=\"#000000\" fill-rule=\"evenodd\" fill-opacity=\"1\" /><path clip-path=\"url(#clip510)\" d=\"M118.242 966.244 L125.88 966.244 L125.88 939.879 L117.57 941.545 L117.57 937.286 L125.834 935.619 L130.51 935.619 L130.51 966.244 L138.149 966.244 L138.149 970.179 L118.242 970.179 L118.242 966.244 Z\" fill=\"#000000\" fill-rule=\"evenodd\" fill-opacity=\"1\" /><path clip-path=\"url(#clip510)\" d=\"M121.83 534.905 L138.149 534.905 L138.149 538.84 L116.205 538.84 L116.205 534.905 Q118.867 532.151 123.45 527.521 Q128.056 522.868 129.237 521.526 Q131.482 519.002 132.362 517.266 Q133.265 515.507 133.265 513.817 Q133.265 511.063 131.32 509.327 Q129.399 507.59 126.297 507.59 Q124.098 507.59 121.644 508.354 Q119.214 509.118 116.436 510.669 L116.436 505.947 Q119.26 504.813 121.714 504.234 Q124.168 503.655 126.205 503.655 Q131.575 503.655 134.769 506.34 Q137.964 509.026 137.964 513.516 Q137.964 515.646 137.154 517.567 Q136.367 519.465 134.26 522.058 Q133.681 522.729 130.58 525.947 Q127.478 529.141 121.83 534.905 Z\" fill=\"#000000\" fill-rule=\"evenodd\" fill-opacity=\"1\" /><path clip-path=\"url(#clip510)\" d=\"M131.019 88.8672 Q134.376 89.5848 136.251 91.8533 Q138.149 94.1218 138.149 97.4551 Q138.149 102.571 134.63 105.372 Q131.112 108.173 124.63 108.173 Q122.455 108.173 120.14 107.733 Q117.848 107.316 115.394 106.46 L115.394 101.946 Q117.339 103.08 119.654 103.659 Q121.968 104.237 124.492 104.237 Q128.89 104.237 131.181 102.501 Q133.496 100.765 133.496 97.4551 Q133.496 94.3996 131.343 92.6866 Q129.214 90.9505 125.394 90.9505 L121.367 90.9505 L121.367 87.1079 L125.58 87.1079 Q129.029 87.1079 130.857 85.7422 Q132.686 84.3533 132.686 81.7607 Q132.686 79.0987 130.788 77.6867 Q128.913 76.2515 125.394 76.2515 Q123.473 76.2515 121.274 76.6682 Q119.075 77.0848 116.436 77.9645 L116.436 73.7978 Q119.098 73.0571 121.413 72.6867 Q123.751 72.3164 125.811 72.3164 Q131.135 72.3164 134.237 74.7469 Q137.339 77.1543 137.339 81.2746 Q137.339 84.145 135.695 86.1357 Q134.052 88.1033 131.019 88.8672 Z\" fill=\"#000000\" fill-rule=\"evenodd\" fill-opacity=\"1\" /><path clip-path=\"url(#clip510)\" d=\"M82.9205 903.495 L21.5039 903.495 Q19.0563 903.495 19.0563 902.175 Q19.0563 900.854 21.0209 900.854 L82.4374 900.854 Q84.8851 900.854 84.8851 902.175 Q84.8851 903.495 82.9205 903.495 Z\" fill=\"#000000\" fill-rule=\"evenodd\" fill-opacity=\"1\" /><path clip-path=\"url(#clip510)\" d=\"M25.4009 842.964 L36.8017 844.285 Q37.8323 844.381 38.1544 844.542 Q38.4442 844.703 38.4442 845.219 Q38.4442 845.605 38.2188 845.831 Q37.9611 846.024 37.6713 846.024 Q37.5103 846.024 37.0916 845.992 Q36.6729 845.959 36.4797 845.959 Q34.4829 845.67 32.9692 845.67 Q30.1673 845.67 28.6537 846.507 Q27.1078 847.344 26.3992 849.502 Q25.6585 851.66 25.6585 855.718 L25.6585 864.993 Q25.6585 867.119 26.045 867.634 Q26.4314 868.117 28.235 868.568 L44.1125 872.529 L44.1125 866.314 Q44.1125 863.995 43.8226 862.61 Q43.5328 861.193 42.7276 860.259 Q41.8903 859.293 40.7631 858.777 Q39.6358 858.23 37.6069 857.682 Q36.9306 857.521 36.6729 857.36 Q36.4153 857.167 36.4153 856.748 Q36.4153 856.426 36.6407 856.201 Q36.8339 855.975 37.1238 855.975 L52.5504 859.744 Q53.3233 859.937 53.6132 860.13 Q53.8708 860.323 53.8708 860.71 Q53.8708 861.128 53.6454 861.354 Q53.42 861.579 53.1623 861.579 Q52.9047 861.579 52.4216 861.386 Q50.3282 860.903 49.201 860.903 Q48.5569 860.903 48.2348 860.967 Q47.9128 861 47.4619 861.289 Q46.9788 861.547 46.7533 862.127 Q46.5279 862.707 46.3669 863.802 Q46.1736 864.897 46.1736 866.539 L46.1736 873.045 L64.1767 877.553 Q65.3683 877.875 65.6904 877.875 Q66.0447 877.875 66.1735 877.714 Q66.2701 877.521 66.3345 877.006 Q66.4311 876.426 66.4311 875.557 L66.4311 865.927 Q66.4311 863.802 66.2379 862.095 Q66.0447 860.388 65.5616 858.971 Q65.0785 857.521 64.531 856.426 Q63.9835 855.331 62.9851 854.301 Q61.9545 853.27 61.0527 852.562 Q60.1188 851.821 58.5407 850.951 Q56.9626 850.082 55.6744 849.47 Q54.3539 848.858 52.2283 847.924 Q51.4554 847.666 51.4554 847.054 Q51.4554 846.7 51.6486 846.507 Q51.8097 846.314 51.9707 846.282 L52.1639 846.282 Q52.7758 846.475 53.0979 846.604 L67.3329 852.658 Q68.138 853.013 68.2991 853.302 Q68.4601 853.592 68.4601 854.719 L68.4601 888.954 Q68.4601 889.727 68.4279 890.049 Q68.3957 890.339 68.2347 890.565 Q68.0414 890.79 67.6549 890.79 Q67.043 890.79 66.7854 890.532 Q66.4955 890.275 66.4633 889.985 Q66.4311 889.695 66.4311 888.954 Q66.4311 887.344 66.3345 886.378 Q66.2379 885.412 66.1091 884.8 Q65.948 884.156 65.4972 883.834 Q65.0463 883.479 64.6598 883.318 Q64.2411 883.157 63.3072 882.932 L28.4282 874.236 Q27.2366 873.914 26.8501 873.914 Q26.4314 873.914 26.1738 874.204 Q25.9162 874.462 25.8195 875.17 Q25.6907 875.879 25.6907 876.458 Q25.6585 877.006 25.6585 878.198 Q25.6585 878.97 25.6263 879.293 Q25.5941 879.582 25.4331 879.808 Q25.272 880.033 24.9178 880.033 Q24.016 880.033 23.8228 879.647 Q23.5973 879.228 23.5973 878.069 L23.5973 844.768 Q23.5973 843.447 23.8872 843.158 Q24.1448 842.835 25.4009 842.964 Z\" fill=\"#000000\" fill-rule=\"evenodd\" fill-opacity=\"1\" /><path clip-path=\"url(#clip510)\" d=\"M82.9205 833.879 L21.5039 833.879 Q19.0563 833.879 19.0563 832.559 Q19.0563 831.239 21.0209 831.239 L82.4374 831.239 Q84.8851 831.239 84.8851 832.559 Q84.8851 833.879 82.9205 833.879 Z\" fill=\"#000000\" fill-rule=\"evenodd\" fill-opacity=\"1\" /><path clip-path=\"url(#clip510)\" d=\"M84.9495 797.938 L18.9919 797.938 L18.9919 787.987 L20.5056 787.987 L20.5056 793.526 L83.4358 793.526 L83.4358 787.987 L84.9495 787.987 L84.9495 797.938 Z\" fill=\"#000000\" fill-rule=\"evenodd\" fill-opacity=\"1\" /><path clip-path=\"url(#clip510)\" d=\"M68.4601 785.332 L66.4311 785.332 Q66.4311 781.822 66.0124 781.017 Q65.5616 780.179 63.436 780.179 L29.1367 780.179 Q26.6891 780.179 26.0772 781.049 Q25.4653 781.886 25.4653 785.332 L23.4041 785.332 L22.6956 775.831 L54.3539 775.831 L46.3025 766.524 Q45.0464 765.075 43.726 765.075 Q42.2123 765.075 42.0835 766.975 L40.0223 766.975 Q40.2156 764.205 40.2156 759.6 Q40.2156 756.894 40.0223 754.994 L42.0835 754.994 Q42.2767 759.149 45.6261 763.303 Q46.3669 764.237 48.2992 766.459 Q50.1994 768.649 50.3926 768.649 Q50.457 768.649 50.618 768.585 Q50.7791 768.488 50.9079 768.36 Q51.0367 768.231 51.1011 768.231 L62.9207 759.857 Q65.3039 758.15 65.8836 756.894 Q66.4311 755.638 66.4311 753.448 L68.4601 753.448 Q68.2669 756.282 68.2669 759.213 Q68.2669 760.791 68.4601 766.331 L66.4311 766.331 Q66.4311 763.947 64.8852 763.947 Q63.8225 763.947 56.4473 769.294 Q55.932 769.68 54.8048 770.55 Q53.6132 771.355 53.0335 771.806 L56.6405 776.025 L63.436 776.025 Q65.5616 776.025 66.0124 775.219 Q66.4311 774.382 66.4311 770.872 L68.4601 770.872 Q68.2669 774.833 68.2669 778.118 Q68.2669 778.794 68.4601 785.332 Z\" fill=\"#000000\" fill-rule=\"evenodd\" fill-opacity=\"1\" /><path clip-path=\"url(#clip510)\" d=\"M25.4653 748.01 L23.4041 748.01 Q23.5973 740.892 23.5973 739.636 Q23.5973 732.583 23.4041 730.2 L25.4653 730.2 Q25.4653 735.61 27.3654 735.61 Q27.6231 735.61 28.557 735.224 L61.8579 722.631 L30.0707 710.554 Q29.0723 710.232 28.7503 710.232 Q27.4298 710.232 26.4959 711.456 Q25.5297 712.648 25.4653 715.031 L23.4041 715.031 Q23.5973 709.878 23.5973 707.527 Q23.5973 704.177 23.4041 701.118 L25.4653 701.118 Q25.5297 706.657 29.8775 708.3 L68.6533 723.018 Q69.4585 723.276 69.6839 723.533 Q69.9094 723.791 69.9094 724.596 Q69.9094 725.24 69.6517 725.594 Q69.3941 725.916 68.4601 726.238 L27.9773 741.536 Q26.206 742.18 25.8517 743.34 Q25.4653 744.499 25.4653 748.01 Z\" fill=\"#000000\" fill-rule=\"evenodd\" fill-opacity=\"1\" /><path clip-path=\"url(#clip510)\" d=\"M84.0155 699.014 Q83.6935 699.014 82.9849 698.756 L20.7632 675.471 Q20.6988 675.471 20.3445 675.31 Q19.9903 675.149 19.7648 675.052 Q19.5072 674.956 19.314 674.763 Q19.1207 674.537 19.1207 674.279 Q19.1207 673.635 19.9259 673.635 Q19.9903 673.635 20.7632 673.829 L83.0494 697.178 Q84.1766 697.564 84.4986 697.822 Q84.8207 698.047 84.8207 698.434 Q84.8207 699.014 84.0155 699.014 Z\" fill=\"#000000\" fill-rule=\"evenodd\" fill-opacity=\"1\" /><path clip-path=\"url(#clip510)\" d=\"M64.853 662.163 Q60.473 666.349 54.2251 666.349 Q47.945 666.349 43.4361 662.227 Q38.8951 658.105 38.8951 652.05 Q38.8951 648.024 40.8275 644.997 Q42.7276 641.97 45.9804 641.97 Q47.4297 641.97 48.267 642.839 Q49.0722 643.677 49.0722 644.997 Q49.0722 646.382 48.2348 647.219 Q47.3653 648.024 46.0448 648.024 Q45.4651 648.024 44.8854 647.831 Q44.3057 647.638 43.6938 646.929 Q43.0819 646.189 42.9853 644.933 Q40.5698 647.284 40.5698 651.857 Q40.5698 651.921 40.5698 651.986 Q40.5698 655.335 43.726 658.105 Q46.8822 660.874 54.0963 660.874 Q57.8644 660.874 60.6341 659.973 Q63.3716 659.039 64.7886 657.525 Q66.2057 656.011 66.882 654.53 Q67.5261 653.048 67.5261 651.599 Q67.5261 645.126 60.6019 642.936 Q59.9577 642.743 59.9577 642.098 Q59.9577 641.229 60.6019 641.229 Q60.9239 641.229 61.7613 641.487 Q62.5986 641.744 63.9191 642.549 Q65.2395 643.354 66.3989 644.514 Q67.5261 645.641 68.3635 647.67 Q69.2008 649.667 69.2008 652.179 Q69.2008 657.976 64.853 662.163 Z\" fill=\"#000000\" fill-rule=\"evenodd\" fill-opacity=\"1\" /><path clip-path=\"url(#clip510)\" d=\"M68.4601 639.202 L66.4311 639.202 Q66.4311 635.691 66.0124 634.886 Q65.5616 634.081 63.436 634.081 L45.755 634.081 Q43.3073 634.081 42.6954 634.951 Q42.0835 635.788 42.0835 639.202 L40.0223 639.202 L39.3138 629.926 L46.2381 629.926 Q39.3138 626.835 39.3138 620.168 Q39.3138 612.439 45.755 611.376 Q43.2429 610.249 41.2783 607.898 Q39.3138 605.514 39.3138 601.811 Q39.3138 596.851 41.7614 594.886 Q43.4039 593.437 45.2397 593.147 Q47.0754 592.858 51.8419 592.858 L64.4344 592.858 Q65.8192 592.793 66.1413 591.73 Q66.4311 590.668 66.4311 587.705 L68.4601 587.705 Q68.2669 594.436 68.2669 595.08 Q68.2669 595.595 68.4601 602.551 L66.4311 602.551 Q66.4311 599.041 66.0124 598.236 Q65.5616 597.399 63.436 597.399 L48.0738 597.399 Q44.7244 597.399 42.7598 598.429 Q40.7631 599.46 40.7631 602.294 Q40.7631 605.708 43.6294 608.445 Q46.4957 611.183 51.3266 611.183 L63.436 611.183 Q65.5616 611.183 66.0124 610.377 Q66.4311 609.54 66.4311 606.03 L68.4601 606.03 Q68.2669 612.761 68.2669 613.437 Q68.2669 613.952 68.4601 620.877 L66.4311 620.877 Q66.4311 617.366 66.0124 616.561 Q65.5616 615.724 63.436 615.724 L48.0738 615.724 Q44.7244 615.724 42.7598 616.754 Q40.7631 617.785 40.7631 620.619 Q40.7631 624.033 43.6294 626.77 Q46.4957 629.508 51.3266 629.508 L63.436 629.508 Q65.5616 629.508 66.0124 628.703 Q66.4311 627.865 66.4311 624.387 L68.4601 624.387 Q68.2669 631.118 68.2669 631.762 Q68.2669 632.277 68.4601 639.202 Z\" fill=\"#000000\" fill-rule=\"evenodd\" fill-opacity=\"1\" /><path clip-path=\"url(#clip510)\" d=\"M83.4358 585.079 L83.4358 579.539 L20.5056 579.539 L20.5056 585.079 L18.9919 585.079 L18.9919 575.127 L84.9495 575.127 L84.9495 585.079 L83.4358 585.079 Z\" fill=\"#000000\" fill-rule=\"evenodd\" fill-opacity=\"1\" /><polyline clip-path=\"url(#clip512)\" style=\"stroke:#000000; stroke-linecap:butt; stroke-linejoin:round; stroke-width:4; stroke-opacity:1; fill:none\" points=\"\n",
       "  235.808,1384.24 239.918,1384.24 244.029,1384.24 248.139,1384.24 252.25,1384.24 256.361,1384.24 260.471,1384.24 264.582,1384.24 268.692,1384.24 272.803,1384.24 \n",
       "  276.913,1384.24 281.024,1384.24 285.135,1384.24 289.245,1384.24 293.356,1384.24 297.466,1384.24 301.577,1384.24 305.687,1384.24 309.798,1384.24 313.909,1384.24 \n",
       "  318.019,1384.24 322.13,1384.24 326.24,1384.24 330.351,1384.24 334.462,1384.24 338.572,1384.24 342.683,1384.24 346.793,1384.24 350.904,1384.24 355.014,1384.24 \n",
       "  359.125,1384.24 363.236,1384.24 367.346,1384.24 371.457,1384.24 375.567,1384.24 379.678,1384.24 383.788,1384.24 387.899,1384.24 392.01,1384.24 396.12,1384.24 \n",
       "  400.231,1384.24 404.341,1384.24 408.452,1384.24 412.563,1384.24 416.673,1384.24 420.784,1384.24 424.894,1384.24 429.005,1384.24 433.115,1384.24 437.226,1384.24 \n",
       "  441.337,86.1857 445.447,140.754 449.558,186.349 453.668,228.889 457.779,268.308 461.889,304.896 466,338.941 470.111,370.652 474.221,400.224 478.332,427.85 \n",
       "  482.442,453.697 486.553,477.908 490.664,500.642 494.774,521.799 498.885,541.593 502.995,560.249 507.106,577.843 511.216,594.456 515.327,610.113 519.438,624.699 \n",
       "  523.548,638.523 527.659,651.658 531.769,664.117 535.88,675.765 539.99,686.801 544.101,697.343 548.212,707.374 552.322,716.73 556.433,725.681 560.543,734.271 \n",
       "  564.654,742.341 568.765,750.006 572.875,757.382 576.986,764.373 581.096,770.975 585.207,777.364 589.317,783.417 593.428,789.162 597.539,794.725 601.649,799.972 \n",
       "  605.76,805.001 609.87,809.885 613.981,814.439 618.091,818.872 622.202,823.115 626.313,827.146 630.423,831.081 634.534,834.77 638.644,838.363 642.755,841.801 \n",
       "  646.866,845.09 650.976,848.292 655.087,851.304 659.197,854.269 663.308,857.057 667.418,859.784 671.529,862.388 675.64,864.904 679.75,867.331 683.861,869.656 \n",
       "  687.971,871.919 692.082,874.074 696.192,876.187 700.303,878.185 704.414,880.161 708.524,882.017 712.635,883.861 716.745,885.592 720.856,887.314 724.967,888.929 \n",
       "  729.077,890.536 733.188,892.051 737.298,893.551 741.409,894.972 745.519,896.373 749.63,897.711 753.741,899.022 757.851,900.282 761.962,901.505 766.072,902.695 \n",
       "  770.183,903.839 774.293,904.965 778.404,906.035 782.515,907.103 786.625,908.103 790.736,909.103 794.846,910.053 798.957,910.988 803.068,911.894 807.178,912.769 \n",
       "  811.289,913.635 815.399,914.452 819.51,915.268 823.62,916.045 827.731,916.81 831.842,917.554 835.952,918.27 840.063,918.987 844.173,919.657 848.284,920.326 \n",
       "  852.394,920.974 856.505,921.6 860.616,922.226 864.726,922.812 868.837,923.398 872.947,923.968 877.058,924.516 881.169,925.064 885.279,925.582 889.39,926.095 \n",
       "  893.5,926.6 897.611,927.081 901.721,927.561 905.832,928.023 909.943,928.473 914.053,928.923 918.164,929.347 922.274,929.768 926.385,930.186 930.495,930.58 \n",
       "  934.606,930.974 938.717,931.359 942.827,931.728 946.938,932.097 951.048,932.454 955.159,932.799 959.27,933.144 963.38,933.476 967.491,933.799 971.601,934.123 \n",
       "  975.712,934.432 979.822,934.735 983.933,935.038 988.044,935.326 992.154,935.61 996.265,935.894 1000.38,936.164 1004.49,936.43 1008.6,936.696 1012.71,936.949 \n",
       "  1016.82,937.198 1020.93,937.448 1025.04,937.686 1029.15,937.92 1033.26,938.154 1037.37,938.379 1041.48,938.599 1045.59,938.818 1049.7,939.031 1053.81,939.236 \n",
       "  1057.92,939.441 1062.03,939.645 1066.14,939.838 1070.26,940.03 1074.37,940.223 1078.48,940.404 1082.59,940.584 1086.7,940.763 1090.81,940.939 1094.92,941.108 \n",
       "  1099.03,941.277 1103.14,941.444 1107.25,941.603 1111.36,941.761 1115.47,941.919 1119.58,942.071 1123.69,942.219 1127.8,942.368 1131.91,942.514 1136.02,942.654 \n",
       "  1140.14,942.793 1144.25,942.932 1148.36,943.065 1152.47,943.196 1156.58,943.326 1160.69,943.456 1164.8,943.578 1168.91,943.701 1173.02,943.823 1177.13,943.942 \n",
       "  1181.24,944.057 1185.35,944.172 1189.46,944.286 1193.57,944.396 1197.68,944.504 1201.79,944.611 1205.9,944.719 1210.01,944.82 1214.13,944.921 1218.24,945.022 \n",
       "  1222.35,945.122 1226.46,945.216 1230.57,945.311 1234.68,945.406 1238.79,945.498 1242.9,945.587 1247.01,945.676 1251.12,945.765 1255.23,945.852 1259.34,945.935 \n",
       "  1263.45,946.018 1267.56,946.101 1271.67,946.183 1275.78,946.261 1279.89,946.339 1284.01,946.417 1288.12,946.494 1292.23,946.567 1296.34,946.64 1300.45,946.714 \n",
       "  1304.56,946.786 1308.67,946.855 1312.78,946.924 1316.89,946.992 1321,947.061 1325.11,947.125 1329.22,947.19 1333.33,947.255 1337.44,947.319 1341.55,947.38 \n",
       "  1345.66,947.441 1349.77,947.502 1353.89,947.562 1358,947.621 1362.11,947.677 1366.22,947.734 1370.33,947.791 1374.44,947.847 1378.55,947.901 1382.66,947.954 \n",
       "  1386.77,948.007 1390.88,948.061 1394.99,948.112 1399.1,948.162 1403.21,948.212 1407.32,948.262 1411.43,948.311 1415.54,948.358 1419.65,948.405 1423.77,948.452 \n",
       "  1427.88,948.499 1431.99,948.544 1436.1,948.588 1440.21,948.632 1444.32,948.676 1448.43,948.72 1452.54,948.762 1456.65,948.803 1460.76,948.845 1464.87,948.886 \n",
       "  1468.98,948.926 1473.09,948.965 1477.2,949.004 1481.31,949.043 1485.42,949.082 1489.53,949.119 1493.64,949.156 1497.76,949.192 1501.87,949.229 1505.98,949.265 \n",
       "  1510.09,949.3 1514.2,949.334 1518.31,949.369 1522.42,949.403 1526.53,949.437 1530.64,949.47 1534.75,949.502 1538.86,949.534 1542.97,949.566 1547.08,949.599 \n",
       "  1551.19,949.629 1555.3,949.659 1559.41,949.689 1563.52,949.719 1567.64,949.75 1571.75,949.778 1575.86,949.807 1579.97,949.835 1584.08,949.864 1588.19,949.892 \n",
       "  1592.3,949.919 1596.41,949.946 1600.52,949.972 1604.63,949.999 1608.74,950.026 1612.85,950.051 1616.96,950.077 1621.07,950.102 1625.18,950.127 1629.29,950.152 \n",
       "  1633.4,950.176 1637.52,950.2 1641.63,950.223 1645.74,950.247 1649.85,950.27 1653.96,950.294 1658.07,950.316 1662.18,950.338 1666.29,950.36 1670.4,950.382 \n",
       "  1674.51,950.405 1678.62,950.426 1682.73,950.447 1686.84,950.467 1690.95,950.488 1695.06,950.509 1699.17,950.53 1703.28,950.549 1707.39,950.569 1711.51,950.588 \n",
       "  1715.62,950.608 1719.73,950.627 1723.84,950.646 1727.95,950.665 1732.06,950.683 1736.17,950.701 1740.28,950.72 1744.39,950.738 1748.5,950.756 1752.61,950.773 \n",
       "  1756.72,950.79 1760.83,950.807 1764.94,950.824 1769.05,950.842 1773.16,950.858 1777.27,950.874 1781.39,950.89 1785.5,950.906 1789.61,950.923 1793.72,950.939 \n",
       "  1797.83,950.954 1801.94,950.969 1806.05,950.984 1810.16,950.999 1814.27,951.015 1818.38,951.03 1822.49,951.044 1826.6,951.058 1830.71,951.073 1834.82,951.087 \n",
       "  1838.93,951.101 1843.04,951.115 1847.15,951.129 1851.27,951.142 1855.38,951.156 1859.49,951.169 1863.6,951.182 1867.71,951.196 1871.82,951.209 1875.93,951.221 \n",
       "  1880.04,951.234 1884.15,951.246 1888.26,951.259 1892.37,951.271 1896.48,951.284 1900.59,951.296 1904.7,951.307 1908.81,951.319 1912.92,951.331 1917.03,951.343 \n",
       "  1921.15,951.355 1925.26,951.366 1929.37,951.377 1933.48,951.388 1937.59,951.399 1941.7,951.41 1945.81,951.421 1949.92,951.432 1954.03,951.442 1958.14,951.453 \n",
       "  1962.25,951.463 1966.36,951.473 1970.47,951.484 1974.58,951.494 1978.69,951.504 1982.8,951.514 1986.91,951.524 1991.02,951.533 1995.14,951.543 1999.25,951.553 \n",
       "  2003.36,951.563 2007.47,951.572 2011.58,951.581 2015.69,951.59 2019.8,951.599 2023.91,951.609 2028.02,951.618 2032.13,951.627 2036.24,951.635 2040.35,951.644 \n",
       "  2044.46,951.653 2048.57,951.661 2052.68,951.67 2056.79,951.678 2060.9,951.687 2065.02,951.695 2069.13,951.703 2073.24,951.711 2077.35,951.719 2081.46,951.727 \n",
       "  2085.57,951.735 2089.68,951.743 2093.79,951.751 2097.9,951.758 2102.01,951.766 2106.12,951.774 2110.23,951.781 2114.34,951.789 2118.45,951.796 2122.56,951.803 \n",
       "  2126.67,951.81 2130.78,951.818 2134.9,951.825 2139.01,951.832 2143.12,951.839 2147.23,951.846 2151.34,951.853 2155.45,951.859 2159.56,951.866 2163.67,951.873 \n",
       "  2167.78,951.88 2171.89,951.886 2176,951.893 2180.11,951.899 2184.22,951.906 2188.33,951.912 2192.44,951.918 2196.55,951.925 2200.66,951.931 2204.78,951.937 \n",
       "  2208.89,951.943 2213,951.949 2217.11,951.955 2221.22,951.961 2225.33,951.967 2229.44,951.973 2233.55,951.979 2237.66,951.985 2241.77,951.99 2245.88,951.996 \n",
       "  2249.99,952.001 2254.1,952.007 2258.21,952.013 2262.32,952.018 2266.43,952.024 2270.54,952.029 2274.65,952.034 2278.77,952.04 2282.88,952.045 2286.99,952.05 \n",
       "  2291.1,952.055 \n",
       "  \"/>\n",
       "</svg>\n"
      ]
     },
     "execution_count": 7,
     "metadata": {},
     "output_type": "execute_result"
    }
   ],
   "source": [
    "plot(y * 1e2, Eline * 1e-5, color = :black, legend = :false, xlabel = L\"y\\,\\mathrm{[cm]}\", ylabel = L\"|E|\\,\\mathrm{[kV/cm]}\")"
   ]
  },
  {
   "cell_type": "code",
   "execution_count": 8,
   "id": "confirmed-conditioning",
   "metadata": {},
   "outputs": [
    {
     "data": {
      "text/plain": [
       "3.0093561569751985"
      ]
     },
     "execution_count": 8,
     "metadata": {},
     "output_type": "execute_result"
    }
   ],
   "source": [
    "f = maximum(Eline) / E0"
   ]
  },
  {
   "cell_type": "markdown",
   "id": "democratic-promise",
   "metadata": {},
   "source": [
    "As expected, the field enhancement factor $f \\approx 3$"
   ]
  },
  {
   "cell_type": "markdown",
   "id": "egyptian-desert",
   "metadata": {},
   "source": [
    "## Along $x$ axis"
   ]
  },
  {
   "cell_type": "code",
   "execution_count": 9,
   "id": "turkish-might",
   "metadata": {},
   "outputs": [],
   "source": [
    "x = Vector(0:1e-4:5*r)\n",
    "coord = [Point(x[i], 0) for i in 1:length(x)];\n",
    "uline = uh(coord);\n",
    "Eline = E(coord);\n",
    "Eline = [sqrt(E[1]^2 + E[2]^2)  for E in Eline];"
   ]
  },
  {
   "cell_type": "code",
   "execution_count": 10,
   "id": "modern-basic",
   "metadata": {},
   "outputs": [
    {
     "data": {
      "image/svg+xml": [
       "<?xml version=\"1.0\" encoding=\"utf-8\"?>\n",
       "<svg xmlns=\"http://www.w3.org/2000/svg\" xmlns:xlink=\"http://www.w3.org/1999/xlink\" width=\"600\" height=\"400\" viewBox=\"0 0 2400 1600\">\n",
       "<defs>\n",
       "  <clipPath id=\"clip550\">\n",
       "    <rect x=\"0\" y=\"0\" width=\"2400\" height=\"1600\"/>\n",
       "  </clipPath>\n",
       "</defs>\n",
       "<path clip-path=\"url(#clip550)\" d=\"\n",
       "M0 1600 L2400 1600 L2400 0 L0 0  Z\n",
       "  \" fill=\"#ffffff\" fill-rule=\"evenodd\" fill-opacity=\"1\"/>\n",
       "<defs>\n",
       "  <clipPath id=\"clip551\">\n",
       "    <rect x=\"480\" y=\"0\" width=\"1681\" height=\"1600\"/>\n",
       "  </clipPath>\n",
       "</defs>\n",
       "<defs>\n",
       "  <clipPath id=\"clip552\">\n",
       "    <rect x=\"174\" y=\"47\" width=\"2180\" height=\"1377\"/>\n",
       "  </clipPath>\n",
       "</defs>\n",
       "<path clip-path=\"url(#clip550)\" d=\"\n",
       "M249.542 1423.18 L2352.76 1423.18 L2352.76 47.2441 L249.542 47.2441  Z\n",
       "  \" fill=\"#ffffff\" fill-rule=\"evenodd\" fill-opacity=\"1\"/>\n",
       "<defs>\n",
       "  <clipPath id=\"clip553\">\n",
       "    <rect x=\"249\" y=\"47\" width=\"2104\" height=\"1377\"/>\n",
       "  </clipPath>\n",
       "</defs>\n",
       "<polyline clip-path=\"url(#clip553)\" style=\"stroke:#000000; stroke-linecap:butt; stroke-linejoin:round; stroke-width:2; stroke-opacity:0.1; fill:none\" points=\"\n",
       "  309.067,1423.18 309.067,47.2441 \n",
       "  \"/>\n",
       "<polyline clip-path=\"url(#clip553)\" style=\"stroke:#000000; stroke-linecap:butt; stroke-linejoin:round; stroke-width:2; stroke-opacity:0.1; fill:none\" points=\"\n",
       "  705.9,1423.18 705.9,47.2441 \n",
       "  \"/>\n",
       "<polyline clip-path=\"url(#clip553)\" style=\"stroke:#000000; stroke-linecap:butt; stroke-linejoin:round; stroke-width:2; stroke-opacity:0.1; fill:none\" points=\"\n",
       "  1102.73,1423.18 1102.73,47.2441 \n",
       "  \"/>\n",
       "<polyline clip-path=\"url(#clip553)\" style=\"stroke:#000000; stroke-linecap:butt; stroke-linejoin:round; stroke-width:2; stroke-opacity:0.1; fill:none\" points=\"\n",
       "  1499.57,1423.18 1499.57,47.2441 \n",
       "  \"/>\n",
       "<polyline clip-path=\"url(#clip553)\" style=\"stroke:#000000; stroke-linecap:butt; stroke-linejoin:round; stroke-width:2; stroke-opacity:0.1; fill:none\" points=\"\n",
       "  1896.4,1423.18 1896.4,47.2441 \n",
       "  \"/>\n",
       "<polyline clip-path=\"url(#clip553)\" style=\"stroke:#000000; stroke-linecap:butt; stroke-linejoin:round; stroke-width:2; stroke-opacity:0.1; fill:none\" points=\"\n",
       "  2293.23,1423.18 2293.23,47.2441 \n",
       "  \"/>\n",
       "<polyline clip-path=\"url(#clip550)\" style=\"stroke:#000000; stroke-linecap:butt; stroke-linejoin:round; stroke-width:4; stroke-opacity:1; fill:none\" points=\"\n",
       "  249.542,1423.18 2352.76,1423.18 \n",
       "  \"/>\n",
       "<polyline clip-path=\"url(#clip550)\" style=\"stroke:#000000; stroke-linecap:butt; stroke-linejoin:round; stroke-width:4; stroke-opacity:1; fill:none\" points=\"\n",
       "  309.067,1423.18 309.067,1404.28 \n",
       "  \"/>\n",
       "<polyline clip-path=\"url(#clip550)\" style=\"stroke:#000000; stroke-linecap:butt; stroke-linejoin:round; stroke-width:4; stroke-opacity:1; fill:none\" points=\"\n",
       "  705.9,1423.18 705.9,1404.28 \n",
       "  \"/>\n",
       "<polyline clip-path=\"url(#clip550)\" style=\"stroke:#000000; stroke-linecap:butt; stroke-linejoin:round; stroke-width:4; stroke-opacity:1; fill:none\" points=\"\n",
       "  1102.73,1423.18 1102.73,1404.28 \n",
       "  \"/>\n",
       "<polyline clip-path=\"url(#clip550)\" style=\"stroke:#000000; stroke-linecap:butt; stroke-linejoin:round; stroke-width:4; stroke-opacity:1; fill:none\" points=\"\n",
       "  1499.57,1423.18 1499.57,1404.28 \n",
       "  \"/>\n",
       "<polyline clip-path=\"url(#clip550)\" style=\"stroke:#000000; stroke-linecap:butt; stroke-linejoin:round; stroke-width:4; stroke-opacity:1; fill:none\" points=\"\n",
       "  1896.4,1423.18 1896.4,1404.28 \n",
       "  \"/>\n",
       "<polyline clip-path=\"url(#clip550)\" style=\"stroke:#000000; stroke-linecap:butt; stroke-linejoin:round; stroke-width:4; stroke-opacity:1; fill:none\" points=\"\n",
       "  2293.23,1423.18 2293.23,1404.28 \n",
       "  \"/>\n",
       "<path clip-path=\"url(#clip550)\" d=\"M309.067 1454.1 Q305.456 1454.1 303.627 1457.66 Q301.822 1461.2 301.822 1468.33 Q301.822 1475.44 303.627 1479.01 Q305.456 1482.55 309.067 1482.55 Q312.701 1482.55 314.507 1479.01 Q316.335 1475.44 316.335 1468.33 Q316.335 1461.2 314.507 1457.66 Q312.701 1454.1 309.067 1454.1 M309.067 1450.39 Q314.877 1450.39 317.933 1455 Q321.011 1459.58 321.011 1468.33 Q321.011 1477.06 317.933 1481.67 Q314.877 1486.25 309.067 1486.25 Q303.257 1486.25 300.178 1481.67 Q297.123 1477.06 297.123 1468.33 Q297.123 1459.58 300.178 1455 Q303.257 1450.39 309.067 1450.39 Z\" fill=\"#000000\" fill-rule=\"evenodd\" fill-opacity=\"1\" /><path clip-path=\"url(#clip550)\" d=\"M696.282 1481.64 L703.921 1481.64 L703.921 1455.28 L695.61 1456.95 L695.61 1452.69 L703.874 1451.02 L708.55 1451.02 L708.55 1481.64 L716.189 1481.64 L716.189 1485.58 L696.282 1485.58 L696.282 1481.64 Z\" fill=\"#000000\" fill-rule=\"evenodd\" fill-opacity=\"1\" /><path clip-path=\"url(#clip550)\" d=\"M1097.39 1481.64 L1113.7 1481.64 L1113.7 1485.58 L1091.76 1485.58 L1091.76 1481.64 Q1094.42 1478.89 1099.01 1474.26 Q1103.61 1469.61 1104.79 1468.27 Q1107.04 1465.74 1107.92 1464.01 Q1108.82 1462.25 1108.82 1460.56 Q1108.82 1457.8 1106.88 1456.07 Q1104.95 1454.33 1101.85 1454.33 Q1099.65 1454.33 1097.2 1455.09 Q1094.77 1455.86 1091.99 1457.41 L1091.99 1452.69 Q1094.82 1451.55 1097.27 1450.97 Q1099.72 1450.39 1101.76 1450.39 Q1107.13 1450.39 1110.33 1453.08 Q1113.52 1455.77 1113.52 1460.26 Q1113.52 1462.39 1112.71 1464.31 Q1111.92 1466.2 1109.82 1468.8 Q1109.24 1469.47 1106.14 1472.69 Q1103.03 1475.88 1097.39 1481.64 Z\" fill=\"#000000\" fill-rule=\"evenodd\" fill-opacity=\"1\" /><path clip-path=\"url(#clip550)\" d=\"M1503.81 1466.95 Q1507.17 1467.66 1509.04 1469.93 Q1510.94 1472.2 1510.94 1475.53 Q1510.94 1480.65 1507.42 1483.45 Q1503.91 1486.25 1497.42 1486.25 Q1495.25 1486.25 1492.93 1485.81 Q1490.64 1485.39 1488.19 1484.54 L1488.19 1480.02 Q1490.13 1481.16 1492.45 1481.74 Q1494.76 1482.32 1497.29 1482.32 Q1501.68 1482.32 1503.98 1480.58 Q1506.29 1478.84 1506.29 1475.53 Q1506.29 1472.48 1504.14 1470.77 Q1502.01 1469.03 1498.19 1469.03 L1494.16 1469.03 L1494.16 1465.19 L1498.37 1465.19 Q1501.82 1465.19 1503.65 1463.82 Q1505.48 1462.43 1505.48 1459.84 Q1505.48 1457.18 1503.58 1455.77 Q1501.71 1454.33 1498.19 1454.33 Q1496.27 1454.33 1494.07 1454.75 Q1491.87 1455.16 1489.23 1456.04 L1489.23 1451.88 Q1491.89 1451.14 1494.21 1450.77 Q1496.54 1450.39 1498.6 1450.39 Q1503.93 1450.39 1507.03 1452.83 Q1510.13 1455.23 1510.13 1459.35 Q1510.13 1462.22 1508.49 1464.21 Q1506.85 1466.18 1503.81 1466.95 Z\" fill=\"#000000\" fill-rule=\"evenodd\" fill-opacity=\"1\" /><path clip-path=\"url(#clip550)\" d=\"M1899.41 1455.09 L1887.6 1473.54 L1899.41 1473.54 L1899.41 1455.09 M1898.18 1451.02 L1904.06 1451.02 L1904.06 1473.54 L1908.99 1473.54 L1908.99 1477.43 L1904.06 1477.43 L1904.06 1485.58 L1899.41 1485.58 L1899.41 1477.43 L1883.81 1477.43 L1883.81 1472.92 L1898.18 1451.02 Z\" fill=\"#000000\" fill-rule=\"evenodd\" fill-opacity=\"1\" /><path clip-path=\"url(#clip550)\" d=\"M2283.51 1451.02 L2301.87 1451.02 L2301.87 1454.96 L2287.79 1454.96 L2287.79 1463.43 Q2288.81 1463.08 2289.83 1462.92 Q2290.85 1462.73 2291.87 1462.73 Q2297.65 1462.73 2301.03 1465.9 Q2304.41 1469.08 2304.41 1474.49 Q2304.41 1480.07 2300.94 1483.17 Q2297.47 1486.25 2291.15 1486.25 Q2288.97 1486.25 2286.7 1485.88 Q2284.46 1485.51 2282.05 1484.77 L2282.05 1480.07 Q2284.13 1481.2 2286.36 1481.76 Q2288.58 1482.32 2291.06 1482.32 Q2295.06 1482.32 2297.4 1480.21 Q2299.74 1478.1 2299.74 1474.49 Q2299.74 1470.88 2297.4 1468.77 Q2295.06 1466.67 2291.06 1466.67 Q2289.18 1466.67 2287.31 1467.08 Q2285.45 1467.5 2283.51 1468.38 L2283.51 1451.02 Z\" fill=\"#000000\" fill-rule=\"evenodd\" fill-opacity=\"1\" /><path clip-path=\"url(#clip550)\" d=\"M1254.95 1547.7 Q1254.95 1549.5 1253.82 1550.54 Q1252.7 1551.53 1251.41 1551.53 Q1250.18 1551.53 1249.54 1550.83 Q1248.9 1550.12 1248.9 1549.21 Q1248.9 1547.99 1249.8 1546.93 Q1250.7 1545.87 1252.05 1545.64 Q1250.73 1544.8 1248.77 1544.8 Q1247.48 1544.8 1246.35 1545.48 Q1245.26 1546.16 1244.58 1547.02 Q1243.94 1547.89 1243.36 1549.15 Q1242.81 1550.37 1242.58 1551.12 Q1242.39 1551.82 1242.23 1552.6 L1239.98 1561.61 Q1238.88 1565.9 1238.88 1567.41 Q1238.88 1569.28 1239.78 1570.54 Q1240.68 1571.76 1242.49 1571.76 Q1243.2 1571.76 1244 1571.57 Q1244.81 1571.34 1245.84 1570.76 Q1246.9 1570.15 1247.83 1569.25 Q1248.8 1568.31 1249.73 1566.73 Q1250.67 1565.16 1251.28 1563.13 Q1251.47 1562.42 1252.12 1562.42 Q1252.92 1562.42 1252.92 1563.06 Q1252.92 1563.61 1252.47 1564.77 Q1252.05 1565.9 1251.12 1567.38 Q1250.22 1568.83 1249.03 1570.15 Q1247.83 1571.44 1246.06 1572.34 Q1244.29 1573.24 1242.36 1573.24 Q1239.59 1573.24 1237.75 1571.76 Q1235.92 1570.28 1235.24 1568.22 Q1235.08 1568.51 1234.85 1568.89 Q1234.63 1569.28 1233.95 1570.15 Q1233.31 1570.99 1232.57 1571.63 Q1231.83 1572.24 1230.67 1572.73 Q1229.54 1573.24 1228.32 1573.24 Q1226.77 1573.24 1225.39 1572.79 Q1224.03 1572.34 1223.07 1571.31 Q1222.1 1570.28 1222.1 1568.86 Q1222.1 1567.28 1223.16 1566.19 Q1224.26 1565.06 1225.74 1565.06 Q1226.67 1565.06 1227.41 1565.61 Q1228.19 1566.16 1228.19 1567.35 Q1228.19 1568.67 1227.29 1569.67 Q1226.38 1570.66 1225.1 1570.92 Q1226.42 1571.76 1228.38 1571.76 Q1230.51 1571.76 1232.18 1569.89 Q1233.86 1568.02 1234.66 1564.9 Q1236.66 1557.4 1237.43 1554.05 Q1238.2 1550.66 1238.2 1549.21 Q1238.2 1547.86 1237.85 1546.93 Q1237.5 1545.99 1236.88 1545.58 Q1236.3 1545.12 1235.76 1544.96 Q1235.24 1544.8 1234.66 1544.8 Q1233.7 1544.8 1232.6 1545.19 Q1231.54 1545.58 1230.25 1546.48 Q1228.99 1547.35 1227.8 1549.15 Q1226.61 1550.95 1225.8 1553.43 Q1225.64 1554.17 1224.94 1554.17 Q1224.16 1554.14 1224.16 1553.5 Q1224.16 1552.95 1224.58 1551.82 Q1225.03 1550.66 1225.93 1549.21 Q1226.87 1547.77 1228.06 1546.48 Q1229.28 1545.16 1231.05 1544.26 Q1232.86 1543.35 1234.79 1543.35 Q1235.66 1543.35 1236.5 1543.55 Q1237.37 1543.71 1238.4 1544.19 Q1239.46 1544.67 1240.39 1545.74 Q1241.33 1546.8 1241.91 1548.35 Q1242.29 1547.6 1242.81 1546.9 Q1243.36 1546.19 1244.19 1545.32 Q1245.06 1544.42 1246.26 1543.9 Q1247.48 1543.35 1248.83 1543.35 Q1250.15 1543.35 1251.44 1543.71 Q1252.73 1544.03 1253.82 1545.09 Q1254.95 1546.12 1254.95 1547.7 Z\" fill=\"#000000\" fill-rule=\"evenodd\" fill-opacity=\"1\" /><path clip-path=\"url(#clip550)\" d=\"M1268.17 1588.99 L1268.17 1523.03 L1278.12 1523.03 L1278.12 1524.55 L1272.58 1524.55 L1272.58 1587.48 L1278.12 1587.48 L1278.12 1588.99 L1268.17 1588.99 Z\" fill=\"#000000\" fill-rule=\"evenodd\" fill-opacity=\"1\" /><path clip-path=\"url(#clip550)\" d=\"M1284.96 1568.89 Q1280.78 1564.51 1280.78 1558.26 Q1280.78 1551.98 1284.9 1547.48 Q1289.02 1542.93 1295.08 1542.93 Q1299.1 1542.93 1302.13 1544.87 Q1305.16 1546.77 1305.16 1550.02 Q1305.16 1551.47 1304.29 1552.31 Q1303.45 1553.11 1302.13 1553.11 Q1300.74 1553.11 1299.91 1552.27 Q1299.1 1551.4 1299.1 1550.08 Q1299.1 1549.5 1299.29 1548.93 Q1299.49 1548.35 1300.2 1547.73 Q1300.94 1547.12 1302.19 1547.02 Q1299.84 1544.61 1295.27 1544.61 Q1295.2 1544.61 1295.14 1544.61 Q1291.79 1544.61 1289.02 1547.77 Q1286.25 1550.92 1286.25 1558.14 Q1286.25 1561.9 1287.15 1564.67 Q1288.09 1567.41 1289.6 1568.83 Q1291.11 1570.25 1292.6 1570.92 Q1294.08 1571.57 1295.53 1571.57 Q1302 1571.57 1304.19 1564.64 Q1304.38 1564 1305.03 1564 Q1305.9 1564 1305.9 1564.64 Q1305.9 1564.96 1305.64 1565.8 Q1305.38 1566.64 1304.58 1567.96 Q1303.77 1569.28 1302.61 1570.44 Q1301.48 1571.57 1299.46 1572.4 Q1297.46 1573.24 1294.95 1573.24 Q1289.15 1573.24 1284.96 1568.89 Z\" fill=\"#000000\" fill-rule=\"evenodd\" fill-opacity=\"1\" /><path clip-path=\"url(#clip550)\" d=\"M1307.92 1572.5 L1307.92 1570.47 Q1311.43 1570.47 1312.24 1570.05 Q1313.04 1569.6 1313.04 1567.48 L1313.04 1549.79 Q1313.04 1547.35 1312.17 1546.74 Q1311.34 1546.12 1307.92 1546.12 L1307.92 1544.06 L1317.2 1543.35 L1317.2 1550.28 Q1320.29 1543.35 1326.96 1543.35 Q1334.69 1543.35 1335.75 1549.79 Q1336.88 1547.28 1339.23 1545.32 Q1341.61 1543.35 1345.31 1543.35 Q1350.27 1543.35 1352.24 1545.8 Q1353.69 1547.44 1353.98 1549.28 Q1354.27 1551.12 1354.27 1555.88 L1354.27 1568.47 Q1354.33 1569.86 1355.4 1570.18 Q1356.46 1570.47 1359.42 1570.47 L1359.42 1572.5 Q1352.69 1572.31 1352.05 1572.31 Q1351.53 1572.31 1344.57 1572.5 L1344.57 1570.47 Q1348.08 1570.47 1348.89 1570.05 Q1349.73 1569.6 1349.73 1567.48 L1349.73 1552.11 Q1349.73 1548.76 1348.7 1546.8 Q1347.67 1544.8 1344.83 1544.8 Q1341.42 1544.8 1338.68 1547.67 Q1335.94 1550.54 1335.94 1555.37 L1335.94 1567.48 Q1335.94 1569.6 1336.75 1570.05 Q1337.59 1570.47 1341.1 1570.47 L1341.1 1572.5 Q1334.36 1572.31 1333.69 1572.31 Q1333.17 1572.31 1326.25 1572.5 L1326.25 1570.47 Q1329.76 1570.47 1330.56 1570.05 Q1331.4 1569.6 1331.4 1567.48 L1331.4 1552.11 Q1331.4 1548.76 1330.37 1546.8 Q1329.34 1544.8 1326.51 1544.8 Q1323.09 1544.8 1320.36 1547.67 Q1317.62 1550.54 1317.62 1555.37 L1317.62 1567.48 Q1317.62 1569.6 1318.42 1570.05 Q1319.26 1570.47 1322.74 1570.47 L1322.74 1572.5 Q1316.01 1572.31 1315.36 1572.31 Q1314.85 1572.31 1307.92 1572.5 Z\" fill=\"#000000\" fill-rule=\"evenodd\" fill-opacity=\"1\" /><path clip-path=\"url(#clip550)\" d=\"M1362.05 1587.48 L1367.59 1587.48 L1367.59 1524.55 L1362.05 1524.55 L1362.05 1523.03 L1372 1523.03 L1372 1588.99 L1362.05 1588.99 L1362.05 1587.48 Z\" fill=\"#000000\" fill-rule=\"evenodd\" fill-opacity=\"1\" /><polyline clip-path=\"url(#clip553)\" style=\"stroke:#000000; stroke-linecap:butt; stroke-linejoin:round; stroke-width:2; stroke-opacity:0.1; fill:none\" points=\"\n",
       "  249.542,1384.24 2352.76,1384.24 \n",
       "  \"/>\n",
       "<polyline clip-path=\"url(#clip553)\" style=\"stroke:#000000; stroke-linecap:butt; stroke-linejoin:round; stroke-width:2; stroke-opacity:0.1; fill:none\" points=\"\n",
       "  249.542,1059.38 2352.76,1059.38 \n",
       "  \"/>\n",
       "<polyline clip-path=\"url(#clip553)\" style=\"stroke:#000000; stroke-linecap:butt; stroke-linejoin:round; stroke-width:2; stroke-opacity:0.1; fill:none\" points=\"\n",
       "  249.542,734.524 2352.76,734.524 \n",
       "  \"/>\n",
       "<polyline clip-path=\"url(#clip553)\" style=\"stroke:#000000; stroke-linecap:butt; stroke-linejoin:round; stroke-width:2; stroke-opacity:0.1; fill:none\" points=\"\n",
       "  249.542,409.666 2352.76,409.666 \n",
       "  \"/>\n",
       "<polyline clip-path=\"url(#clip553)\" style=\"stroke:#000000; stroke-linecap:butt; stroke-linejoin:round; stroke-width:2; stroke-opacity:0.1; fill:none\" points=\"\n",
       "  249.542,84.8091 2352.76,84.8091 \n",
       "  \"/>\n",
       "<polyline clip-path=\"url(#clip550)\" style=\"stroke:#000000; stroke-linecap:butt; stroke-linejoin:round; stroke-width:4; stroke-opacity:1; fill:none\" points=\"\n",
       "  249.542,1423.18 249.542,47.2441 \n",
       "  \"/>\n",
       "<polyline clip-path=\"url(#clip550)\" style=\"stroke:#000000; stroke-linecap:butt; stroke-linejoin:round; stroke-width:4; stroke-opacity:1; fill:none\" points=\"\n",
       "  249.542,1384.24 268.44,1384.24 \n",
       "  \"/>\n",
       "<polyline clip-path=\"url(#clip550)\" style=\"stroke:#000000; stroke-linecap:butt; stroke-linejoin:round; stroke-width:4; stroke-opacity:1; fill:none\" points=\"\n",
       "  249.542,1059.38 268.44,1059.38 \n",
       "  \"/>\n",
       "<polyline clip-path=\"url(#clip550)\" style=\"stroke:#000000; stroke-linecap:butt; stroke-linejoin:round; stroke-width:4; stroke-opacity:1; fill:none\" points=\"\n",
       "  249.542,734.524 268.44,734.524 \n",
       "  \"/>\n",
       "<polyline clip-path=\"url(#clip550)\" style=\"stroke:#000000; stroke-linecap:butt; stroke-linejoin:round; stroke-width:4; stroke-opacity:1; fill:none\" points=\"\n",
       "  249.542,409.666 268.44,409.666 \n",
       "  \"/>\n",
       "<polyline clip-path=\"url(#clip550)\" style=\"stroke:#000000; stroke-linecap:butt; stroke-linejoin:round; stroke-width:4; stroke-opacity:1; fill:none\" points=\"\n",
       "  249.542,84.8091 268.44,84.8091 \n",
       "  \"/>\n",
       "<path clip-path=\"url(#clip550)\" d=\"M126.205 1370.04 Q122.593 1370.04 120.765 1373.6 Q118.959 1377.14 118.959 1384.27 Q118.959 1391.38 120.765 1394.94 Q122.593 1398.49 126.205 1398.49 Q129.839 1398.49 131.644 1394.94 Q133.473 1391.38 133.473 1384.27 Q133.473 1377.14 131.644 1373.6 Q129.839 1370.04 126.205 1370.04 M126.205 1366.33 Q132.015 1366.33 135.07 1370.94 Q138.149 1375.52 138.149 1384.27 Q138.149 1393 135.07 1397.61 Q132.015 1402.19 126.205 1402.19 Q120.394 1402.19 117.316 1397.61 Q114.26 1393 114.26 1384.27 Q114.26 1375.52 117.316 1370.94 Q120.394 1366.33 126.205 1366.33 Z\" fill=\"#000000\" fill-rule=\"evenodd\" fill-opacity=\"1\" /><path clip-path=\"url(#clip550)\" d=\"M146.366 1395.64 L151.251 1395.64 L151.251 1401.52 L146.366 1401.52 L146.366 1395.64 Z\" fill=\"#000000\" fill-rule=\"evenodd\" fill-opacity=\"1\" /><path clip-path=\"url(#clip550)\" d=\"M171.436 1370.04 Q167.825 1370.04 165.996 1373.6 Q164.19 1377.14 164.19 1384.27 Q164.19 1391.38 165.996 1394.94 Q167.825 1398.49 171.436 1398.49 Q175.07 1398.49 176.876 1394.94 Q178.704 1391.38 178.704 1384.27 Q178.704 1377.14 176.876 1373.6 Q175.07 1370.04 171.436 1370.04 M171.436 1366.33 Q177.246 1366.33 180.301 1370.94 Q183.38 1375.52 183.38 1384.27 Q183.38 1393 180.301 1397.61 Q177.246 1402.19 171.436 1402.19 Q165.626 1402.19 162.547 1397.61 Q159.491 1393 159.491 1384.27 Q159.491 1375.52 162.547 1370.94 Q165.626 1366.33 171.436 1366.33 Z\" fill=\"#000000\" fill-rule=\"evenodd\" fill-opacity=\"1\" /><path clip-path=\"url(#clip550)\" d=\"M201.598 1370.04 Q197.987 1370.04 196.158 1373.6 Q194.352 1377.14 194.352 1384.27 Q194.352 1391.38 196.158 1394.94 Q197.987 1398.49 201.598 1398.49 Q205.232 1398.49 207.037 1394.94 Q208.866 1391.38 208.866 1384.27 Q208.866 1377.14 207.037 1373.6 Q205.232 1370.04 201.598 1370.04 M201.598 1366.33 Q207.408 1366.33 210.463 1370.94 Q213.542 1375.52 213.542 1384.27 Q213.542 1393 210.463 1397.61 Q207.408 1402.19 201.598 1402.19 Q195.787 1402.19 192.709 1397.61 Q189.653 1393 189.653 1384.27 Q189.653 1375.52 192.709 1370.94 Q195.787 1366.33 201.598 1366.33 Z\" fill=\"#000000\" fill-rule=\"evenodd\" fill-opacity=\"1\" /><path clip-path=\"url(#clip550)\" d=\"M127.2 1045.18 Q123.589 1045.18 121.76 1048.74 Q119.955 1052.29 119.955 1059.42 Q119.955 1066.52 121.76 1070.09 Q123.589 1073.63 127.2 1073.63 Q130.834 1073.63 132.64 1070.09 Q134.468 1066.52 134.468 1059.42 Q134.468 1052.29 132.64 1048.74 Q130.834 1045.18 127.2 1045.18 M127.2 1041.48 Q133.01 1041.48 136.066 1046.08 Q139.144 1050.67 139.144 1059.42 Q139.144 1068.14 136.066 1072.75 Q133.01 1077.33 127.2 1077.33 Q121.39 1077.33 118.311 1072.75 Q115.256 1068.14 115.256 1059.42 Q115.256 1050.67 118.311 1046.08 Q121.39 1041.48 127.2 1041.48 Z\" fill=\"#000000\" fill-rule=\"evenodd\" fill-opacity=\"1\" /><path clip-path=\"url(#clip550)\" d=\"M147.362 1070.78 L152.246 1070.78 L152.246 1076.66 L147.362 1076.66 L147.362 1070.78 Z\" fill=\"#000000\" fill-rule=\"evenodd\" fill-opacity=\"1\" /><path clip-path=\"url(#clip550)\" d=\"M166.459 1072.73 L182.778 1072.73 L182.778 1076.66 L160.834 1076.66 L160.834 1072.73 Q163.496 1069.97 168.079 1065.34 Q172.686 1060.69 173.866 1059.35 Q176.112 1056.82 176.991 1055.09 Q177.894 1053.33 177.894 1051.64 Q177.894 1048.88 175.95 1047.15 Q174.028 1045.41 170.927 1045.41 Q168.727 1045.41 166.274 1046.18 Q163.843 1046.94 161.065 1048.49 L161.065 1043.77 Q163.89 1042.63 166.343 1042.05 Q168.797 1041.48 170.834 1041.48 Q176.204 1041.48 179.399 1044.16 Q182.593 1046.85 182.593 1051.34 Q182.593 1053.47 181.783 1055.39 Q180.996 1057.29 178.889 1059.88 Q178.311 1060.55 175.209 1063.77 Q172.107 1066.96 166.459 1072.73 Z\" fill=\"#000000\" fill-rule=\"evenodd\" fill-opacity=\"1\" /><path clip-path=\"url(#clip550)\" d=\"M192.639 1042.1 L210.996 1042.1 L210.996 1046.04 L196.922 1046.04 L196.922 1054.51 Q197.94 1054.16 198.959 1054 Q199.977 1053.81 200.996 1053.81 Q206.783 1053.81 210.162 1056.99 Q213.542 1060.16 213.542 1065.57 Q213.542 1071.15 210.07 1074.25 Q206.598 1077.33 200.278 1077.33 Q198.102 1077.33 195.834 1076.96 Q193.588 1076.59 191.181 1075.85 L191.181 1071.15 Q193.264 1072.29 195.487 1072.84 Q197.709 1073.4 200.186 1073.4 Q204.19 1073.4 206.528 1071.29 Q208.866 1069.18 208.866 1065.57 Q208.866 1061.96 206.528 1059.86 Q204.19 1057.75 200.186 1057.75 Q198.311 1057.75 196.436 1058.17 Q194.584 1058.58 192.639 1059.46 L192.639 1042.1 Z\" fill=\"#000000\" fill-rule=\"evenodd\" fill-opacity=\"1\" /><path clip-path=\"url(#clip550)\" d=\"M126.205 720.322 Q122.593 720.322 120.765 723.887 Q118.959 727.429 118.959 734.558 Q118.959 741.665 120.765 745.23 Q122.593 748.771 126.205 748.771 Q129.839 748.771 131.644 745.23 Q133.473 741.665 133.473 734.558 Q133.473 727.429 131.644 723.887 Q129.839 720.322 126.205 720.322 M126.205 716.619 Q132.015 716.619 135.07 721.225 Q138.149 725.808 138.149 734.558 Q138.149 743.285 135.07 747.892 Q132.015 752.475 126.205 752.475 Q120.394 752.475 117.316 747.892 Q114.26 743.285 114.26 734.558 Q114.26 725.808 117.316 721.225 Q120.394 716.619 126.205 716.619 Z\" fill=\"#000000\" fill-rule=\"evenodd\" fill-opacity=\"1\" /><path clip-path=\"url(#clip550)\" d=\"M146.366 745.924 L151.251 745.924 L151.251 751.804 L146.366 751.804 L146.366 745.924 Z\" fill=\"#000000\" fill-rule=\"evenodd\" fill-opacity=\"1\" /><path clip-path=\"url(#clip550)\" d=\"M161.482 717.244 L179.839 717.244 L179.839 721.179 L165.765 721.179 L165.765 729.651 Q166.783 729.304 167.802 729.142 Q168.82 728.957 169.839 728.957 Q175.626 728.957 179.005 732.128 Q182.385 735.299 182.385 740.716 Q182.385 746.294 178.913 749.396 Q175.44 752.475 169.121 752.475 Q166.945 752.475 164.677 752.105 Q162.431 751.734 160.024 750.993 L160.024 746.294 Q162.107 747.429 164.329 747.984 Q166.552 748.54 169.028 748.54 Q173.033 748.54 175.371 746.433 Q177.709 744.327 177.709 740.716 Q177.709 737.105 175.371 734.998 Q173.033 732.892 169.028 732.892 Q167.153 732.892 165.278 733.308 Q163.427 733.725 161.482 734.605 L161.482 717.244 Z\" fill=\"#000000\" fill-rule=\"evenodd\" fill-opacity=\"1\" /><path clip-path=\"url(#clip550)\" d=\"M201.598 720.322 Q197.987 720.322 196.158 723.887 Q194.352 727.429 194.352 734.558 Q194.352 741.665 196.158 745.23 Q197.987 748.771 201.598 748.771 Q205.232 748.771 207.037 745.23 Q208.866 741.665 208.866 734.558 Q208.866 727.429 207.037 723.887 Q205.232 720.322 201.598 720.322 M201.598 716.619 Q207.408 716.619 210.463 721.225 Q213.542 725.808 213.542 734.558 Q213.542 743.285 210.463 747.892 Q207.408 752.475 201.598 752.475 Q195.787 752.475 192.709 747.892 Q189.653 743.285 189.653 734.558 Q189.653 725.808 192.709 721.225 Q195.787 716.619 201.598 716.619 Z\" fill=\"#000000\" fill-rule=\"evenodd\" fill-opacity=\"1\" /><path clip-path=\"url(#clip550)\" d=\"M127.2 395.465 Q123.589 395.465 121.76 399.03 Q119.955 402.572 119.955 409.701 Q119.955 416.808 121.76 420.372 Q123.589 423.914 127.2 423.914 Q130.834 423.914 132.64 420.372 Q134.468 416.808 134.468 409.701 Q134.468 402.572 132.64 399.03 Q130.834 395.465 127.2 395.465 M127.2 391.761 Q133.01 391.761 136.066 396.368 Q139.144 400.951 139.144 409.701 Q139.144 418.428 136.066 423.034 Q133.01 427.618 127.2 427.618 Q121.39 427.618 118.311 423.034 Q115.256 418.428 115.256 409.701 Q115.256 400.951 118.311 396.368 Q121.39 391.761 127.2 391.761 Z\" fill=\"#000000\" fill-rule=\"evenodd\" fill-opacity=\"1\" /><path clip-path=\"url(#clip550)\" d=\"M147.362 421.067 L152.246 421.067 L152.246 426.946 L147.362 426.946 L147.362 421.067 Z\" fill=\"#000000\" fill-rule=\"evenodd\" fill-opacity=\"1\" /><path clip-path=\"url(#clip550)\" d=\"M161.251 392.386 L183.473 392.386 L183.473 394.377 L170.927 426.946 L166.042 426.946 L177.848 396.322 L161.251 396.322 L161.251 392.386 Z\" fill=\"#000000\" fill-rule=\"evenodd\" fill-opacity=\"1\" /><path clip-path=\"url(#clip550)\" d=\"M192.639 392.386 L210.996 392.386 L210.996 396.322 L196.922 396.322 L196.922 404.794 Q197.94 404.446 198.959 404.284 Q199.977 404.099 200.996 404.099 Q206.783 404.099 210.162 407.271 Q213.542 410.442 213.542 415.858 Q213.542 421.437 210.07 424.539 Q206.598 427.618 200.278 427.618 Q198.102 427.618 195.834 427.247 Q193.588 426.877 191.181 426.136 L191.181 421.437 Q193.264 422.571 195.487 423.127 Q197.709 423.683 200.186 423.683 Q204.19 423.683 206.528 421.576 Q208.866 419.47 208.866 415.858 Q208.866 412.247 206.528 410.141 Q204.19 408.034 200.186 408.034 Q198.311 408.034 196.436 408.451 Q194.584 408.868 192.639 409.747 L192.639 392.386 Z\" fill=\"#000000\" fill-rule=\"evenodd\" fill-opacity=\"1\" /><path clip-path=\"url(#clip550)\" d=\"M117.015 98.1539 L124.654 98.1539 L124.654 71.7883 L116.343 73.455 L116.343 69.1957 L124.607 67.5291 L129.283 67.5291 L129.283 98.1539 L136.922 98.1539 L136.922 102.089 L117.015 102.089 L117.015 98.1539 Z\" fill=\"#000000\" fill-rule=\"evenodd\" fill-opacity=\"1\" /><path clip-path=\"url(#clip550)\" d=\"M146.366 96.2095 L151.251 96.2095 L151.251 102.089 L146.366 102.089 L146.366 96.2095 Z\" fill=\"#000000\" fill-rule=\"evenodd\" fill-opacity=\"1\" /><path clip-path=\"url(#clip550)\" d=\"M171.436 70.6078 Q167.825 70.6078 165.996 74.1726 Q164.19 77.7142 164.19 84.8438 Q164.19 91.9502 165.996 95.515 Q167.825 99.0567 171.436 99.0567 Q175.07 99.0567 176.876 95.515 Q178.704 91.9502 178.704 84.8438 Q178.704 77.7142 176.876 74.1726 Q175.07 70.6078 171.436 70.6078 M171.436 66.9041 Q177.246 66.9041 180.301 71.5105 Q183.38 76.0938 183.38 84.8438 Q183.38 93.5706 180.301 98.1771 Q177.246 102.76 171.436 102.76 Q165.626 102.76 162.547 98.1771 Q159.491 93.5706 159.491 84.8438 Q159.491 76.0938 162.547 71.5105 Q165.626 66.9041 171.436 66.9041 Z\" fill=\"#000000\" fill-rule=\"evenodd\" fill-opacity=\"1\" /><path clip-path=\"url(#clip550)\" d=\"M201.598 70.6078 Q197.987 70.6078 196.158 74.1726 Q194.352 77.7142 194.352 84.8438 Q194.352 91.9502 196.158 95.515 Q197.987 99.0567 201.598 99.0567 Q205.232 99.0567 207.037 95.515 Q208.866 91.9502 208.866 84.8438 Q208.866 77.7142 207.037 74.1726 Q205.232 70.6078 201.598 70.6078 M201.598 66.9041 Q207.408 66.9041 210.463 71.5105 Q213.542 76.0938 213.542 84.8438 Q213.542 93.5706 210.463 98.1771 Q207.408 102.76 201.598 102.76 Q195.787 102.76 192.709 98.1771 Q189.653 93.5706 189.653 84.8438 Q189.653 76.0938 192.709 71.5105 Q195.787 66.9041 201.598 66.9041 Z\" fill=\"#000000\" fill-rule=\"evenodd\" fill-opacity=\"1\" /><path clip-path=\"url(#clip550)\" d=\"M82.9205 903.495 L21.5039 903.495 Q19.0563 903.495 19.0563 902.175 Q19.0563 900.854 21.0209 900.854 L82.4374 900.854 Q84.8851 900.854 84.8851 902.175 Q84.8851 903.495 82.9205 903.495 Z\" fill=\"#000000\" fill-rule=\"evenodd\" fill-opacity=\"1\" /><path clip-path=\"url(#clip550)\" d=\"M25.4009 842.964 L36.8017 844.285 Q37.8323 844.381 38.1544 844.542 Q38.4442 844.703 38.4442 845.219 Q38.4442 845.605 38.2188 845.831 Q37.9611 846.024 37.6713 846.024 Q37.5103 846.024 37.0916 845.992 Q36.6729 845.959 36.4797 845.959 Q34.4829 845.67 32.9692 845.67 Q30.1673 845.67 28.6537 846.507 Q27.1078 847.344 26.3992 849.502 Q25.6585 851.66 25.6585 855.718 L25.6585 864.993 Q25.6585 867.119 26.045 867.634 Q26.4314 868.117 28.235 868.568 L44.1125 872.529 L44.1125 866.314 Q44.1125 863.995 43.8226 862.61 Q43.5328 861.193 42.7276 860.259 Q41.8903 859.293 40.7631 858.777 Q39.6358 858.23 37.6069 857.682 Q36.9306 857.521 36.6729 857.36 Q36.4153 857.167 36.4153 856.748 Q36.4153 856.426 36.6407 856.201 Q36.8339 855.975 37.1238 855.975 L52.5504 859.744 Q53.3233 859.937 53.6132 860.13 Q53.8708 860.323 53.8708 860.71 Q53.8708 861.128 53.6454 861.354 Q53.42 861.579 53.1623 861.579 Q52.9047 861.579 52.4216 861.386 Q50.3282 860.903 49.201 860.903 Q48.5569 860.903 48.2348 860.967 Q47.9128 861 47.4619 861.289 Q46.9788 861.547 46.7533 862.127 Q46.5279 862.707 46.3669 863.802 Q46.1736 864.897 46.1736 866.539 L46.1736 873.045 L64.1767 877.553 Q65.3683 877.875 65.6904 877.875 Q66.0447 877.875 66.1735 877.714 Q66.2701 877.521 66.3345 877.006 Q66.4311 876.426 66.4311 875.557 L66.4311 865.927 Q66.4311 863.802 66.2379 862.095 Q66.0447 860.388 65.5616 858.971 Q65.0785 857.521 64.531 856.426 Q63.9835 855.331 62.9851 854.301 Q61.9545 853.27 61.0527 852.562 Q60.1188 851.821 58.5407 850.951 Q56.9626 850.082 55.6744 849.47 Q54.3539 848.858 52.2283 847.924 Q51.4554 847.666 51.4554 847.054 Q51.4554 846.7 51.6486 846.507 Q51.8097 846.314 51.9707 846.282 L52.1639 846.282 Q52.7758 846.475 53.0979 846.604 L67.3329 852.658 Q68.138 853.013 68.2991 853.302 Q68.4601 853.592 68.4601 854.719 L68.4601 888.954 Q68.4601 889.727 68.4279 890.049 Q68.3957 890.339 68.2347 890.565 Q68.0414 890.79 67.6549 890.79 Q67.043 890.79 66.7854 890.532 Q66.4955 890.275 66.4633 889.985 Q66.4311 889.695 66.4311 888.954 Q66.4311 887.344 66.3345 886.378 Q66.2379 885.412 66.1091 884.8 Q65.948 884.156 65.4972 883.834 Q65.0463 883.479 64.6598 883.318 Q64.2411 883.157 63.3072 882.932 L28.4282 874.236 Q27.2366 873.914 26.8501 873.914 Q26.4314 873.914 26.1738 874.204 Q25.9162 874.462 25.8195 875.17 Q25.6907 875.879 25.6907 876.458 Q25.6585 877.006 25.6585 878.198 Q25.6585 878.97 25.6263 879.293 Q25.5941 879.582 25.4331 879.808 Q25.272 880.033 24.9178 880.033 Q24.016 880.033 23.8228 879.647 Q23.5973 879.228 23.5973 878.069 L23.5973 844.768 Q23.5973 843.447 23.8872 843.158 Q24.1448 842.835 25.4009 842.964 Z\" fill=\"#000000\" fill-rule=\"evenodd\" fill-opacity=\"1\" /><path clip-path=\"url(#clip550)\" d=\"M82.9205 833.879 L21.5039 833.879 Q19.0563 833.879 19.0563 832.559 Q19.0563 831.239 21.0209 831.239 L82.4374 831.239 Q84.8851 831.239 84.8851 832.559 Q84.8851 833.879 82.9205 833.879 Z\" fill=\"#000000\" fill-rule=\"evenodd\" fill-opacity=\"1\" /><path clip-path=\"url(#clip550)\" d=\"M84.9495 797.938 L18.9919 797.938 L18.9919 787.987 L20.5056 787.987 L20.5056 793.526 L83.4358 793.526 L83.4358 787.987 L84.9495 787.987 L84.9495 797.938 Z\" fill=\"#000000\" fill-rule=\"evenodd\" fill-opacity=\"1\" /><path clip-path=\"url(#clip550)\" d=\"M68.4601 785.332 L66.4311 785.332 Q66.4311 781.822 66.0124 781.017 Q65.5616 780.179 63.436 780.179 L29.1367 780.179 Q26.6891 780.179 26.0772 781.049 Q25.4653 781.886 25.4653 785.332 L23.4041 785.332 L22.6956 775.831 L54.3539 775.831 L46.3025 766.524 Q45.0464 765.075 43.726 765.075 Q42.2123 765.075 42.0835 766.975 L40.0223 766.975 Q40.2156 764.205 40.2156 759.6 Q40.2156 756.894 40.0223 754.994 L42.0835 754.994 Q42.2767 759.149 45.6261 763.303 Q46.3669 764.237 48.2992 766.459 Q50.1994 768.649 50.3926 768.649 Q50.457 768.649 50.618 768.585 Q50.7791 768.488 50.9079 768.36 Q51.0367 768.231 51.1011 768.231 L62.9207 759.857 Q65.3039 758.15 65.8836 756.894 Q66.4311 755.638 66.4311 753.448 L68.4601 753.448 Q68.2669 756.282 68.2669 759.213 Q68.2669 760.791 68.4601 766.331 L66.4311 766.331 Q66.4311 763.947 64.8852 763.947 Q63.8225 763.947 56.4473 769.294 Q55.932 769.68 54.8048 770.55 Q53.6132 771.355 53.0335 771.806 L56.6405 776.025 L63.436 776.025 Q65.5616 776.025 66.0124 775.219 Q66.4311 774.382 66.4311 770.872 L68.4601 770.872 Q68.2669 774.833 68.2669 778.118 Q68.2669 778.794 68.4601 785.332 Z\" fill=\"#000000\" fill-rule=\"evenodd\" fill-opacity=\"1\" /><path clip-path=\"url(#clip550)\" d=\"M25.4653 748.01 L23.4041 748.01 Q23.5973 740.892 23.5973 739.636 Q23.5973 732.583 23.4041 730.2 L25.4653 730.2 Q25.4653 735.61 27.3654 735.61 Q27.6231 735.61 28.557 735.224 L61.8579 722.631 L30.0707 710.554 Q29.0723 710.232 28.7503 710.232 Q27.4298 710.232 26.4959 711.456 Q25.5297 712.648 25.4653 715.031 L23.4041 715.031 Q23.5973 709.878 23.5973 707.527 Q23.5973 704.177 23.4041 701.118 L25.4653 701.118 Q25.5297 706.657 29.8775 708.3 L68.6533 723.018 Q69.4585 723.276 69.6839 723.533 Q69.9094 723.791 69.9094 724.596 Q69.9094 725.24 69.6517 725.594 Q69.3941 725.916 68.4601 726.238 L27.9773 741.536 Q26.206 742.18 25.8517 743.34 Q25.4653 744.499 25.4653 748.01 Z\" fill=\"#000000\" fill-rule=\"evenodd\" fill-opacity=\"1\" /><path clip-path=\"url(#clip550)\" d=\"M84.0155 699.014 Q83.6935 699.014 82.9849 698.756 L20.7632 675.471 Q20.6988 675.471 20.3445 675.31 Q19.9903 675.149 19.7648 675.052 Q19.5072 674.956 19.314 674.763 Q19.1207 674.537 19.1207 674.279 Q19.1207 673.635 19.9259 673.635 Q19.9903 673.635 20.7632 673.829 L83.0494 697.178 Q84.1766 697.564 84.4986 697.822 Q84.8207 698.047 84.8207 698.434 Q84.8207 699.014 84.0155 699.014 Z\" fill=\"#000000\" fill-rule=\"evenodd\" fill-opacity=\"1\" /><path clip-path=\"url(#clip550)\" d=\"M64.853 662.163 Q60.473 666.349 54.2251 666.349 Q47.945 666.349 43.4361 662.227 Q38.8951 658.105 38.8951 652.05 Q38.8951 648.024 40.8275 644.997 Q42.7276 641.97 45.9804 641.97 Q47.4297 641.97 48.267 642.839 Q49.0722 643.677 49.0722 644.997 Q49.0722 646.382 48.2348 647.219 Q47.3653 648.024 46.0448 648.024 Q45.4651 648.024 44.8854 647.831 Q44.3057 647.638 43.6938 646.929 Q43.0819 646.189 42.9853 644.933 Q40.5698 647.284 40.5698 651.857 Q40.5698 651.921 40.5698 651.986 Q40.5698 655.335 43.726 658.105 Q46.8822 660.874 54.0963 660.874 Q57.8644 660.874 60.6341 659.973 Q63.3716 659.039 64.7886 657.525 Q66.2057 656.011 66.882 654.53 Q67.5261 653.048 67.5261 651.599 Q67.5261 645.126 60.6019 642.936 Q59.9577 642.743 59.9577 642.098 Q59.9577 641.229 60.6019 641.229 Q60.9239 641.229 61.7613 641.487 Q62.5986 641.744 63.9191 642.549 Q65.2395 643.354 66.3989 644.514 Q67.5261 645.641 68.3635 647.67 Q69.2008 649.667 69.2008 652.179 Q69.2008 657.976 64.853 662.163 Z\" fill=\"#000000\" fill-rule=\"evenodd\" fill-opacity=\"1\" /><path clip-path=\"url(#clip550)\" d=\"M68.4601 639.202 L66.4311 639.202 Q66.4311 635.691 66.0124 634.886 Q65.5616 634.081 63.436 634.081 L45.755 634.081 Q43.3073 634.081 42.6954 634.951 Q42.0835 635.788 42.0835 639.202 L40.0223 639.202 L39.3138 629.926 L46.2381 629.926 Q39.3138 626.835 39.3138 620.168 Q39.3138 612.439 45.755 611.376 Q43.2429 610.249 41.2783 607.898 Q39.3138 605.514 39.3138 601.811 Q39.3138 596.851 41.7614 594.886 Q43.4039 593.437 45.2397 593.147 Q47.0754 592.858 51.8419 592.858 L64.4344 592.858 Q65.8192 592.793 66.1413 591.73 Q66.4311 590.668 66.4311 587.705 L68.4601 587.705 Q68.2669 594.436 68.2669 595.08 Q68.2669 595.595 68.4601 602.551 L66.4311 602.551 Q66.4311 599.041 66.0124 598.236 Q65.5616 597.399 63.436 597.399 L48.0738 597.399 Q44.7244 597.399 42.7598 598.429 Q40.7631 599.46 40.7631 602.294 Q40.7631 605.708 43.6294 608.445 Q46.4957 611.183 51.3266 611.183 L63.436 611.183 Q65.5616 611.183 66.0124 610.377 Q66.4311 609.54 66.4311 606.03 L68.4601 606.03 Q68.2669 612.761 68.2669 613.437 Q68.2669 613.952 68.4601 620.877 L66.4311 620.877 Q66.4311 617.366 66.0124 616.561 Q65.5616 615.724 63.436 615.724 L48.0738 615.724 Q44.7244 615.724 42.7598 616.754 Q40.7631 617.785 40.7631 620.619 Q40.7631 624.033 43.6294 626.77 Q46.4957 629.508 51.3266 629.508 L63.436 629.508 Q65.5616 629.508 66.0124 628.703 Q66.4311 627.865 66.4311 624.387 L68.4601 624.387 Q68.2669 631.118 68.2669 631.762 Q68.2669 632.277 68.4601 639.202 Z\" fill=\"#000000\" fill-rule=\"evenodd\" fill-opacity=\"1\" /><path clip-path=\"url(#clip550)\" d=\"M83.4358 585.079 L83.4358 579.539 L20.5056 579.539 L20.5056 585.079 L18.9919 585.079 L18.9919 575.127 L84.9495 575.127 L84.9495 585.079 L83.4358 585.079 Z\" fill=\"#000000\" fill-rule=\"evenodd\" fill-opacity=\"1\" /><polyline clip-path=\"url(#clip553)\" style=\"stroke:#000000; stroke-linecap:butt; stroke-linejoin:round; stroke-width:4; stroke-opacity:1; fill:none\" points=\"\n",
       "  309.067,1384.24 313.035,1384.24 317.004,1384.24 320.972,1384.24 324.94,1384.24 328.909,1384.24 332.877,1384.24 336.845,1384.24 340.814,1384.24 344.782,1384.24 \n",
       "  348.75,1384.24 352.719,1384.24 356.687,1384.24 360.655,1384.24 364.624,1384.24 368.592,1384.24 372.56,1384.24 376.529,1384.24 380.497,1384.24 384.465,1384.24 \n",
       "  388.434,1384.24 392.402,1384.24 396.37,1384.24 400.338,1384.24 404.307,1384.24 408.275,1384.24 412.243,1384.24 416.212,1384.24 420.18,1384.24 424.148,1384.24 \n",
       "  428.117,1384.24 432.085,1384.24 436.053,1384.24 440.022,1384.24 443.99,1384.24 447.958,1384.24 451.927,1384.24 455.895,1384.24 459.863,1384.24 463.832,1384.24 \n",
       "  467.8,1384.24 471.768,1384.24 475.737,1384.24 479.705,1384.24 483.673,1384.24 487.642,1384.24 491.61,1384.24 495.578,1384.24 499.547,1384.24 503.515,1384.24 \n",
       "  507.483,1383.47 511.452,1309.3 515.42,1240.21 519.388,1176.47 523.357,1117.04 527.325,1061.05 531.293,1010.44 535.262,962.621 539.23,917.632 543.198,876.632 \n",
       "  547.167,836.994 551.135,801.372 555.103,766.735 559.072,735.222 563.04,705.19 567.008,676.593 570.977,650.825 574.945,625.057 578.913,602.107 582.882,580.261 \n",
       "  586.85,558.416 590.818,539.476 594.787,521.133 598.755,502.791 602.723,486.099 606.692,470.855 610.66,455.61 614.628,440.366 618.597,427.843 622.565,415.299 \n",
       "  626.533,402.755 630.502,390.455 634.47,380.274 638.438,370.092 642.407,359.91 646.375,349.729 650.343,340.472 654.311,332.328 658.28,324.184 662.248,316.039 \n",
       "  666.216,307.895 670.185,300.759 674.153,294.227 678.121,287.696 682.09,281.164 686.058,274.633 690.026,268.577 693.995,263.429 697.963,258.281 701.931,253.132 \n",
       "  705.9,247.984 709.868,242.836 713.836,238.005 717.805,234.004 721.773,230.003 725.741,226.003 729.71,222.002 733.678,218.001 737.646,214 741.615,210.35 \n",
       "  745.583,207.256 749.551,204.163 753.52,201.069 757.488,197.976 761.456,194.882 765.425,191.789 769.393,188.854 773.361,186.481 777.33,184.108 781.298,181.735 \n",
       "  785.266,179.362 789.235,176.989 793.203,174.616 797.171,172.243 801.14,170.001 805.108,168.193 809.076,166.386 813.045,164.578 817.013,162.77 820.981,160.963 \n",
       "  824.95,159.155 828.918,157.347 832.886,155.54 836.855,153.852 840.823,152.495 844.791,151.138 848.76,149.781 852.728,148.424 856.696,147.067 860.665,145.71 \n",
       "  864.633,144.353 868.601,142.996 872.57,141.639 876.538,140.359 880.506,139.348 884.475,138.338 888.443,137.327 892.411,136.316 896.38,135.305 900.348,134.295 \n",
       "  904.316,133.284 908.284,132.273 912.253,131.263 916.221,130.252 920.189,129.321 924.158,128.575 928.126,127.829 932.094,127.083 936.063,126.337 940.031,125.591 \n",
       "  943.999,124.845 947.968,124.099 951.936,123.353 955.904,122.608 959.873,121.862 963.841,121.116 967.809,120.262 971.778,119.72 975.746,119.178 979.714,118.636 \n",
       "  983.683,118.094 987.651,117.552 991.619,117.01 995.588,116.468 999.556,115.926 1003.52,115.384 1007.49,114.842 1011.46,114.3 1015.43,113.758 1019.4,113.216 \n",
       "  1023.37,112.652 1027.33,112.258 1031.3,111.864 1035.27,111.469 1039.24,111.075 1043.21,110.68 1047.18,110.286 1051.14,109.891 1055.11,109.497 1059.08,109.102 \n",
       "  1063.05,108.708 1067.02,108.313 1070.99,107.919 1074.95,107.525 1078.92,107.13 1082.89,106.757 1086.86,106.469 1090.83,106.181 1094.8,105.893 1098.76,105.605 \n",
       "  1102.73,105.317 1106.7,105.029 1110.67,104.741 1114.64,104.453 1118.61,104.166 1122.57,103.878 1126.54,103.59 1130.51,103.302 1134.48,103.014 1138.45,102.726 \n",
       "  1142.42,102.438 1146.38,102.124 1150.35,101.918 1154.32,101.712 1158.29,101.505 1162.26,101.299 1166.23,101.093 1170.19,100.887 1174.16,100.68 1178.13,100.474 \n",
       "  1182.1,100.268 1186.07,100.061 1190.04,99.855 1194,99.6487 1197.97,99.4424 1201.94,99.2361 1205.91,99.0298 1209.88,98.8235 1213.85,98.6172 1217.81,98.4109 \n",
       "  1221.78,98.1968 1225.75,98.0501 1229.72,97.9034 1233.69,97.7566 1237.66,97.6099 1241.62,97.4632 1245.59,97.3164 1249.56,97.1697 1253.53,97.023 1257.5,96.8762 \n",
       "  1261.47,96.7295 1265.43,96.5828 1269.4,96.436 1273.37,96.2893 1277.34,96.1426 1281.31,95.9958 1285.28,95.8491 1289.24,95.7024 1293.21,95.5557 1297.18,95.4089 \n",
       "  1301.15,95.2452 1305.12,95.1405 1309.09,95.0358 1313.05,94.9311 1317.02,94.8263 1320.99,94.7216 1324.96,94.6169 1328.93,94.5122 1332.9,94.4075 1336.86,94.3028 \n",
       "  1340.83,94.198 1344.8,94.0933 1348.77,93.9886 1352.74,93.8839 1356.71,93.7792 1360.67,93.6745 1364.64,93.5697 1368.61,93.465 1372.58,93.3603 1376.55,93.2556 \n",
       "  1380.52,93.1509 1384.48,93.0462 1388.45,92.9198 1392.42,92.8457 1396.39,92.7716 1400.36,92.6974 1404.33,92.6233 1408.29,92.5492 1412.26,92.4751 1416.23,92.401 \n",
       "  1420.2,92.3269 1424.17,92.2528 1428.14,92.1787 1432.1,92.1046 1436.07,92.0304 1440.04,91.9563 1444.01,91.8822 1447.98,91.8081 1451.95,91.734 1455.91,91.6599 \n",
       "  1459.88,91.5858 1463.85,91.5117 1467.82,91.4376 1471.79,91.3634 1475.76,91.2893 1479.72,91.2152 1483.69,91.1411 1487.66,91.0558 1491.63,91.0036 1495.6,90.9513 \n",
       "  1499.57,90.8991 1503.53,90.8469 1507.5,90.7946 1511.47,90.7424 1515.44,90.6901 1519.41,90.6379 1523.38,90.5857 1527.34,90.5334 1531.31,90.4812 1535.28,90.429 \n",
       "  1539.25,90.3767 1543.22,90.3245 1547.19,90.2723 1551.15,90.22 1555.12,90.1678 1559.09,90.1156 1563.06,90.0633 1567.03,90.0111 1571,89.9589 1574.96,89.9066 \n",
       "  1578.93,89.8544 1582.9,89.8021 1586.87,89.7499 1590.84,89.6977 1594.81,89.6454 1598.77,89.5954 1602.74,89.5587 1606.71,89.5221 1610.68,89.4854 1614.65,89.4488 \n",
       "  1618.62,89.4121 1622.58,89.3755 1626.55,89.3389 1630.52,89.3022 1634.49,89.2656 1638.46,89.2289 1642.43,89.1923 1646.39,89.1557 1650.36,89.119 1654.33,89.0824 \n",
       "  1658.3,89.0457 1662.27,89.0091 1666.24,88.9724 1670.2,88.9358 1674.17,88.8992 1678.14,88.8625 1682.11,88.8259 1686.08,88.7892 1690.05,88.7526 1694.01,88.7159 \n",
       "  1697.98,88.6793 1701.95,88.6427 1705.92,88.606 1709.89,88.5694 1713.86,88.5327 1717.82,88.4961 1721.79,88.4735 1725.76,88.4479 1729.73,88.4224 1733.7,88.3968 \n",
       "  1737.67,88.3713 1741.63,88.3458 1745.6,88.3202 1749.57,88.2947 1753.54,88.2691 1757.51,88.2436 1761.48,88.2181 1765.44,88.1925 1769.41,88.167 1773.38,88.1414 \n",
       "  1777.35,88.1159 1781.32,88.0904 1785.28,88.0648 1789.25,88.0393 1793.22,88.0137 1797.19,87.9882 1801.16,87.9627 1805.13,87.9371 1809.09,87.9116 1813.06,87.886 \n",
       "  1817.03,87.8605 1821,87.835 1824.97,87.8094 1828.94,87.7839 1832.9,87.7583 1836.87,87.7328 1840.84,87.7073 1844.81,87.6817 1848.78,87.6562 1852.75,87.6306 \n",
       "  1856.71,87.6046 1860.68,87.5871 1864.65,87.5696 1868.62,87.5521 1872.59,87.5346 1876.56,87.5171 1880.52,87.4995 1884.49,87.482 1888.46,87.4645 1892.43,87.447 \n",
       "  1896.4,87.4295 1900.37,87.412 1904.33,87.3945 1908.3,87.377 1912.27,87.3595 1916.24,87.342 1920.21,87.3245 1924.18,87.307 1928.14,87.2895 1932.11,87.272 \n",
       "  1936.08,87.2545 1940.05,87.237 1944.02,87.2195 1947.99,87.202 1951.95,87.1845 1955.92,87.167 1959.89,87.1495 1963.86,87.132 1967.83,87.1145 1971.8,87.097 \n",
       "  1975.76,87.0795 1979.73,87.062 1983.7,87.0445 1987.67,87.027 1991.64,87.0095 1995.61,86.992 1999.57,86.9745 2003.54,86.9535 2007.51,86.9413 2011.48,86.9292 \n",
       "  2015.45,86.9171 2019.42,86.9049 2023.38,86.8928 2027.35,86.8807 2031.32,86.8686 2035.29,86.8564 2039.26,86.8443 2043.23,86.8322 2047.19,86.82 2051.16,86.8079 \n",
       "  2055.13,86.7958 2059.1,86.7836 2063.07,86.7715 2067.04,86.7594 2071,86.7473 2074.97,86.7351 2078.94,86.723 2082.91,86.7109 2086.88,86.6987 2090.85,86.6866 \n",
       "  2094.81,86.6745 2098.78,86.6623 2102.75,86.6502 2106.72,86.6381 2110.69,86.626 2114.66,86.6138 2118.62,86.6017 2122.59,86.5896 2126.56,86.5774 2130.53,86.5653 \n",
       "  2134.5,86.5532 2138.47,86.541 2142.43,86.5289 2146.4,86.5168 2150.37,86.5047 2154.34,86.4925 2158.31,86.4804 2162.28,86.4683 2166.24,86.4561 2170.21,86.4446 \n",
       "  2174.18,86.4363 2178.15,86.4279 2182.12,86.4196 2186.09,86.4112 2190.05,86.4029 2194.02,86.3945 2197.99,86.3862 2201.96,86.3778 2205.93,86.3695 2209.9,86.3611 \n",
       "  2213.86,86.3527 2217.83,86.3444 2221.8,86.336 2225.77,86.3277 2229.74,86.3193 2233.71,86.311 2237.67,86.3026 2241.64,86.2943 2245.61,86.2859 2249.58,86.2776 \n",
       "  2253.55,86.2692 2257.52,86.2609 2261.48,86.2525 2265.45,86.2441 2269.42,86.2358 2273.39,86.2274 2277.36,86.2191 2281.33,86.2107 2285.29,86.2024 2289.26,86.194 \n",
       "  2293.23,86.1857 \n",
       "  \"/>\n",
       "</svg>\n"
      ]
     },
     "execution_count": 10,
     "metadata": {},
     "output_type": "execute_result"
    }
   ],
   "source": [
    "plot(x * 1e2, Eline * 1e-5, color = :black, legend = :false, xlabel = L\"x\\,\\mathrm{[cm]}\", ylabel = L\"|E|\\,\\mathrm{[kV/cm]}\")"
   ]
  },
  {
   "cell_type": "markdown",
   "id": "difficult-occurrence",
   "metadata": {},
   "source": [
    "In the corners, the field becomes zero"
   ]
  },
  {
   "cell_type": "markdown",
   "id": "robust-validity",
   "metadata": {},
   "source": [
    "# Export to VTK"
   ]
  },
  {
   "cell_type": "code",
   "execution_count": 12,
   "id": "armed-memorial",
   "metadata": {},
   "outputs": [
    {
     "data": {
      "text/plain": [
       "([\"fieldenh_hemisphere.vtu\"],)"
      ]
     },
     "execution_count": 12,
     "metadata": {},
     "output_type": "execute_result"
    }
   ],
   "source": [
    "writevtk(Ω,\"fieldenh_hemisphere\", cellfields=[\"uh\" => uh, \"E\" => E])"
   ]
  },
  {
   "cell_type": "markdown",
   "id": "cellular-coalition",
   "metadata": {},
   "source": [
    "![ParaView](figures/fieldenh_hemisphere.png)"
   ]
  }
 ],
 "metadata": {
  "kernelspec": {
   "display_name": "Julia 1.7.1",
   "language": "julia",
   "name": "julia-1.7"
  },
  "language_info": {
   "file_extension": ".jl",
   "mimetype": "application/julia",
   "name": "julia",
   "version": "1.7.1"
  }
 },
 "nbformat": 4,
 "nbformat_minor": 5
}
